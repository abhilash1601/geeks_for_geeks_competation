{
 "cells": [
  {
   "cell_type": "code",
   "execution_count": null,
   "id": "0366ef43",
   "metadata": {},
   "outputs": [],
   "source": [
    "from bs4 import BeautifulSoup\n",
    "from selenium import webdriver\n",
    "from selenium.webdriver.common.by import By\n",
    "from selenium.webdriver.common.keys import Keys\n",
    "import time\n",
    "import requests\n",
    "from bs4 import BeautifulSoup"
   ]
  },
  {
   "cell_type": "markdown",
   "id": "08c13ecc",
   "metadata": {},
   "source": [
    "## Geeks for Geeks\n",
    "### Problem 2: Geeksforgeeks Data analysis\n",
    "### Scrape the Geeksforgeeks youtube channel videos of the past 6 months' dataset\n",
    "\n",
    "#### Submitted by Abhilash V A - 9880507105 - aabhilash070@gmail.com"
   ]
  },
  {
   "cell_type": "markdown",
   "id": "2c49dea9",
   "metadata": {},
   "source": [
    "#### Scraping the geeks for geeks youtube page and collection the data"
   ]
  },
  {
   "cell_type": "code",
   "execution_count": 2,
   "id": "4e3cc116",
   "metadata": {},
   "outputs": [
    {
     "name": "stderr",
     "output_type": "stream",
     "text": [
      "<ipython-input-2-2a7a6b39d00f>:2: DeprecationWarning: executable_path has been deprecated, please pass in a Service object\n",
      "  driver = webdriver.Chrome(executable_path=driver_path)\n"
     ]
    },
    {
     "name": "stdout",
     "output_type": "stream",
     "text": [
      "{'title': 'React Complete Tutorial 2023 | Part #7 - Context API in React JS | useContext Hook | @SCALER', 'url': 'https://www.youtube.com/watch?v=d12-2ogFtGs', 'text': 'React Complete Tutorial 2023 | Part #7 - Context API in React JS | useContext Hook | @SCALER by SCALER 10 hours ago 1 hour, 7 minutes 451 views', 'date_data': '451 views  Premiered 10 hours ago  #reactjs #webdevelopment #react'}\n",
      "-----------------------------------------------\n",
      "{'title': 'How to Optimize Your LinkedIn Profile & Resume | CV Building Tips & Tricks | Resume Review |@SCALER', 'url': 'https://www.youtube.com/watch?v=d3Immi3OGOE', 'text': 'How to Optimize Your LinkedIn Profile & Resume | CV Building Tips & Tricks  | Resume Review |@SCALER by SCALER 1 day ago 1 hour, 52 minutes 1,469 views', 'date_data': '1,488 views  Premiered Aug 5, 2023  #linkedin #softwareengineering #scaler'}\n",
      "-----------------------------------------------\n",
      "{'title': 'How to Land a Tech Job in 2023? | Product Vs Service Vs Startup | Resume Optimization | @SCALER', 'url': 'https://www.youtube.com/watch?v=u83usrNFDwE', 'text': 'How to Land a Tech Job in 2023? | Product Vs Service Vs Startup | Resume Optimization | @SCALER by SCALER 3 days ago 24 minutes 1,723 views', 'date_data': '1,723 views  Premiered Aug 3, 2023  #softwaredevelopment #softwareengineering #scaler'}\n",
      "-----------------------------------------------\n",
      "{'title': 'React Complete Tutorial 2023 | Part #6 - React Hooks | useMemo, useCallback and More @SCALER', 'url': 'https://www.youtube.com/watch?v=urXq9tib6So', 'text': 'React Complete Tutorial 2023 | Part #6 - React Hooks | useMemo, useCallback and More  @SCALER\\u200b by SCALER 5 days ago 1 hour, 21 minutes 810 views', 'date_data': '810 views  Premiered Aug 1, 2023  #reactjs #webdevelopment #react'}\n",
      "-----------------------------------------------\n",
      "{'title': 'Work-Life Balance or Higher Pay? | Techies Answer Your Software Engineering FAQs | @SCALER', 'url': 'https://www.youtube.com/watch?v=YJPX3lZph7g', 'text': 'Work-Life Balance or Higher Pay? | Techies Answer Your Software Engineering FAQs | @SCALER by SCALER 7 days ago 45 minutes 2,888 views', 'date_data': '2,888 views  Premiered Jul 30, 2023  #redhat #softwareengineering #google'}\n",
      "-----------------------------------------------\n",
      "{'title': 'React Complete Tutorial 2023 | Part #5 - Admin Dashboard and Tailwind CSS in React JS | @SCALER', 'url': 'https://www.youtube.com/watch?v=xil7_oZ83xM', 'text': 'React Complete Tutorial 2023 | Part #5 - Admin Dashboard and Tailwind CSS in React JS | @SCALER by SCALER 9 days ago 1 hour, 27 minutes 1,047 views', 'date_data': '1,047 views  Premiered Jul 28, 2023  Web Development'}\n",
      "-----------------------------------------------\n",
      "{'title': 'Complete Guide to Learn Any Programming Language for Beginners | C++, Java, Python & More | @SCALER', 'url': 'https://www.youtube.com/watch?v=pDpkKQx-guo', 'text': 'Complete Guide to Learn Any Programming Language for Beginners | C++, Java, Python & More | @SCALER by SCALER 11 days ago 18 minutes 7,879 views', 'date_data': '7,879 views  Premiered Jul 26, 2023  #saumyasingh #softwaredeveloper #programming'}\n",
      "-----------------------------------------------\n",
      "{'title': 'SCALER City Club Welcomes You, Chennai | Coding Community | Vanakkam Techies | @SCALER', 'url': 'https://www.youtube.com/watch?v=C4h3WkGjUmk', 'text': 'SCALER City Club Welcomes You, Chennai | Coding Community | Vanakkam Techies | @SCALER by SCALER 12 days ago 1 minute, 36 seconds 93,251 views', 'date_data': '93,251 views  Premiered Jul 25, 2023  #chennai #SCALER #community'}\n",
      "-----------------------------------------------\n",
      "{'title': 'You Can Always Start From Zero in Tech Ft. Avinash Alicatta - SDE, Xogene | Behind The Win | @SCALER', 'url': 'https://www.youtube.com/watch?v=4P2z7Ga0NVo', 'text': 'You Can Always Start From Zero in Tech Ft. Avinash Alicatta - SDE, Xogene | Behind The Win | @SCALER by SCALER 2 weeks ago 4 minutes, 31 seconds 2,258 views', 'date_data': '2,257 views  Jul 23, 2023  #softwaredeveloper #softwareengineering #scaler'}\n",
      "-----------------------------------------------\n",
      "{'title': 'React Complete Tutorial 2023 | Part #4 - Thinking & Styling in React JS | CSS | @SCALER', 'url': 'https://www.youtube.com/watch?v=TY3R37srzYU', 'text': 'React Complete Tutorial 2023 | Part #4 - Thinking & Styling in React JS | CSS | @SCALER by SCALER 2 weeks ago 43 minutes 849 views', 'date_data': '849 views  Premiered Jul 22, 2023  Web Development'}\n",
      "-----------------------------------------------\n",
      "{'title': 'How I Upskilled With the Right Mentorship Ft. Manideep Siva, SDE II, Slice | Behind the Win |@SCALER', 'url': 'https://www.youtube.com/watch?v=3lCE8C8sA5Y', 'text': 'How I Upskilled With the Right Mentorship Ft. Manideep Siva, SDE II, Slice | Behind the Win |@SCALER by SCALER 2 weeks ago 4 minutes, 29 seconds 1,029 views', 'date_data': '1,029 views  Premiered Jul 21, 2023  #softwaredevelopment #softwareengineering #scaler'}\n",
      "-----------------------------------------------\n",
      "{'title': 'Data Structures & Algorithms Interview Questions and Answers for Beginners | DSA | @SCALER', 'url': 'https://www.youtube.com/watch?v=m1SYAW3H-lM', 'text': 'Data Structures & Algorithms Interview Questions and Answers for Beginners | DSA | @SCALER by SCALER 2 weeks ago 56 minutes 2,550 views', 'date_data': '2,550 views  Premiered Jul 20, 2023  Data Structure and Algorithms'}\n",
      "-----------------------------------------------\n",
      "{'title': 'React Complete Tutorial 2023 | Part #3 - Create Forms in React JS | Routing & Data Fetching @SCALER', 'url': 'https://www.youtube.com/watch?v=zd_RQDML87M', 'text': 'React Complete Tutorial 2023 | Part #3 - Create Forms in React JS | Routing & Data Fetching @SCALER by SCALER 2 weeks ago 1 hour, 33 minutes 1,334 views', 'date_data': '1,335 views  Premiered Jul 18, 2023  Web Development'}\n",
      "-----------------------------------------------\n",
      "{'title': 'Full Stack Web Development Complete Course 2023 | HTML, JavaScript, Node JS, MongoDB, Heroku@SCALER', 'url': 'https://www.youtube.com/watch?v=yjmfoR2LSRM', 'text': 'Full Stack Web Development Complete Course 2023 | HTML, JavaScript, Node JS, MongoDB, Heroku@SCALER by SCALER 3 weeks ago 10 hours, 58 minutes 4,209 views', 'date_data': '4,209 views  Premiered Jul 15, 2023  Web Development'}\n",
      "-----------------------------------------------\n",
      "{'title': 'Hashing Tutorial in Java 2023 | Hash Tables | Hash Functions | Rehashing | DSA | HashMaps | @SCALER', 'url': 'https://www.youtube.com/watch?v=cIVoWe7flH8', 'text': 'Hashing Tutorial in Java 2023 | Hash Tables | Hash Functions | Rehashing | DSA | HashMaps | @SCALER by SCALER 3 weeks ago 58 minutes 1,767 views', 'date_data': '1,767 views  Premiered Jul 13, 2023  Data Structures and Algorithms Complete Tutorial | DS Algo | Java | Stack, Queue, Linked List, Array | Ft. Prateek Narang, SWE & Instructor, SCALER'}\n",
      "-----------------------------------------------\n",
      "{'title': 'I will Solve at least One Problem Every Day Ft. Aswin Ravi, SDE II, Microsoft | @SCALER', 'url': 'https://www.youtube.com/watch?v=dzqNMkSehHE', 'text': 'I will Solve at least One Problem Every Day Ft. Aswin Ravi, SDE II, Microsoft | @SCALER by SCALER 3 weeks ago 5 minutes, 52 seconds 660,009 views', 'date_data': '660,011 views  Jul 12, 2023  #datascience #machinelearning #softwareengineering'}\n",
      "-----------------------------------------------\n",
      "{'title': 'Full Stack Web Development Projects | Notes App | Deploying with Vercel & Heroku | NodeJS | @SCALER', 'url': 'https://www.youtube.com/watch?v=5tTItj2qxk4', 'text': 'Full Stack Web Development Projects | Notes App | Deploying with Vercel & Heroku | NodeJS | @SCALER by SCALER 3 weeks ago 3 hours, 5 minutes 1,647 views', 'date_data': '1,647 views  Premiered Jul 11, 2023  Web Development'}\n",
      "-----------------------------------------------\n",
      "{'title': \"Ex - Amazon & Google Shares his Journey | Rippling's Tech Culture | Shiva Chinnasamy | SCALER POD 19\", 'url': 'https://www.youtube.com/watch?v=KTv_YW2AMG0', 'text': \"Ex - Amazon & Google Shares his Journey | Rippling's Tech Culture | Shiva Chinnasamy | SCALER POD 19 by SCALER 4 weeks ago 1 hour, 44 minutes 4,700 views\", 'date_data': '4,700 views  Premiered Jul 8, 2023  Scaler Pod'}\n",
      "-----------------------------------------------\n"
     ]
    },
    {
     "name": "stdout",
     "output_type": "stream",
     "text": [
      "{'title': 'React Complete Tutorial 2023 | Part #2 - Create React App | Production, Deployment, Testing @SCALER', 'url': 'https://www.youtube.com/watch?v=_jsItD72kac', 'text': 'React Complete Tutorial 2023 | Part #2 - Create React App | Production, Deployment, Testing @SCALER\\u200b by SCALER 1 month ago 1 hour, 20 minutes 1,400 views', 'date_data': '1,400 views  Premiered Jul 6, 2023  Web Development'}\n",
      "-----------------------------------------------\n",
      "{'title': 'DBMS and SQL for Beginners 2023 | Interview Questions & Answers | Database Management System @SCALER', 'url': 'https://www.youtube.com/watch?v=qLksMoAUUfc', 'text': 'DBMS and SQL for Beginners 2023 | Interview Questions & Answers | Database Management System @SCALER by SCALER 1 month ago 41 minutes 2,727 views', 'date_data': '2,727 views  Premiered Jul 4, 2023  DBMS'}\n",
      "-----------------------------------------------\n",
      "{'title': 'React Complete Tutorial 2023 | Part #1 - Introduction to React JS | Web Dev | JavaScript | @SCALER', 'url': 'https://www.youtube.com/watch?v=uO0dXCKXPYQ', 'text': 'React Complete Tutorial 2023 | Part #1 - Introduction to React JS | Web Dev | JavaScript | @SCALER by SCALER 1 month ago 46 minutes 2,138 views', 'date_data': '2,138 views  Premiered Jul 1, 2023  #programming #softwareengineering #webdevelopment'}\n",
      "-----------------------------------------------\n",
      "{'title': 'Backend Development Complete Course 2023 | Web Dev Tutorial | NodeJS | MongoDB | APIs | @SCALER', 'url': 'https://www.youtube.com/watch?v=IoYruQdRTrs', 'text': 'Backend Development Complete Course 2023 | Web Dev Tutorial | NodeJS | MongoDB | APIs | @SCALER by SCALER 1 month ago 3 hours, 15 minutes 3,702 views', 'date_data': '3,702 views  Premiered Jun 29, 2023  Web Development'}\n",
      "-----------------------------------------------\n",
      "{'title': 'Binary Search Tree Tutorial in Java For Beginners | Tree Data Structure | DS Algo Course @SCALER', 'url': 'https://www.youtube.com/watch?v=8p0oh91YsnA', 'text': 'Binary Search Tree Tutorial in Java For Beginners | Tree Data Structure | DS Algo Course @SCALER by SCALER 1 month ago 58 minutes 1,980 views', 'date_data': '1,981 views  Premiered Jun 27, 2023  Data Structures and Algorithms Complete Tutorial | DS Algo | Java | Stack, Queue, Linked List, Array | Ft. Prateek Narang, SWE & Instructor, SCALER'}\n",
      "-----------------------------------------------\n",
      "{'title': 'Burnout, Taking Breaks & Engg. Management | Siddharth Sharma, Ex - CTO, @shaadicom | SCALER POD 18', 'url': 'https://www.youtube.com/watch?v=3iajCJXKlMs', 'text': 'Burnout, Taking Breaks & Engg. Management | Siddharth Sharma, Ex - CTO, @shaadicom  | SCALER POD 18 by SCALER 1 month ago 1 hour, 43 minutes 7,742 views', 'date_data': '7,739 views  Premiered Jun 24, 2023  Scaler Pod'}\n",
      "-----------------------------------------------\n",
      "{'title': 'JavaScript Complete Tutorial for Beginners 2023 | Scratch to Advanced | Web Development | @SCALER', 'url': 'https://www.youtube.com/watch?v=3fKYgdwtDxA', 'text': 'JavaScript Complete Tutorial for Beginners 2023 | Scratch to Advanced | Web Development | @SCALER by SCALER 1 month ago 5 hours, 24 minutes 5,674 views', 'date_data': '5,677 views  Premiered Jun 22, 2023  Scaler Full Courses'}\n",
      "-----------------------------------------------\n",
      "{'title': 'Web Development Full Course | Module 7 - Deploying a Web Application | CI/CD | Heroku | @SCALER', 'url': 'https://www.youtube.com/watch?v=5qYq5P1MirA', 'text': 'Web Development Full Course | Module 7 - Deploying a Web Application | CI/CD | Heroku | @SCALER by SCALER 1 month ago 1 hour, 19 minutes 1,396 views', 'date_data': '1,397 views  Premiered Jun 20, 2023  Web Development'}\n",
      "-----------------------------------------------\n",
      "{'title': 'Frontend Web Development Complete Tutorial | HTML, CSS & JavaScript | Git & Github | DOM | @SCALER', 'url': 'https://www.youtube.com/watch?v=I_J_57IyX-w', 'text': 'Frontend Web Development Complete Tutorial | HTML, CSS & JavaScript | Git & Github | DOM | @SCALER by SCALER 1 month ago 4 hours, 41 minutes 3,366 views', 'date_data': '3,366 views  Premiered Jun 18, 2023  Web Development'}\n",
      "-----------------------------------------------\n",
      "{'title': 'Binary Tree in Data Structures Tutorial in Java | Tree Traversal | Recursive & Iterative | @SCALER', 'url': 'https://www.youtube.com/watch?v=qH-9dhptjXE', 'text': 'Binary Tree in Data Structures Tutorial in Java | Tree Traversal | Recursive & Iterative | @SCALER by SCALER 1 month ago 1 hour, 5 minutes 2,401 views', 'date_data': '2,401 views  Premiered Jun 17, 2023  Data Structures and Algorithms Complete Tutorial | DS Algo | Java | Stack, Queue, Linked List, Array | Ft. Prateek Narang, SWE & Instructor, SCALER'}\n",
      "-----------------------------------------------\n",
      "{'title': 'Automating Tasks on Google Sheets using Google Apps Script | Application Development | API |@SCALER', 'url': 'https://www.youtube.com/watch?v=9mTu2ZWWYxc', 'text': 'Automating Tasks on Google Sheets using Google Apps Script | Application Development | API |@SCALER\\u200b by SCALER 1 month ago 1 hour, 5 minutes 1,267 views', 'date_data': '1,267 views  Premiered Jun 15, 2023'}\n",
      "-----------------------------------------------\n",
      "{'title': 'Web Development Full Course | Module 6 - Full Stack Project | Notes App | JavaScript | @SCALER', 'url': 'https://www.youtube.com/watch?v=asMdnq2S5MM', 'text': 'Web Development Full Course | Module 6 - Full Stack Project | Notes App | JavaScript | @SCALER by SCALER 1 month ago 1 hour, 46 minutes 1,739 views', 'date_data': '1,739 views  Premiered Jun 13, 2023  Web Development'}\n",
      "-----------------------------------------------\n",
      "{'title': 'Web Development Full Course | Module 5 - Advanced Backend Development | Node.js | Expressjs @SCALER', 'url': 'https://www.youtube.com/watch?v=ukFZ-D2mn6E', 'text': 'Web Development Full Course | Module 5 - Advanced Backend Development | Node.js | Expressjs @SCALER\\u200b by SCALER 1 month ago 1 hour, 43 minutes 1,969 views', 'date_data': '1,970 views  Premiered Jun 11, 2023  Web Development'}\n",
      "-----------------------------------------------\n",
      "{'title': 'Scaling up Engineering Teams | Learnings from Thoughtworks, GoJek | Ranjan Sakalley | SCALER POD 17', 'url': 'https://www.youtube.com/watch?v=8Kazdjpf7oI', 'text': 'Scaling up Engineering Teams | Learnings from Thoughtworks, GoJek | Ranjan Sakalley | SCALER POD 17 by SCALER 1 month ago 1 hour, 46 minutes 5,735 views', 'date_data': '5,735 views  Premiered Jun 10, 2023  Scaler Pod'}\n",
      "-----------------------------------------------\n",
      "{'title': 'SCALER City Club Welcomes You, Noida | Coding Community | @SCALER', 'url': 'https://www.youtube.com/watch?v=b4cZNUo0Sww', 'text': 'SCALER City Club Welcomes You, Noida | Coding Community | @SCALER by SCALER 1 month ago 3 minutes, 12 seconds 1,473 views', 'date_data': '1,473 views  Jun 9, 2023  #SCALER #devcommunity'}\n",
      "-----------------------------------------------\n",
      "{'title': 'Is the Software Engineering Industry Actually Future-proof? | Software Development | @SCALER', 'url': 'https://www.youtube.com/watch?v=S7YNE9WJ860', 'text': 'Is the Software Engineering Industry Actually Future-proof? | Software Development | @SCALER by SCALER 1 month ago 12 minutes, 57 seconds 3,361 views', 'date_data': '3,368 views  Premiered Jun 8, 2023  #softwaredevelopment #softwareengineering #scaler'}\n",
      "-----------------------------------------------\n",
      "{'title': 'Web Development Full Course | Module 4 - Backend Development Basics Complete Tutorial | @SCALER', 'url': 'https://www.youtube.com/watch?v=u_z9Wb7MI2I', 'text': 'Web Development Full Course | Module 4 - Backend Development Basics Complete Tutorial | @SCALER by SCALER 2 months ago 1 hour, 32 minutes 2,411 views', 'date_data': '2,411 views  Premiered Jun 6, 2023  Web Development'}\n",
      "-----------------------------------------------\n",
      "{'title': 'DS Algo Full Course with Interview Questions and Answers 2023 | Linked List Complete Course @SCALER', 'url': 'https://www.youtube.com/watch?v=lh6XIgFQd9A', 'text': 'DS Algo Full Course with Interview Questions and Answers 2023 | Linked List Complete Course  @SCALER by SCALER 2 months ago 11 hours, 7 minutes 9,130 views', 'date_data': '9,130 views  Premiered Jun 4, 2023  Data Structures and Algorithms Complete Tutorial | DS Algo | Java | Stack, Queue, Linked List, Array | Ft. Prateek Narang, SWE & Instructor, SCALER'}\n",
      "-----------------------------------------------\n"
     ]
    },
    {
     "name": "stdout",
     "output_type": "stream",
     "text": [
      "{'title': 'Python Pandas for Data Science Tutorial for Beginners | Data Manipulation | Python Library | @SCALER', 'url': 'https://www.youtube.com/watch?v=-swmCkRJ80g', 'text': 'Python Pandas for Data Science Tutorial for Beginners | Data Manipulation | Python Library | @SCALER by SCALER 2 months ago 1 hour, 8 minutes 1,708 views', 'date_data': '1,708 views  Premiered Jun 1, 2023  Python Tutorials'}\n",
      "-----------------------------------------------\n",
      "{'title': 'Queue in Data Structure Course 2023 | Data Structures and Algorithm | FIFO Principle | @SCALER', 'url': 'https://www.youtube.com/watch?v=pOoYDawChGk', 'text': 'Queue in Data Structure Course 2023 | Data Structures and Algorithm | FIFO Principle | @SCALER by SCALER 2 months ago 47 minutes 1,483 views', 'date_data': '1,483 views  Premiered May 30, 2023  Data Structures and Algorithms Complete Tutorial | DS Algo | Java | Stack, Queue, Linked List, Array | Ft. Prateek Narang, SWE & Instructor, SCALER'}\n",
      "-----------------------------------------------\n",
      "{'title': 'Web Development Full Course | Module 3 - JavaScript | Frontend Development | DOM | @SCALER', 'url': 'https://www.youtube.com/watch?v=EUOzceK0OuI', 'text': 'Web Development Full Course | Module 3 - JavaScript | Frontend Development | DOM | @SCALER by SCALER 2 months ago 1 hour, 39 minutes 2,077 views', 'date_data': '2,079 views  Premiered May 28, 2023  Web Development'}\n",
      "-----------------------------------------------\n",
      "{'title': 'How CleverTap Handles Millions of Users during IPL for Dream11, MPL, Jio & more | SCALER POD 16', 'url': 'https://www.youtube.com/watch?v=VFjNzuqgOuU', 'text': 'How CleverTap Handles Millions of Users during IPL for Dream11, MPL, Jio & more | SCALER POD 16 by SCALER 2 months ago 1 hour, 5 minutes 5,785 views', 'date_data': '5,787 views  Premiered May 27, 2023  Scaler Pod'}\n",
      "-----------------------------------------------\n",
      "{'title': 'Comparing Different SQL Platforms | MySQL | PostgreSQL | MongoDB | SQLite | Oracle | MS SQL @SCALER', 'url': 'https://www.youtube.com/watch?v=65VNafnZmmg', 'text': 'Comparing Different SQL Platforms | MySQL | PostgreSQL | MongoDB | SQLite | Oracle | MS SQL @SCALER by SCALER 2 months ago 58 minutes 1,599 views', 'date_data': '1,599 views  Premiered May 25, 2023  SQL Tutorial'}\n",
      "-----------------------------------------------\n",
      "{'title': 'Web Development Full Course | Module 2 - HTML & CSS | Frontend Development | Box Model | @SCALER', 'url': 'https://www.youtube.com/watch?v=bFPITZTBpAM', 'text': 'Web Development Full Course | Module 2 - HTML & CSS | Frontend Development | Box Model | @SCALER\\u200b by SCALER 2 months ago 1 hour, 38 minutes 2,096 views', 'date_data': '2,098 views  Premiered May 23, 2023  Web Development'}\n",
      "-----------------------------------------------\n",
      "{'title': 'Linked List in Data Structure Tutorial 2023 | Singly & Doubly Linked List | DS Algo | @SCALER', 'url': 'https://www.youtube.com/watch?v=dO_3dzCntbg', 'text': 'Linked List in Data Structure Tutorial 2023 | Singly & Doubly Linked List | DS Algo | @SCALER by SCALER 2 months ago 1 hour, 8 minutes 2,377 views', 'date_data': '2,378 views  Premiered May 22, 2023  Data Structures and Algorithms Complete Tutorial | DS Algo | Java | Stack, Queue, Linked List, Array | Ft. Prateek Narang, SWE & Instructor, SCALER'}\n",
      "-----------------------------------------------\n",
      "{'title': 'Web Development Full Course | Module 1 - Basics | Web Dev Complete Roadmap | Git | VScode | @SCALER', 'url': 'https://www.youtube.com/watch?v=QapRxSgRQdw', 'text': 'Web Development Full Course | Module 1 - Basics | Web Dev Complete Roadmap | Git | VScode | @SCALER by SCALER 2 months ago 1 hour, 28 minutes 4,574 views', 'date_data': '4,575 views  Premiered May 21, 2023  Web Development Complete Course | Full Stack Development | HTML | CSS | JavaScript | MongoDB | Node JS | AWS | Projects | SCALER'}\n",
      "-----------------------------------------------\n",
      "{'title': 'Stack in Data Structure Tutorial 2023 | Introduction to Stacks | DS Algo | Dynamic Stack | @SCALER', 'url': 'https://www.youtube.com/watch?v=HsRfdSPB7mk', 'text': 'Stack in Data Structure Tutorial 2023 | Introduction to Stacks | DS Algo | Dynamic Stack | @SCALER by SCALER 2 months ago 29 minutes 1,607 views', 'date_data': '1,608 views  Premiered May 20, 2023  Data Structures and Algorithms Complete Tutorial | DS Algo | Java | Stack, Queue, Linked List, Array | Ft. Prateek Narang, SWE & Instructor, SCALER'}\n",
      "-----------------------------------------------\n",
      "{'title': 'Data Analysis with Python Complete Tutorial 2023 | Data Analyst Career Path | Data Science | @SCALER', 'url': 'https://www.youtube.com/watch?v=ho4CQY6UAZQ', 'text': 'Data Analysis with Python Complete Tutorial 2023 | Data Analyst Career Path | Data Science | @SCALER by SCALER 2 months ago 9 hours, 24 minutes 6,364 views', 'date_data': '6,364 views  Premiered May 18, 2023  #dataanalytics #python #datascience'}\n",
      "-----------------------------------------------\n",
      "{'title': 'Advanced SQL Full Tutorial | SQL Subqueries | Structured Query Language | Windows Function | #SCALER', 'url': 'https://www.youtube.com/watch?v=dQ7l9k7A_nY', 'text': 'Advanced SQL Full Tutorial | SQL Subqueries | Structured Query Language | Windows Function | #SCALER by SCALER 2 months ago 54 minutes 2,711 views', 'date_data': '2,711 views  Premiered May 16, 2023  DBMS'}\n",
      "-----------------------------------------------\n",
      "{'title': 'How to Build a Successful Startup? | Funding Insights from VC Rajiv Srivatsa, Antler | SCALER POD 15', 'url': 'https://www.youtube.com/watch?v=u7UhWVfrN_o', 'text': 'How to Build a Successful Startup? | Funding Insights from VC Rajiv Srivatsa, Antler | SCALER POD 15 by SCALER 2 months ago 1 hour, 27 minutes 4,110 views', 'date_data': '4,111 views  Premiered May 14, 2023  Scaler Pod'}\n",
      "-----------------------------------------------\n",
      "{'title': 'Excel Shortcuts Complete Tutorial 2023 | Excel Full Course | Pivot Table | Lookup | Macros | @SCALER', 'url': 'https://www.youtube.com/watch?v=_Bct84Zol8Q', 'text': 'Excel Shortcuts Complete Tutorial 2023 | Excel Full Course | Pivot Table | Lookup | Macros | @SCALER by SCALER 2 months ago 1 hour, 44 minutes 1,845 views', 'date_data': '1,845 views  Premiered May 11, 2023  #datascience #msexcel #scaler'}\n",
      "-----------------------------------------------\n",
      "{'title': 'System Design of Tinder | High Level Design of Dating Applications | Software Architecture @SCALER', 'url': 'https://www.youtube.com/watch?v=WI-8Q_XoTrA', 'text': 'System Design of Tinder | High Level Design of Dating Applications | Software Architecture  @SCALER\\u200b by SCALER 2 months ago 58 minutes 15,534 views', 'date_data': '15,534 views  Premiered May 9, 2023  System Design'}\n",
      "-----------------------------------------------\n",
      "{'title': 'Google Cloud Platform Full Course 2023 | GCP Tutorial | VPC | Compute Engine | Cloud SQL | @SCALER', 'url': 'https://www.youtube.com/watch?v=fZOz13joN0o', 'text': 'Google Cloud Platform Full Course 2023 | GCP Tutorial | VPC | Compute Engine | Cloud SQL | @SCALER by SCALER 2 months ago 5 hours, 30 minutes 12,159 views', 'date_data': '12,157 views  Premiered May 7, 2023  Google Cloud Platform Complete Tutorial [2023] with Hands-on | Compute Engine | Cloud Storage | VPC | Cloud SQL | Virtual Machines | SCALER'}\n",
      "-----------------------------------------------\n",
      "{'title': \"Rahul Chari, Founder & CTO, @PhonePe_ | UPI & India's Digital Payments Revolution | SCALER POD 14\", 'url': 'https://www.youtube.com/watch?v=oF5KB-INikc', 'text': \"Rahul Chari, Founder & CTO, @PhonePe_ | UPI & India's Digital Payments Revolution | SCALER POD 14 by SCALER 3 months ago 1 hour, 30 minutes 15,058 views\", 'date_data': '15,054 views  Premiered May 6, 2023  Scaler Pod'}\n",
      "-----------------------------------------------\n",
      "{'title': 'Arrays in Java Full Tutorial 2023 | Dynamic Arrays Tutorial | ArrayList & Jagged Array | DSA @SCALER', 'url': 'https://www.youtube.com/watch?v=6t-QoC2hkWw', 'text': 'Arrays in Java Full Tutorial 2023 | Dynamic Arrays Tutorial | ArrayList & Jagged Array | DSA @SCALER by SCALER 3 months ago 1 hour, 22 minutes 2,621 views', 'date_data': '2,622 views  Premiered May 5, 2023  Data Structures and Algorithms Complete Tutorial | DS Algo | Java | Stack, Queue, Linked List, Array | Ft. Prateek Narang, SWE & Instructor, SCALER'}\n",
      "-----------------------------------------------\n"
     ]
    },
    {
     "name": "stdout",
     "output_type": "stream",
     "text": [
      "{'title': 'Google Cloud Platform Tutorial - Part #5 | Virtual Private Cloud | Subnets | IP Address | @SCALER', 'url': 'https://www.youtube.com/watch?v=JUS7S8hfrq8', 'text': 'Google Cloud Platform Tutorial - Part #5 | Virtual Private Cloud | Subnets | IP Address | @SCALER by SCALER 3 months ago 1 hour, 6 minutes 834 views', 'date_data': '834 views  Premiered May 3, 2023  Google Cloud Platform Complete Tutorial [2023] with Hands-on | Compute Engine | Cloud Storage | VPC | Cloud SQL | Virtual Machines | SCALER'}\n",
      "-----------------------------------------------\n",
      "{'title': 'Top Data Science Interview Questions & Answers 2023 | Technical Interview Tips | DS Tutorial @SCALER', 'url': 'https://www.youtube.com/watch?v=2mv4eZ61Ucc', 'text': 'Top Data Science Interview Questions & Answers 2023 | Technical Interview Tips | DS Tutorial @SCALER by SCALER 3 months ago 53 minutes 3,062 views', 'date_data': '3,062 views  Premiered Apr 30, 2023  Data Science'}\n",
      "-----------------------------------------------\n",
      "{'title': 'Android Development Full Tutorial 2023 | Kotlin | Complete Course with Roadmap & Projects | @SCALER', 'url': 'https://www.youtube.com/watch?v=9-pFPGAOSZQ', 'text': 'Android Development Full Tutorial 2023 | Kotlin | Complete Course with Roadmap & Projects | @SCALER by SCALER 3 months ago 9 hours, 8 minutes 82,618 views', 'date_data': '82,618 views  Premiered Apr 29, 2023  Everything Android'}\n",
      "-----------------------------------------------\n",
      "{'title': 'Data Scientist vs Data Engineer: What should you choose? | Data Engineering | Data Science @SCALER', 'url': 'https://www.youtube.com/watch?v=AzEsOZu5-rU', 'text': 'Data Scientist vs Data Engineer: What should you choose? | Data Engineering | Data Science @SCALER by SCALER 3 months ago 29 minutes 2,593 views', 'date_data': '2,593 views  Premiered Apr 27, 2023  Data Engineering ft. Shashank Mishra'}\n",
      "-----------------------------------------------\n",
      "{'title': 'Google Cloud Platform Tutorial - Part #4 | Google Cloud SQL | GCP MySQL Database | @SCALER', 'url': 'https://www.youtube.com/watch?v=QY5fmJsxitQ', 'text': 'Google Cloud Platform Tutorial - Part #4 | Google Cloud SQL | GCP MySQL Database | @SCALER by SCALER 3 months ago 1 hour, 8 minutes 1,311 views', 'date_data': '1,311 views  Premiered Apr 25, 2023  Google Cloud Platform Complete Tutorial [2023] with Hands-on | Compute Engine | Cloud Storage | VPC | Cloud SQL | Virtual Machines | SCALER'}\n",
      "-----------------------------------------------\n",
      "{'title': 'Unveiling Scaler School of Technology', 'url': 'https://www.youtube.com/watch?v=B0HqF4hbJ8U', 'text': 'Unveiling Scaler School of Technology by SCALER 3 months ago 4 minutes, 39 seconds 33,275 views', 'date_data': '33,276 views  Premiered Apr 24, 2023  #scalerschooloftechnology #CSE #scaler'}\n",
      "-----------------------------------------------\n",
      "{'title': 'Data Structures and Algorithms Complete Course for Beginners 2023 | Linked Lists | Hashing | @SCALER', 'url': 'https://www.youtube.com/watch?v=NAl2V3qEXz8', 'text': 'Data Structures and Algorithms Complete Course for Beginners 2023 | Linked Lists | Hashing | @SCALER by SCALER 3 months ago 10 hours, 8 minutes 25,299 views', 'date_data': '25,302 views  Premiered Apr 23, 2023  Data Structure and Algorithms'}\n",
      "-----------------------------------------------\n",
      "{'title': 'What Actually is FinTech? | Challenges in Finance Sector, Startups & Soft Skills | SCALER POD 13', 'url': 'https://www.youtube.com/watch?v=FzUeQ7AZ3O0', 'text': 'What Actually is FinTech? | Challenges in Finance Sector, Startups & Soft Skills | SCALER POD 13 by SCALER 3 months ago 1 hour, 48 minutes 3,971 views', 'date_data': '3,971 views  Premiered Apr 22, 2023  Scaler Pod'}\n",
      "-----------------------------------------------\n",
      "{'title': 'Making Machine Learning Systems That Create Impact Ft. Arun MV, Applied Scientist, GoKwik | @SCALER', 'url': 'https://www.youtube.com/watch?v=pOfkx2hb1-s', 'text': 'Making Machine Learning Systems That Create Impact Ft. Arun MV, Applied Scientist, GoKwik | @SCALER by SCALER 3 months ago 3 minutes, 18 seconds 1,701 views', 'date_data': '1,701 views  Apr 21, 2023  #DataScience #machinelearning #SCALER'}\n",
      "-----------------------------------------------\n",
      "{'title': 'Google Cloud Platform Tutorial - Part #3 | Google Cloud Storage | Persistent Disks | Blob | @SCALER', 'url': 'https://www.youtube.com/watch?v=22blAf8Esz4', 'text': 'Google Cloud Platform Tutorial - Part #3 | Google Cloud Storage | Persistent Disks | Blob | @SCALER by SCALER 3 months ago 1 hour, 14 minutes 2,554 views', 'date_data': '2,554 views  Premiered Apr 19, 2023  Google Cloud Platform Complete Tutorial [2023] with Hands-on | Compute Engine | Cloud Storage | VPC | Cloud SQL | Virtual Machines | SCALER'}\n",
      "-----------------------------------------------\n",
      "{'title': \"Messho's Journey - Early Days to E-commerce Unicorn with Founder Sanjeev Barnwal | SCALER POD 12\", 'url': 'https://www.youtube.com/watch?v=sWSgQFmWMxw', 'text': \"Messho's Journey - Early Days to E-commerce Unicorn with Founder Sanjeev Barnwal | SCALER POD 12 by SCALER 3 months ago 1 hour, 9 minutes 5,433 views\", 'date_data': '5,433 views  Premiered Apr 16, 2023  Scaler Pod'}\n",
      "-----------------------------------------------\n",
      "{'title': 'How Would I Learn to Code in 2023 (If I Could Start Over) | Career in Software Engineering @SCALER', 'url': 'https://www.youtube.com/watch?v=uAwWtJxZGd8', 'text': 'How Would I Learn to Code in 2023 (If I Could Start Over) | Career in Software Engineering  @SCALER by SCALER 3 months ago 17 minutes 3,988 views', 'date_data': '3,988 views  Premiered Apr 13, 2023  #coding #softwaredevelopment #programming'}\n",
      "-----------------------------------------------\n",
      "{'title': 'Google Cloud Platform Tutorial - Part #2 | Google Compute Engine | Virtual Machines | @SCALER', 'url': 'https://www.youtube.com/watch?v=AGtngWUSY28', 'text': 'Google Cloud Platform Tutorial - Part #2 | Google Compute Engine | Virtual Machines | @SCALER\\u200b by SCALER 3 months ago 1 hour, 19 minutes 2,456 views', 'date_data': '2,456 views  Premiered Apr 11, 2023  Google Cloud Platform Complete Tutorial [2023] with Hands-on | Compute Engine | Cloud Storage | VPC | Cloud SQL | Virtual Machines | SCALER'}\n",
      "-----------------------------------------------\n",
      "{'title': 'Data Structures Full Course in Java for Beginners 2023 | DSA Tutorial | Array | HashMap | @SCALER', 'url': 'https://www.youtube.com/watch?v=Arw-xA31xs4', 'text': 'Data Structures Full Course in Java for Beginners 2023 | DSA Tutorial | Array | HashMap | @SCALER\\u200b by SCALER 3 months ago 2 hours, 10 minutes 18,309 views', 'date_data': '18,310 views  Premiered Apr 9, 2023  Data Structures and Algorithms Complete Tutorial | DS Algo | Java | Stack, Queue, Linked List, Array | Ft. Prateek Narang, SWE & Instructor, SCALER'}\n",
      "-----------------------------------------------\n",
      "{'title': 'Web Development Full Tutorial for Beginners | HTML & CSS tutorial | Deploy code on GitHub | @SCALER', 'url': 'https://www.youtube.com/watch?v=rzlo4BaJPaI', 'text': 'Web Development Full Tutorial for Beginners | HTML & CSS tutorial | Deploy code on GitHub | @SCALER by SCALER 3 months ago 1 hour, 20 minutes 4,909 views', 'date_data': '4,909 views  Premiered Apr 8, 2023  Web Development ft. Rishika Gupta, SWE, LinkedIn'}\n",
      "-----------------------------------------------\n",
      "{'title': 'Google Cloud Platform Tutorial - Part #1 | Introduction to GCP | Cloud Computing Basics | @SCALER', 'url': 'https://www.youtube.com/watch?v=zBBevSjX9E8', 'text': 'Google Cloud Platform Tutorial - Part #1 | Introduction to GCP | Cloud Computing Basics | @SCALER by SCALER 4 months ago 49 minutes 2,901 views', 'date_data': '2,900 views  Premiered Apr 6, 2023  Google Cloud Platform Complete Tutorial [2023] with Hands-on | Compute Engine | Cloud Storage | VPC | Cloud SQL | Virtual Machines | SCALER'}\n",
      "-----------------------------------------------\n",
      "{'title': 'LinkedIn Job Search Tutorial 2023 | Find Data Science Jobs | Data Engineer | Data Analyst | @SCALER', 'url': 'https://www.youtube.com/watch?v=zdHzrqYk_Vk', 'text': 'LinkedIn Job Search Tutorial 2023 | Find Data Science Jobs | Data Engineer | Data Analyst | @SCALER by SCALER 4 months ago 38 minutes 3,045 views', 'date_data': '3,045 views  Premiered Apr 4, 2023  Data Science'}\n",
      "-----------------------------------------------\n"
     ]
    },
    {
     "name": "stdout",
     "output_type": "stream",
     "text": [
      "{'title': 'How Much Mathematics Should a Data Scientist Learn | Statistics for Data Professionals | @SCALER', 'url': 'https://www.youtube.com/watch?v=IqfzzJKIFDc', 'text': 'How Much Mathematics Should a Data Scientist Learn | Statistics for Data Professionals | @SCALER by SCALER 4 months ago 47 minutes 11,557 views', 'date_data': '11,557 views  Premiered Apr 2, 2023  Data Science'}\n",
      "-----------------------------------------------\n",
      "{'title': 'Game Development Full Course | Beginner to Advanced | Unity Tutorial for Beginners 2023 | @SCALER', 'url': 'https://www.youtube.com/watch?v=7iBJ9pL2Oow', 'text': 'Game Development Full Course | Beginner to Advanced | Unity Tutorial for Beginners 2023 | @SCALER by SCALER 4 months ago 4 hours, 38 minutes 4,693 views', 'date_data': '4,695 views  Premiered Apr 1, 2023  Scaler Full Courses'}\n",
      "-----------------------------------------------\n",
      "{'title': 'Engineer to Manager: Engineering Management, Skills, and Interview Process | Refactor Ep 13 | Scaler', 'url': 'https://www.youtube.com/watch?v=yWR8P2srA-I', 'text': 'Engineer to Manager: Engineering Management, Skills, and Interview Process | Refactor Ep 13 | Scaler by SCALER 4 months ago 12 minutes, 18 seconds 1,749 views', 'date_data': '1,749 views  Premiered Mar 30, 2023  Refactor - Tech Insights and Engineering Basics | Arnav Gupta | Scaler'}\n",
      "-----------------------------------------------\n",
      "{'title': 'Solving a Real-World Problem using Machine Learning | ML in Finance Case Study | DSML @SCALER', 'url': 'https://www.youtube.com/watch?v=z9UAQMx9CeA', 'text': 'Solving a Real-World Problem using Machine Learning | ML in Finance Case Study | DSML @SCALER by SCALER 4 months ago 30 minutes 1,508 views', 'date_data': '1,508 views  Premiered Mar 29, 2023  Machine Learning'}\n",
      "-----------------------------------------------\n",
      "{'title': 'Python Pandas Tutorial | Loading Data into Pandas DataFrames | Data Analysis with Python @SCALER', 'url': 'https://www.youtube.com/watch?v=rKFBDmpOa-k', 'text': 'Python Pandas Tutorial | Loading Data into Pandas DataFrames | Data Analysis with Python @SCALER\\u200b by SCALER 4 months ago 42 minutes 1,515 views', 'date_data': '1,515 views  Premiered Mar 26, 2023  Python Tutorials'}\n",
      "-----------------------------------------------\n",
      "{'title': 'GATE AIR-2 Srikanth Varma on Data Science, Job Roles & Future Scope | SCALER POD 11', 'url': 'https://www.youtube.com/watch?v=HnS1KtErrEc', 'text': 'GATE AIR-2 Srikanth Varma on Data Science, Job Roles & Future Scope | SCALER POD 11 by SCALER 4 months ago 1 hour, 25 minutes 14,671 views', 'date_data': '14,671 views  Premiered Mar 25, 2023  Scaler Pod'}\n",
      "-----------------------------------------------\n",
      "{'title': 'Top Mobile Development Tech Stacks in 2023 | Arnav Gupta - Refactor Ep #12 | Scaler', 'url': 'https://www.youtube.com/watch?v=lGJEv9-e5jQ', 'text': 'Top Mobile Development Tech Stacks in 2023 | Arnav Gupta - Refactor Ep #12 | Scaler by SCALER 4 months ago 12 minutes, 8 seconds 1,520 views', 'date_data': '1,520 views  Premiered Mar 23, 2023  Refactor - Tech Insights and Engineering Basics | Arnav Gupta | Scaler'}\n",
      "-----------------------------------------------\n",
      "{'title': 'GitHub Tutorial: Deploying Code using Git Part 3 | Git Commands | Git Commit | Pull Request @SCALER', 'url': 'https://www.youtube.com/watch?v=e3aTZD-9bHA', 'text': 'GitHub Tutorial: Deploying Code using Git Part 3 | Git Commands | Git Commit | Pull Request @SCALER by SCALER 4 months ago 28 minutes 2,781 views', 'date_data': '2,781 views  Premiered Mar 21, 2023  Web Development ft. Rishika Gupta, SWE, LinkedIn'}\n",
      "-----------------------------------------------\n",
      "{'title': 'Complete Career Roadmap for DevOps, Mobile App Development, and Software Engineering | @SCALER', 'url': 'https://www.youtube.com/watch?v=gTwMrX28z1E', 'text': 'Complete Career Roadmap for DevOps, Mobile App Development, and Software Engineering | @SCALER by SCALER 4 months ago 38 minutes 3,819 views', 'date_data': '3,819 views  Premiered Mar 19, 2023  #devops #careertips #softwareengineering'}\n",
      "-----------------------------------------------\n",
      "{'title': 'Coding Interview Questions and Answers | Problem-solving guide | Python, C++, AWS, DBMS @SCALER', 'url': 'https://www.youtube.com/watch?v=YIFMY724HTA', 'text': 'Coding Interview Questions and Answers | Problem-solving guide | Python, C++, AWS, DBMS @SCALER\\u200b by SCALER 4 months ago 11 hours, 44 minutes 5,081 views', 'date_data': '5,081 views  Premiered Mar 18, 2023  Interview Guide by SCALER | Coding Interview Q&A | Technical Interview Q&A | Soft Skills | Complete Interview Guide'}\n",
      "-----------------------------------------------\n",
      "{'title': 'Future of AI - ChatGPT, DALL E, GitHub Copilot Explained | Arnav Gupta - Refactor Ep 11 | @SCALER', 'url': 'https://www.youtube.com/watch?v=tjeTbxxwb9E', 'text': 'Future of AI - ChatGPT, DALL E, GitHub Copilot Explained | Arnav Gupta - Refactor Ep 11 | @SCALER by SCALER 4 months ago 17 minutes 1,680 views', 'date_data': '1,680 views  Premiered Mar 16, 2023  Refactor - Tech Insights and Engineering Basics | Arnav Gupta | Scaler'}\n",
      "-----------------------------------------------\n",
      "{'title': 'How to Solve DSA Interview Problem | Data Structures and Algorithms | Tech Interview Tips | @SCALER', 'url': 'https://www.youtube.com/watch?v=ML1TkLN22b8', 'text': 'How to Solve DSA Interview Problem | Data Structures and Algorithms | Tech Interview Tips |  @SCALER by SCALER 4 months ago 35 minutes 6,002 views', 'date_data': '6,002 views  Premiered Mar 14, 2023  Interview Guide by SCALER | Coding Interview Q&A | Technical Interview Q&A | Soft Skills | Complete Interview Guide'}\n",
      "-----------------------------------------------\n",
      "{'title': 'Bootstrap For Beginners Part 2 | Build Responsive Websites | Web Design | Web Development | @SCALER', 'url': 'https://www.youtube.com/watch?v=sHBggZ0IyZQ', 'text': 'Bootstrap For Beginners Part 2 | Build Responsive Websites |  Web Design | Web Development | @SCALER by SCALER 4 months ago 32 minutes 2,005 views', 'date_data': '2,005 views  Premiered Mar 12, 2023  Web Development ft. Rishika Gupta, SWE, LinkedIn'}\n",
      "-----------------------------------------------\n",
      "{'title': 'Are You Hungry to Learn? | Dreamers vs Doers | @SCALER - Software Engineering & DSML', 'url': 'https://www.youtube.com/watch?v=Mo_9Bmp5yAM', 'text': 'Are You Hungry to Learn? | Dreamers vs Doers | @SCALER  - Software Engineering & DSML by SCALER 4 months ago 1 minute, 20 seconds 103,606 views', 'date_data': '103,606 views  Mar 7, 2023  #softwareengineering #SCALER #CreateImpact'}\n",
      "-----------------------------------------------\n",
      "{'title': 'Ranking Programming Languages From Worst to Best | Is Java Better Than Python? 🤔 | @SCALER', 'url': 'https://www.youtube.com/watch?v=wh1Z4mmV3MU', 'text': 'Ranking Programming Languages From Worst to Best | Is Java Better Than Python? 🤔 | @SCALER by SCALER 5 months ago 27 minutes 7,200 views', 'date_data': '7,200 views  Premiered Mar 5, 2023  #saumyasingh #softwaredeveloper #programming'}\n",
      "-----------------------------------------------\n",
      "{'title': 'Learn Kaggle from Scratch | Kaggle Tutorial 2023 | Data Science | Machine Learning | @SCALER', 'url': 'https://www.youtube.com/watch?v=Gl5D7WFB25c', 'text': 'Learn Kaggle from Scratch | Kaggle Tutorial 2023 | Data Science | Machine Learning | @SCALER by SCALER 5 months ago 1 hour, 8 minutes 5,829 views', 'date_data': '5,829 views  Premiered Mar 1, 2023  Data Science'}\n",
      "-----------------------------------------------\n",
      "{'title': 'Frontend vs Backend - What to Choose? | Explained | Arnav Gupta - Refactor Ep #10 | Scaler', 'url': 'https://www.youtube.com/watch?v=ftw2alONMk4', 'text': 'Frontend vs Backend - What to Choose? | Explained | Arnav Gupta - Refactor Ep #10 | Scaler by SCALER 5 months ago 11 minutes, 10 seconds 2,578 views', 'date_data': '2,578 views  Premiered Feb 27, 2023  Refactor - Tech Insights and Engineering Basics | Arnav Gupta | Scaler'}\n",
      "-----------------------------------------------\n",
      "{'title': 'Data Science Full Course for Beginners | Data Science Tutorial | Big Data | Machine Learning @SCALER', 'url': 'https://www.youtube.com/watch?v=IkruZmHIPUM', 'text': 'Data Science Full Course for Beginners | Data Science Tutorial | Big Data | Machine Learning @SCALER by SCALER 5 months ago 8 hours, 22 minutes 10,245 views', 'date_data': '10,245 views  Premiered Feb 26, 2023  Data Science'}\n",
      "-----------------------------------------------\n"
     ]
    },
    {
     "name": "stdout",
     "output_type": "stream",
     "text": [
      "{'title': 'System Design Full Course | Software Architecture | Caching | CAP Theorem | Caching @SCALER', 'url': 'https://www.youtube.com/watch?v=Xx1eYBlUGO8', 'text': 'System Design Full Course | Software Architecture | Caching | CAP Theorem | Caching @SCALER by SCALER 5 months ago 3 hours, 39 minutes 8,379 views', 'date_data': '8,379 views  Premiered Feb 23, 2023  System Design'}\n",
      "-----------------------------------------------\n",
      "{'title': 'Software Engineering in Gaming Over the Years | Game Development | Evolution of Gaming | @SCALER', 'url': 'https://www.youtube.com/watch?v=WO5jUCEL7_4', 'text': 'Software Engineering in Gaming Over the Years | Game Development | Evolution of Gaming | @SCALER by SCALER 5 months ago 8 minutes, 26 seconds 2,825 views', 'date_data': '2,825 views  Premiered Feb 22, 2023  #gaming #gamedevelopment #softwareengineering'}\n",
      "-----------------------------------------------\n",
      "{'title': 'Recession Proofing your Tech Career in 2023 - Arnav Gupta - Refactor Ep #09 | Scaler', 'url': 'https://www.youtube.com/watch?v=jFKK3A7YYYE', 'text': 'Recession Proofing your Tech Career in 2023 - Arnav Gupta - Refactor Ep #09 | Scaler by SCALER 5 months ago 12 minutes, 55 seconds 2,020 views', 'date_data': '2,020 views  Premiered Feb 20, 2023  Refactor - Tech Insights and Engineering Basics | Arnav Gupta | Scaler'}\n",
      "-----------------------------------------------\n",
      "{'title': 'AWS Complete Tutorial 2023 | Learn Amazon Web Services from Scratch | Cloud Computing | @SCALER', 'url': 'https://www.youtube.com/watch?v=B8i49C8fC3E', 'text': 'AWS Complete Tutorial 2023 | Learn Amazon Web Services from Scratch | Cloud Computing | @SCALER \\u200b by SCALER 5 months ago 9 hours, 22 minutes 187,444 views', 'date_data': '187,452 views  Premiered Feb 18, 2023  Cloud Computing'}\n",
      "-----------------------------------------------\n",
      "{'title': \"HTML Beginner's Guide Part 1 | Learn HyperText Markup Language from Scratch | HTML Basics | @SCALER\", 'url': 'https://www.youtube.com/watch?v=tmhUjKQwTGw', 'text': \"HTML Beginner's Guide Part 1 | Learn HyperText Markup Language from Scratch | HTML Basics | @SCALER by SCALER 5 months ago 22 minutes 2,634 views\", 'date_data': '2,634 views  Premiered Feb 15, 2023  Web Development ft. Rishika Gupta, SWE, LinkedIn'}\n",
      "-----------------------------------------------\n",
      "{'title': 'Soft Skills and Communication Guide for Software Engineers | Top Soft Skills to Crack Interviews', 'url': 'https://www.youtube.com/watch?v=CFKSXF9iSsU', 'text': 'Soft Skills and Communication Guide for Software Engineers | Top Soft Skills to Crack Interviews by SCALER 5 months ago 2 hours, 13 minutes 2,584 views', 'date_data': '2,584 views  Premiered Feb 13, 2023  Soft Skills for Techies'}\n",
      "-----------------------------------------------\n",
      "{'title': 'What are ESOPs? | Employee Stock Option Plan Explained - Arnav Gupta - Refactor Ep #08 | Scaler', 'url': 'https://www.youtube.com/watch?v=oDirNOa_SPc', 'text': 'What are ESOPs? | Employee Stock Option Plan Explained - Arnav Gupta - Refactor Ep #08 | Scaler by SCALER 5 months ago 23 minutes 2,096 views', 'date_data': '2,096 views  Premiered Feb 10, 2023  Refactor - Tech Insights and Engineering Basics | Arnav Gupta | Scaler'}\n",
      "-----------------------------------------------\n",
      "{'title': 'SQL Full Course | Learn Structured Query Language from Scratch | SQL Tutorial | @SCALER', 'url': 'https://www.youtube.com/watch?v=MfqnESS-6p8', 'text': 'SQL Full Course | Learn Structured Query Language from Scratch | SQL Tutorial | @SCALER by SCALER 5 months ago 3 hours, 41 minutes 32,647 views', 'date_data': '32,648 views  Premiered Feb 8, 2023  SQL Tutorial'}\n",
      "-----------------------------------------------\n",
      "{'title': 'Data Engineering Full Tutorial for Beginners | Ace Data Engineering Interviews Easily | Big Data', 'url': 'https://www.youtube.com/watch?v=QSFq8S_Ui5g', 'text': 'Data Engineering Full Tutorial for Beginners | Ace Data Engineering Interviews Easily | Big Data by SCALER 6 months ago 2 hours, 11 minutes 27,782 views', 'date_data': '27,782 views  Premiered Feb 5, 2023  Data Engineering ft. Shashank Mishra'}\n",
      "-----------------------------------------------\n",
      "{'title': 'Arpit Bhayani @AsliEngineering | His Journey, System Design, and Being Curious | SCALER POD 10', 'url': 'https://www.youtube.com/watch?v=vjfypJq5pK8', 'text': 'Arpit Bhayani @AsliEngineering | His Journey, System Design, and Being Curious | SCALER POD 10 by SCALER 6 months ago 1 hour, 39 minutes 25,646 views', 'date_data': '25,648 views  Premiered Feb 4, 2023  Scaler Pod'}\n",
      "-----------------------------------------------\n",
      "{'title': 'NoSQL Tutorial For Beginners | Apache Cassandra Full Course | Datastax Astra DB | @SCALER', 'url': 'https://www.youtube.com/watch?v=DhMnM6lpaY0', 'text': 'NoSQL Tutorial For Beginners | Apache Cassandra Full Course | Datastax Astra DB | @SCALER by SCALER 6 months ago 53 minutes 8,818 views', 'date_data': '8,819 views  Premiered Feb 2, 2023  DBMS'}\n",
      "-----------------------------------------------\n",
      "{'title': 'Best Programming Languages to Learn for 2023 - Arnav Gupta - Refactor Ep #07 | Scaler', 'url': 'https://www.youtube.com/watch?v=wm9Diofk6Ng', 'text': 'Best Programming Languages to Learn for 2023 - Arnav Gupta - Refactor Ep #07 | Scaler by SCALER 6 months ago 12 minutes, 30 seconds 3,141 views', 'date_data': '3,141 views  Premiered Jan 31, 2023  Refactor - Tech Insights and Engineering Basics | Arnav Gupta | Scaler'}\n",
      "-----------------------------------------------\n",
      "{'title': 'Android App Development Part #2 | Make A Calculator Application | Mobile App Development | @SCALER', 'url': 'https://www.youtube.com/watch?v=lNKovj7EDyI', 'text': 'Android App Development Part #2 | Make A Calculator Application | Mobile App Development |  @SCALER by SCALER 6 months ago 49 minutes 4,023 views', 'date_data': '4,023 views  Premiered Jan 25, 2023  Everything Android'}\n",
      "-----------------------------------------------\n",
      "{'title': 'Android App Development Part #1 | Make A Portfolio Application | Mobile App Development | @SCALER', 'url': 'https://www.youtube.com/watch?v=yvaFhYmI_5E', 'text': 'Android App Development Part #1 | Make A Portfolio Application | Mobile App Development | @SCALER by SCALER 6 months ago 53 minutes 6,685 views', 'date_data': '6,685 views  Premiered Jan 23, 2023  Everything Android'}\n",
      "-----------------------------------------------\n",
      "{'title': 'API Tutorial for Beginners | Application Programming Interface Simplified | What is API | @SCALER', 'url': 'https://www.youtube.com/watch?v=Gj0yXQKUGKc', 'text': 'API Tutorial for Beginners | Application Programming Interface Simplified | What is API | @SCALER by SCALER 6 months ago 1 hour, 6 minutes 6,824 views', 'date_data': '6,824 views  Premiered Jan 21, 2023  Scaler Tutorials'}\n",
      "-----------------------------------------------\n",
      "{'title': 'When a Coder Took a Leap of Faith | Behind The Win Ft. Ashwin Singhal | Story of an SDE | @SCALER', 'url': 'https://www.youtube.com/watch?v=JeuL-hUWNdw', 'text': 'When a Coder Took a Leap of Faith | Behind The Win Ft. Ashwin Singhal | Story of an SDE | @SCALER by SCALER 6 months ago 2 minutes, 57 seconds 4,136 views', 'date_data': '4,136 views  Jan 19, 2023  #softwaredeveloper #programming #scaler'}\n",
      "-----------------------------------------------\n",
      "{'title': 'SQL Tutorial for Beginners | Learn Structured Query Language from Scratch | SQL Basics | @SCALER', 'url': 'https://www.youtube.com/watch?v=_DHDlWzfnmw', 'text': 'SQL Tutorial for Beginners | Learn Structured Query Language from Scratch | SQL Basics | @SCALER by SCALER 6 months ago 1 hour, 30 minutes 6,761 views', 'date_data': '6,761 views  Premiered Jan 16, 2023  SQL Tutorial'}\n",
      "-----------------------------------------------\n",
      "{'title': 'Top 10 Web Frameworks Every Web Developer Must Know | Web Development | Build Web Apps@SCALER', 'url': 'https://www.youtube.com/watch?v=03nnVZTjZI4', 'text': 'Top 10 Web Frameworks Every Web Developer Must Know | Web Development | Build Web Apps@SCALER by SCALER 6 months ago 10 minutes, 30 seconds 3,859 views', 'date_data': '3,859 views  Premiered Jan 14, 2023  Web Development ft. Rishika Gupta, SWE, LinkedIn'}\n",
      "-----------------------------------------------\n",
      "{'title': 'Harsh Reality of Being a Data Engineer | Should You Be a Data Engineer | Data Science | @SCALER', 'url': 'https://www.youtube.com/watch?v=QZXSJaQHkx4', 'text': 'Harsh Reality of Being a Data Engineer | Should You Be a Data Engineer | Data Science | @SCALER by SCALER 6 months ago 15 minutes 5,548 views', 'date_data': '5,548 views  Premiered Jan 10, 2023  Data Engineering'}\n",
      "-----------------------------------------------\n"
     ]
    },
    {
     "name": "stdout",
     "output_type": "stream",
     "text": [
      "{'title': 'Every Software Developer Must Possess These 10 Soft Skills | Career Tips | Crack FAANG | @SCALER', 'url': 'https://www.youtube.com/watch?v=fVeeS5qk938', 'text': 'Every Software Developer Must Possess These 10 Soft Skills | Career Tips | Crack FAANG | @SCALER by SCALER 6 months ago 17 minutes 7,540 views', 'date_data': '7,540 views  Premiered Jan 8, 2023  #softskills #careertips #softwaredevelopment'}\n",
      "-----------------------------------------------\n",
      "{'title': 'SCALER POD 09 ft. Nirdosh Chouhan, SVP, OYO | Hospitality, Innovation and The Jugaad Mindset', 'url': 'https://www.youtube.com/watch?v=yxH-GfVDYFo', 'text': 'SCALER POD 09 ft. Nirdosh Chouhan, SVP, OYO | Hospitality, Innovation and The Jugaad Mindset by SCALER 6 months ago 1 hour, 15 minutes 4,467 views', 'date_data': '4,467 views  Premiered Jan 7, 2023  Scaler Pod'}\n",
      "-----------------------------------------------\n",
      "{'title': 'The Truth About Being a Software Engineer | What do Software Developers do? | Programming |@SCALER', 'url': 'https://www.youtube.com/watch?v=uvZCYxEfbD4', 'text': 'The Truth About Being a Software Engineer | What do Software Developers do? | Programming |@SCALER by SCALER 7 months ago 13 minutes, 57 seconds 6,245 views', 'date_data': '6,245 views  Premiered Jan 5, 2023  #softwareengineers #softwaredeveloper #programming'}\n",
      "-----------------------------------------------\n",
      "{'title': 'From Microsoft to Building Own Startup - Prasanna Sankar, Co-Founder, Rippling | Best of SCALER POD', 'url': 'https://www.youtube.com/watch?v=8-6f7zh46EQ', 'text': 'From Microsoft to Building Own Startup - Prasanna Sankar, Co-Founder, Rippling | Best of SCALER POD by SCALER 7 months ago 5 minutes, 2 seconds 6,578 views', 'date_data': '6,578 views  Dec 29, 2022  #microsoft #scalerpod #paulgraham'}\n",
      "-----------------------------------------------\n",
      "{'title': 'How to approach Take Home Assignments during Interviews? | Arnav Gupta - Refactor Ep #06 | SCALER', 'url': 'https://www.youtube.com/watch?v=sgmMqP9AYpY', 'text': 'How to approach Take Home Assignments during Interviews? | Arnav Gupta - Refactor Ep #06 | SCALER by SCALER 7 months ago 15 minutes 2,311 views', 'date_data': '2,311 views  Premiered Dec 24, 2022  Refactor - Tech Insights and Engineering Basics | Arnav Gupta | Scaler'}\n",
      "-----------------------------------------------\n",
      "{'title': 'Get Started With Web Development | Career Roadmap for a Web Developer | Full Stack Web Development', 'url': 'https://www.youtube.com/watch?v=AM8H9FKhQ6o', 'text': 'Get Started With Web Development | Career Roadmap for a Web Developer | Full Stack Web Development by SCALER 7 months ago 12 minutes, 55 seconds 4,167 views', 'date_data': '4,167 views  Premiered Dec 22, 2022  Web Development ft. Rishika Gupta, SWE, LinkedIn'}\n",
      "-----------------------------------------------\n",
      "{'title': 'Software Engineering FAQs With a FAANG Developer | Beginner to Advanced Coding Questions | @SCALER', 'url': 'https://www.youtube.com/watch?v=kTjpL41BUr4', 'text': 'Software Engineering FAQs With a FAANG Developer | Beginner to Advanced Coding Questions |  @SCALER by SCALER 7 months ago 19 minutes 2,307 views', 'date_data': '2,307 views  Premiered Dec 19, 2022  #softwaredeveloper #coding #softwareengineering'}\n",
      "-----------------------------------------------\n",
      "{'title': 'Good Software Engineer to a Great One ft. Venoth A, SWE, Paypal | Behind The Win @SCALER', 'url': 'https://www.youtube.com/watch?v=bBE-eHAVTWs', 'text': 'Good Software Engineer to a Great One ft. Venoth A, SWE, Paypal | Behind The Win @SCALER by SCALER 7 months ago 3 minutes, 18 seconds 4,301 views', 'date_data': '4,301 views  Dec 15, 2022'}\n",
      "-----------------------------------------------\n",
      "{'title': 'Complete Career Roadmap to Becoming a Data Analyst | Data Science Guide | Data Analytics | @SCALER', 'url': 'https://www.youtube.com/watch?v=3DiSfh5pZAo', 'text': 'Complete Career Roadmap to Becoming a Data Analyst | Data Science Guide | Data Analytics | @SCALER by SCALER 7 months ago 22 minutes 8,987 views', 'date_data': '8,988 views  Premiered Dec 11, 2022  Data Science'}\n",
      "-----------------------------------------------\n",
      "{'title': 'Career Roadmap for Software Engineers | How to Choose the Right Coding Profile in the IT Sector', 'url': 'https://www.youtube.com/watch?v=Yz8_vggpaWM', 'text': 'Career Roadmap for Software Engineers | How to Choose the Right Coding Profile in the IT Sector by SCALER 7 months ago 28 minutes 5,680 views', 'date_data': '5,680 views  Premiered Dec 8, 2022  #saumyasingh #coding #scaler'}\n",
      "-----------------------------------------------\n",
      "{'title': 'Where Real Business Problems Meet Problem Solvers Ft. Bharat Goyal - Co-Founder & CPTO, Mystifly', 'url': 'https://www.youtube.com/watch?v=gEoJNBhEYek', 'text': 'Where Real Business Problems Meet Problem Solvers Ft. Bharat Goyal - Co-Founder & CPTO, Mystifly by SCALER 8 months ago 2 minutes, 46 seconds 1,288 views', 'date_data': '1,288 views  Dec 6, 2022  #SCALER #BridgingTheGap'}\n",
      "-----------------------------------------------\n",
      "{'title': \"Googler's Guide on How to Start Coding and Choosing Right Coding Projects | Programming | @SCALER\", 'url': 'https://www.youtube.com/watch?v=6yJ8eTtId8A', 'text': \"Googler's Guide on How to Start Coding and Choosing Right Coding Projects | Programming | @SCALER by SCALER 8 months ago 9 minutes, 4 seconds 4,214 views\", 'date_data': '4,214 views  Premiered Dec 1, 2022  #programming #scaler #startcoding'}\n",
      "-----------------------------------------------\n",
      "{'title': 'How to Approach Learning Web Development Tech Stacks? - Arnav Gupta - Refactor Ep #05 | SCALER', 'url': 'https://www.youtube.com/watch?v=6hZ2wXXnB8o', 'text': 'How to Approach Learning Web Development Tech Stacks? - Arnav Gupta - Refactor Ep #05 | SCALER by SCALER 8 months ago 10 minutes, 42 seconds 2,909 views', 'date_data': '2,909 views  Premiered Nov 30, 2022  Web Development'}\n",
      "-----------------------------------------------\n",
      "{'title': 'How I Cracked LinkedIn Interview | The Story of a Software Developer at LinkedIn | Hackathons@SCALER', 'url': 'https://www.youtube.com/watch?v=CD4Goh4EgF0', 'text': 'How I Cracked LinkedIn Interview | The Story of a Software Developer at LinkedIn | Hackathons@SCALER by SCALER 8 months ago 12 minutes, 48 seconds 4,739 views', 'date_data': '4,739 views  Premiered Nov 27, 2022  Interview Guide by SCALER | Coding Interview Q&A | Technical Interview Q&A | Soft Skills | Complete Interview Guide'}\n",
      "-----------------------------------------------\n",
      "{'title': 'Software Engineering Tech Interview Process Explained - Arnav Gupta - Refactor Ep #04 | SCALER', 'url': 'https://www.youtube.com/watch?v=fUXMHpApSTA', 'text': 'Software Engineering Tech Interview Process Explained - Arnav Gupta - Refactor Ep #04 | SCALER by SCALER 8 months ago 15 minutes 3,817 views', 'date_data': '3,817 views  Premiered Nov 24, 2022  Refactor - Tech Insights and Engineering Basics | Arnav Gupta | Scaler'}\n",
      "-----------------------------------------------\n",
      "{'title': 'This is How Big Data Helps in Making Mobile Apps Better | Data Engineering | Data Science | @SCALER', 'url': 'https://www.youtube.com/watch?v=t2loXp7AfI0', 'text': 'This is How Big Data Helps in Making Mobile Apps Better | Data Engineering | Data Science | @SCALER by SCALER 8 months ago 12 minutes, 10 seconds 3,227 views', 'date_data': '3,227 views  Premiered Nov 23, 2022  Data Engineering ft. Shashank Mishra'}\n",
      "-----------------------------------------------\n",
      "{'title': 'Prasanna Sankar, Co-Founder, Rippling | 6 Sigma Events, Startups and Blockchain | SCALER POD 08', 'url': 'https://www.youtube.com/watch?v=YVw24kVNQt4', 'text': 'Prasanna Sankar, Co-Founder, Rippling | 6 Sigma Events, Startups and Blockchain | SCALER POD 08 by SCALER 8 months ago 1 hour, 30 minutes 19,654 views', 'date_data': '19,654 views  Premiered Nov 19, 2022  Scaler Pod'}\n",
      "-----------------------------------------------\n",
      "{'title': 'Software Engineering Career Levels Explained - Arnav Gupta - Refactor Ep #03 | @SCALER', 'url': 'https://www.youtube.com/watch?v=03B3GU29YFw', 'text': 'Software Engineering Career Levels Explained - Arnav Gupta - Refactor Ep #03 | @SCALER by SCALER 8 months ago 16 minutes 4,553 views', 'date_data': '4,553 views  Premiered Nov 16, 2022  Refactor - Tech Insights and Engineering Basics | Arnav Gupta | Scaler'}\n",
      "-----------------------------------------------\n"
     ]
    },
    {
     "name": "stdout",
     "output_type": "stream",
     "text": [
      "{'title': 'A Love Marriage with Computer Science Ft. Nidhi Agarwal - SDE-2, Zeta Suite | Behind The Win', 'url': 'https://www.youtube.com/watch?v=1Ixm3ATQF7Y', 'text': 'A Love Marriage with Computer Science Ft. Nidhi Agarwal - SDE-2, Zeta Suite | Behind The Win by SCALER 8 months ago 4 minutes, 10 seconds 4,905 views', 'date_data': '4,907 views  Nov 16, 2022  #successstory #salaryhike'}\n",
      "-----------------------------------------------\n",
      "{'title': 'How Data Science & AI Changed Gaming Industry | Artificial Intelligence | Data Science | @SCALER', 'url': 'https://www.youtube.com/watch?v=LM6J9-hfSOg', 'text': 'How Data Science & AI Changed Gaming Industry | Artificial Intelligence | Data Science | @SCALER by SCALER 8 months ago 16 minutes 3,680 views', 'date_data': '3,680 views  Premiered Nov 15, 2022  #ai #datascience #gaming'}\n",
      "-----------------------------------------------\n",
      "{'title': \"Googler's Guide to Problem Solving | Crack Any Technical Interview Easily | Programming | @SCALER\", 'url': 'https://www.youtube.com/watch?v=OemJX4KP3Qs', 'text': \"Googler's Guide to Problem Solving | Crack Any Technical Interview Easily | Programming | @SCALER by SCALER 8 months ago 9 minutes, 37 seconds 3,479 views\", 'date_data': '3,479 views  Premiered Nov 11, 2022  Interview Guide by SCALER | Coding Interview Q&A | Technical Interview Q&A | Soft Skills | Complete Interview Guide'}\n",
      "-----------------------------------------------\n",
      "{'title': 'Designing a Software Architecture from Scratch | Software Design | Crack Tech Interviews | @SCALER', 'url': 'https://www.youtube.com/watch?v=U7Q7PmTJUhg', 'text': 'Designing a Software Architecture from Scratch | Software Design | Crack Tech Interviews | @SCALER by SCALER 8 months ago 15 minutes 11,662 views', 'date_data': '11,662 views  Premiered Nov 7, 2022  Interview Guide by SCALER | Coding Interview Q&A | Technical Interview Q&A | Soft Skills | Complete Interview Guide'}\n",
      "-----------------------------------------------\n",
      "{'title': 'Akash Saxena, CTO, @hotstarOfficial | Cricket, Managing Scale and Future of OTT | SCALER POD 07', 'url': 'https://www.youtube.com/watch?v=0eUhGg656KA', 'text': 'Akash Saxena, CTO, @hotstarOfficial  | Cricket, Managing Scale and Future of OTT | SCALER POD 07 by SCALER 9 months ago 2 hours, 15 minutes 23,426 views', 'date_data': '23,426 views  Premiered Nov 5, 2022  Scaler Pod'}\n",
      "-----------------------------------------------\n",
      "{'title': 'Your Complete Guide to Tech Stacks | Right Technology Stack to Use | Coding | Software Development', 'url': 'https://www.youtube.com/watch?v=UvZYF4x3noY', 'text': 'Your Complete Guide to Tech Stacks | Right Technology Stack to Use | Coding | Software Development by SCALER 9 months ago 16 minutes 12,767 views', 'date_data': '12,767 views  Premiered Oct 29, 2022  #jobinterview #programming #SCALER'}\n",
      "-----------------------------------------------\n",
      "{'title': 'Top 10 LinkedIn Profile Tips to Get More Job Opportunities | Land More Job Interviews via LinkedIn', 'url': 'https://www.youtube.com/watch?v=VpPVekOPi9k', 'text': 'Top 10 LinkedIn Profile Tips to Get More Job Opportunities | Land More Job Interviews via LinkedIn by SCALER 9 months ago 12 minutes, 3 seconds 7,717 views', 'date_data': '7,717 views  Premiered Oct 22, 2022  Interview Guide by SCALER | Coding Interview Q&A | Technical Interview Q&A | Soft Skills | Complete Interview Guide'}\n",
      "-----------------------------------------------\n",
      "{'title': 'Building Your Dream Career in Data Engineering | Scope of Data Engineering in India 2022 | @SCALER', 'url': 'https://www.youtube.com/watch?v=OF0kPPOxQJ0', 'text': 'Building Your Dream Career in Data Engineering | Scope of Data Engineering in India 2022 | @SCALER by SCALER 9 months ago 14 minutes, 47 seconds 8,677 views', 'date_data': '8,677 views  Premiered Oct 16, 2022  Data Engineering ft. Shashank Mishra'}\n",
      "-----------------------------------------------\n",
      "{'title': 'Shobhit Gupta, Engineering Lead, @yougotfam | Building a neobank for Indian GenZ | SCALER POD 06', 'url': 'https://www.youtube.com/watch?v=MT1l3p4xx9g', 'text': 'Shobhit Gupta, Engineering Lead, @yougotfam  | Building a neobank for Indian GenZ | SCALER POD 06 by SCALER 9 months ago 1 hour, 29 minutes 11,560 views', 'date_data': '11,560 views  Premiered Oct 15, 2022  Scaler Pod'}\n",
      "-----------------------------------------------\n",
      "{'title': 'How I Stay Productive 90% of the Time as a Software Developer | Maximise Your Productivity | SCALER', 'url': 'https://www.youtube.com/watch?v=CDR4BK32gv4', 'text': 'How I Stay Productive 90% of the Time as a Software Developer | Maximise Your Productivity | SCALER by SCALER 9 months ago 22 minutes 17,529 views', 'date_data': '17,529 views  Premiered Oct 9, 2022'}\n",
      "-----------------------------------------------\n",
      "{'title': 'How Does Your Fitness Tracker Work? | Data Science | One Byte at a Time Ep: #11 | SCALER Originals', 'url': 'https://www.youtube.com/watch?v=-rENYh_8VXs', 'text': 'How Does Your Fitness Tracker Work? | Data Science | One Byte at a Time Ep: #11 | SCALER Originals by SCALER 9 months ago 9 minutes, 17 seconds 1,723 views', 'date_data': '1,723 views  Premiered Oct 7, 2022'}\n",
      "-----------------------------------------------\n",
      "{'title': 'Asking a Google Software Engineer his Favourite Programming Language | 21 Questions with a Googler', 'url': 'https://www.youtube.com/watch?v=E7ucI0s7-TQ', 'text': 'Asking a Google Software Engineer his Favourite Programming Language | 21 Questions with a Googler by SCALER 10 months ago 22 minutes 4,704 views', 'date_data': '4,704 views  Premiered Oct 5, 2022  #softwareengineer #faang #google'}\n",
      "-----------------------------------------------\n",
      "{'title': \"Machine Learning Engineer who got a 125% Salary Hike | Rajesh Somasundaram's Story | Behind the Win\", 'url': 'https://www.youtube.com/watch?v=ukDVqSKHStI', 'text': \"Machine Learning Engineer who got a 125% Salary Hike | Rajesh Somasundaram's Story | Behind the Win by SCALER 10 months ago 3 minutes, 59 seconds 436,205 views\", 'date_data': '436,206 views  Oct 4, 2022  #datascience #machinelearning #ml'}\n",
      "-----------------------------------------------\n",
      "{'title': 'These 6 Data Jobs Pay the Most in 2022 | Popular Data Science Careers | Career Guide | SCALER', 'url': 'https://www.youtube.com/watch?v=EZ66rpf_Ihg', 'text': 'These 6 Data Jobs Pay the Most in 2022 | Popular Data Science Careers | Career Guide | SCALER by SCALER 10 months ago 25 minutes 16,377 views', 'date_data': '16,377 views  Premiered Oct 1, 2022  #datascience #data #scaler'}\n",
      "-----------------------------------------------\n",
      "{'title': 'Publish Your App on Google Play Store Easily - Step by Step Guide | Google Play Store | SCALER', 'url': 'https://www.youtube.com/watch?v=Qdfv1IXPnO4', 'text': 'Publish Your App on Google Play Store Easily - Step by Step Guide | Google Play Store | SCALER by SCALER 10 months ago 31 minutes 8,289 views', 'date_data': '8,289 views  Premiered Sep 25, 2022  #googleplaystore #scaler #appdevelopment'}\n",
      "-----------------------------------------------\n",
      "{'title': 'How Zomato Dominated Food Industry | Data Science | One Byte at a Time Ep: #10 | SCALER Originals', 'url': 'https://www.youtube.com/watch?v=Cuzj7KCnhXY', 'text': 'How Zomato Dominated Food Industry | Data Science | One Byte at a Time Ep: #10 | SCALER Originals by SCALER 10 months ago 7 minutes, 44 seconds 3,299 views', 'date_data': '3,299 views  Premiered Sep 21, 2022  #bigdata #datascience #zomato'}\n",
      "-----------------------------------------------\n",
      "{'title': 'If I Could Restart My Career in Data Engineering | Become a Top Data Engineer | Data Science', 'url': 'https://www.youtube.com/watch?v=eCg0hadk0Dc', 'text': 'If I Could Restart My Career in Data Engineering | Become a Top Data Engineer | Data Science by SCALER 10 months ago 18 minutes 13,125 views', 'date_data': '13,125 views  Premiered Sep 19, 2022  Data Engineering ft. Shashank Mishra'}\n",
      "-----------------------------------------------\n",
      "{'title': 'Kailash Nadh, CTO @zerodhaonline|Side projects, hacker culture and scaling with sense| SCALER POD 05', 'url': 'https://www.youtube.com/watch?v=Aawk_wg_VYY', 'text': 'Kailash Nadh, CTO @zerodhaonline|Side projects, hacker culture and scaling with sense| SCALER POD 05 by SCALER 10 months ago 2 hours, 15 minutes 150,314 views', 'date_data': '150,315 views  Premiered Sep 17, 2022  Scaler Pod'}\n",
      "-----------------------------------------------\n"
     ]
    },
    {
     "name": "stdout",
     "output_type": "stream",
     "text": [
      "{'title': 'From Facing 12 Rejections to Microsoft | My Coding Journey | FAANG | Microsoft Job Interview', 'url': 'https://www.youtube.com/watch?v=WS89q-EQJik', 'text': 'From Facing 12 Rejections to Microsoft | My Coding Journey | FAANG | Microsoft Job Interview by SCALER 10 months ago 9 minutes, 13 seconds 4,713 views', 'date_data': '4,713 views  Premiered Sep 15, 2022  Data Science'}\n",
      "-----------------------------------------------\n",
      "{'title': \"From Palwal to Adobe | A Dream Come True | Mohini's Success Story | Behind The Win\", 'url': 'https://www.youtube.com/watch?v=dNdppfuRnz8', 'text': \"From Palwal to Adobe | A Dream Come True | Mohini's Success Story | Behind The Win by SCALER 10 months ago 1 minute, 24 seconds 1,873 views\", 'date_data': '1,873 views  Sep 15, 2022  #adobe #successstory'}\n",
      "-----------------------------------------------\n",
      "{'title': 'Data Analysis in Sports Scouting | Data Analytics | One Byte at a Time Ep: #9 | SCALER Originals', 'url': 'https://www.youtube.com/watch?v=Sf8boIizEnE', 'text': 'Data Analysis in Sports Scouting | Data Analytics | One Byte at a Time Ep: #9 | SCALER Originals by SCALER 10 months ago 7 minutes, 59 seconds 2,599 views', 'date_data': '2,599 views  Premiered Sep 13, 2022  #dataanalytics #bigdata #datascience'}\n",
      "-----------------------------------------------\n",
      "{'title': 'Top 10 Data Science Myths Busted | Data Science Tips 2022 | Big Data | DSML | DS Myths vs Reality', 'url': 'https://www.youtube.com/watch?v=AZjBIGUXlsg', 'text': 'Top 10 Data Science Myths Busted | Data Science Tips 2022 | Big Data | DSML | DS Myths vs Reality by SCALER 10 months ago 15 minutes 5,435 views', 'date_data': '5,435 views  Premiered Sep 11, 2022  Data Science'}\n",
      "-----------------------------------------------\n",
      "{'title': \"From Hisar to Microsoft Dublin ✈️ | Rishi Prakash's SCALER Journey | Behind The Win\", 'url': 'https://www.youtube.com/watch?v=GoRudv25cFU', 'text': \"From Hisar to Microsoft Dublin ✈️ | Rishi Prakash's SCALER Journey | Behind The Win by SCALER 10 months ago 2 minutes, 2 seconds 2,563 views\", 'date_data': '2,563 views  Sep 10, 2022  #SCALER #CreateImpact'}\n",
      "-----------------------------------------------\n",
      "{'title': 'Foresee Resignations with Data | Data Bro Ep #5 Ft. @Jordindian | Data Science | SCALER Originals', 'url': 'https://www.youtube.com/watch?v=HTlpPpcgwKY', 'text': 'Foresee Resignations with Data | Data Bro Ep #5 Ft. @Jordindian | Data Science | SCALER Originals by SCALER 10 months ago 7 minutes, 17 seconds 4,388 views', 'date_data': '4,388 views  Sep 9, 2022  #jordindian #datascience #SCALER'}\n",
      "-----------------------------------------------\n",
      "{'title': 'Win Your Next Hackathon Easily | Hackathon Complete Roadmap & Strategies | Tech Career | SCALER', 'url': 'https://www.youtube.com/watch?v=UBZCVwrEklA', 'text': 'Win Your Next Hackathon Easily | Hackathon Complete Roadmap & Strategies | Tech Career | SCALER by SCALER 11 months ago 30 minutes 18,438 views', 'date_data': '18,438 views  Premiered Sep 6, 2022  #hackathon #competition #techcareer'}\n",
      "-----------------------------------------------\n"
     ]
    }
   ],
   "source": [
    "driver_path = \"chromedriver_win32_2\\\\chromedriver.exe\"\n",
    "driver = webdriver.Chrome(executable_path=driver_path)\n",
    "url = \"https://www.youtube.com/@SCALER/videos\"  \n",
    "driver.get(url)\n",
    "scrolls = 4\n",
    "\n",
    "for _ in range(scrolls):\n",
    "    driver.find_element(By.TAG_NAME, 'body').send_keys(Keys.END)\n",
    "    time.sleep(2)\n",
    "    \n",
    "video_title_links = []\n",
    "\n",
    "\n",
    "\n",
    "video_elements = driver.find_elements(By.ID, \"video-title-link\")\n",
    "\n",
    "for video_element in video_elements:\n",
    "    video_title = video_element.text.strip()\n",
    "    video_url = video_element.get_attribute(\"href\")\n",
    "    video_text = video_element.get_attribute(\"aria-label\")\n",
    "    video_data = {'title': video_title, 'url': video_url,\"text\":video_text}\n",
    "    video_title_links.append(video_data)\n",
    "\n",
    "urls_data=[]\n",
    "for url in video_title_links:\n",
    "    try:\n",
    "        driver.get(url['url'])\n",
    "        time.sleep(10)\n",
    "        button=driver.find_element(By.ID,\"expand\")\n",
    "        button.click()\n",
    "        v_page=driver.find_elements(By.ID,\"info\")\n",
    "        button1=v_page[2].text\n",
    "        urls_data.append(button1)\n",
    "        url[\"date_data\"]=button1\n",
    "        print(url)\n",
    "        print(\"-----------------------------------------------\")\n",
    "    except Exception as e:\n",
    "        print(e)\n",
    "        print(\"error\")\n",
    "        url[\"date_data\"]=\"NA\"\n",
    "    time.sleep(2)\n",
    "\n",
    "\n",
    "driver.quit()"
   ]
  },
  {
   "cell_type": "markdown",
   "id": "78e2e443",
   "metadata": {},
   "source": [
    "#### saving this data in json format"
   ]
  },
  {
   "cell_type": "code",
   "execution_count": 3,
   "id": "88b5da97",
   "metadata": {},
   "outputs": [],
   "source": [
    "import json\n",
    "\n",
    "filename = \"data_json_sclar.json\"\n",
    "\n",
    "with open(filename, \"w\") as json_file:\n",
    "    json.dump(video_title_links, json_file)"
   ]
  },
  {
   "cell_type": "code",
   "execution_count": 4,
   "id": "b7a5fa0c",
   "metadata": {},
   "outputs": [],
   "source": [
    "from datetime import datetime, timedelta"
   ]
  },
  {
   "cell_type": "code",
   "execution_count": 5,
   "id": "099ad97c",
   "metadata": {},
   "outputs": [],
   "source": [
    "data=video_title_links.copy()"
   ]
  },
  {
   "cell_type": "code",
   "execution_count": 18,
   "id": "0b659664",
   "metadata": {},
   "outputs": [
    {
     "data": {
      "text/plain": [
       "['1,047', 'views', 'Premiered', 'Jul', '28,', '2023', 'Web', 'Development']"
      ]
     },
     "execution_count": 18,
     "metadata": {},
     "output_type": "execute_result"
    }
   ],
   "source": [
    "data[5]['date_data'].split()"
   ]
  },
  {
   "cell_type": "markdown",
   "id": "4367d8f5",
   "metadata": {},
   "source": [
    "#### converting the extracted data into pandas data frame"
   ]
  },
  {
   "cell_type": "code",
   "execution_count": 19,
   "id": "ac6ebe48",
   "metadata": {},
   "outputs": [],
   "source": [
    "from datetime import datetime\n",
    "final_list_for_df=[]\n",
    "for i in data[1:]:\n",
    "\n",
    "\n",
    "    title_of_vedio=i['title']\n",
    "    url_of_vedio=i['url']\n",
    "    views_of_vedio=i['date_data'].split()[0]\n",
    "    views_of_vedio=views_of_vedio.replace(\",\", \"\")\n",
    "\n",
    "    views_of_vedio=int(views_of_vedio.strip(\",\"))\n",
    "    \n",
    "    try:\n",
    "        dmy=[]\n",
    "    \n",
    " \n",
    "        for j in i['date_data'].split()[2:5]:\n",
    "            j=j.strip(\" \")\n",
    "            j=j.strip(\",\")\n",
    "            dmy.append(j)\n",
    "        date_of_vedio=int(dmy[1])\n",
    "        month_of_vedio=dmy[0]\n",
    "        year_of_vedio=int(dmy[2])\n",
    "        \n",
    "    except:\n",
    "        dmy=[]\n",
    "        for j in i['date_data'].split()[3:6]:\n",
    "            \n",
    "            j=j.strip(\" \")\n",
    "            j=j.strip(\",\")\n",
    "            dmy.append(j)\n",
    "    \n",
    "        date_of_vedio=int(dmy[1])\n",
    "        month_of_vedio=dmy[0]\n",
    "        year_of_vedio=int(dmy[2])\n",
    "        \n",
    "    text=i['text']\n",
    "    l=text.split(\"ago\")[1].split()[:-2]\n",
    "    l.reverse()\n",
    "\n",
    "    h=0\n",
    "    m=0\n",
    "    s=0\n",
    "    for k in range(len(l)):\n",
    "        if(l[k].strip(\",\")==\"second\" or l[k].strip(\",\")==\"seconds\"):\n",
    "            s=int(l[k+1])\n",
    "        elif(l[k].strip(',')=='minute' or l[k].strip(',')=='minutes'):\n",
    "            m=int(l[k+1])\n",
    "        elif(l[k].strip(\",\")=='hour' or l[k].strip(\",\")=='hours'):\n",
    "            h=int(l[k+1])\n",
    "    date_str = f\"{month_of_vedio} {date_of_vedio} {year_of_vedio}\"\n",
    "    date_format = \"%b %d %Y\"\n",
    "    datetime_obj = datetime.strptime(date_str, date_format)\n",
    "    total_seconds = (h * 3600) + (m * 60) + s\n",
    "    final_list=[title_of_vedio,url_of_vedio,views_of_vedio,datetime_obj,total_seconds]\n",
    "    final_list_for_df.append(final_list)\n",
    "  \n",
    "\n",
    "    \n",
    "        \n",
    "        \n",
    "    \n",
    "    "
   ]
  },
  {
   "cell_type": "code",
   "execution_count": 20,
   "id": "841a2b94",
   "metadata": {},
   "outputs": [],
   "source": [
    "import pandas as pd"
   ]
  },
  {
   "cell_type": "code",
   "execution_count": 21,
   "id": "ac2087d7",
   "metadata": {},
   "outputs": [],
   "source": [
    "df = pd.DataFrame(final_list_for_df, columns=[\"title\", \"url\", \"views\", \"date_of_rec\", \"durations\"])"
   ]
  },
  {
   "cell_type": "code",
   "execution_count": 23,
   "id": "c00b69d3",
   "metadata": {},
   "outputs": [],
   "source": [
    "df.to_csv(\"data_csv_sclar\")"
   ]
  },
  {
   "cell_type": "markdown",
   "id": "3e25a8c4",
   "metadata": {},
   "source": [
    "#### Tasks & Questions:\n"
   ]
  },
  {
   "cell_type": "markdown",
   "id": "7613f390",
   "metadata": {},
   "source": [
    "#### 1. Number of videos in the past 6 months from the start date. Must mention the dates in the solution."
   ]
  },
  {
   "cell_type": "code",
   "execution_count": null,
   "id": "e654b360",
   "metadata": {},
   "outputs": [],
   "source": [
    "current_date = datetime.now()\n",
    "six_months_ago = current_date - timedelta(days=6*30)\n",
    "filtered_df = df[df['date_of_rec'] >= six_months_ago]"
   ]
  },
  {
   "cell_type": "code",
   "execution_count": null,
   "id": "02c87b67",
   "metadata": {},
   "outputs": [],
   "source": [
    "filtered_df[['title','date_of_rec']]"
   ]
  },
  {
   "cell_type": "markdown",
   "id": "6aae55c5",
   "metadata": {},
   "source": [
    "There are 63 vedios which are posted in last 6 months "
   ]
  },
  {
   "cell_type": "code",
   "execution_count": null,
   "id": "ddc7f9ff",
   "metadata": {},
   "outputs": [],
   "source": []
  },
  {
   "cell_type": "markdown",
   "id": "c63b191b",
   "metadata": {},
   "source": [
    "#### 2. Create a pandas data frame with columns name as videos title, views, Length of videos, and videos link"
   ]
  },
  {
   "cell_type": "code",
   "execution_count": null,
   "id": "1784a515",
   "metadata": {},
   "outputs": [],
   "source": [
    "df"
   ]
  },
  {
   "cell_type": "code",
   "execution_count": null,
   "id": "d4e98caa",
   "metadata": {},
   "outputs": [],
   "source": [
    "df.info()"
   ]
  },
  {
   "cell_type": "markdown",
   "id": "0314f290",
   "metadata": {},
   "source": [
    "#### we have created the data frame with columns title url views , date , durations"
   ]
  },
  {
   "cell_type": "code",
   "execution_count": null,
   "id": "04540829",
   "metadata": {},
   "outputs": [],
   "source": []
  },
  {
   "cell_type": "markdown",
   "id": "75a30f39",
   "metadata": {},
   "source": [
    "#### 3. Name the most viewed topics in the past 6 months."
   ]
  },
  {
   "cell_type": "code",
   "execution_count": null,
   "id": "d056654d",
   "metadata": {},
   "outputs": [],
   "source": [
    "filtered_df.sort_values(by=\"views\",ascending=False)"
   ]
  },
  {
   "cell_type": "code",
   "execution_count": null,
   "id": "98505b29",
   "metadata": {},
   "outputs": [],
   "source": [
    "filtered_df.sort_values(by=\"views\",ascending=False).iloc[:10] # top ten "
   ]
  },
  {
   "cell_type": "code",
   "execution_count": null,
   "id": "b76ea1dc",
   "metadata": {},
   "outputs": [],
   "source": [
    "filtered_df.sort_values(by=\"views\",ascending=False).iloc[:5]['title'] # top 5"
   ]
  },
  {
   "cell_type": "markdown",
   "id": "df967e65",
   "metadata": {},
   "source": [
    "#### top 5 viewed topics or vedios in past 6 months \n",
    " GeeksforGeeks Classroom Program | Now in Noida...  - 109383 views\n",
    " \n",
    "Free Summer Offline Classes on Python Programi...    -106927  views\n",
    "\n",
    "Full Stack Development | LIVE Classes | Geeksf...    -89386\t views\n",
    "\n",
    "Job Fair for Students | Till 25th May Only | G...    -82851\tviews\n",
    "\n",
    "Master DSA Today and be the Masters of Tomorrow      -73570 views"
   ]
  },
  {
   "cell_type": "code",
   "execution_count": null,
   "id": "47e4219e",
   "metadata": {},
   "outputs": [],
   "source": []
  },
  {
   "cell_type": "markdown",
   "id": "f95c61f5",
   "metadata": {},
   "source": [
    "#### 4. Name the topics with the highest video length."
   ]
  },
  {
   "cell_type": "code",
   "execution_count": null,
   "id": "d6201948",
   "metadata": {},
   "outputs": [],
   "source": [
    "df.sort_values(by=\"durations\",ascending=False)"
   ]
  },
  {
   "cell_type": "code",
   "execution_count": null,
   "id": "7685c53f",
   "metadata": {},
   "outputs": [],
   "source": [
    "df.sort_values(by=\"durations\",ascending=False).iloc[:10]"
   ]
  },
  {
   "cell_type": "code",
   "execution_count": null,
   "id": "c6c1f2cb",
   "metadata": {},
   "outputs": [],
   "source": [
    "df.sort_values(by=\"durations\",ascending=False).iloc[:5]"
   ]
  },
  {
   "cell_type": "code",
   "execution_count": null,
   "id": "4a21a93d",
   "metadata": {},
   "outputs": [],
   "source": [
    "df.sort_values(by=\"durations\",ascending=False).iloc[:5]['title']"
   ]
  },
  {
   "cell_type": "markdown",
   "id": "503818d8",
   "metadata": {},
   "source": [
    "####  top 5 highest video length \n",
    "\n",
    " DSA Self-Paced Course Preview | Sandeep Jain |... 7980 seconds\n",
    " \n",
    "Data Analysis Masterclass | Geek-A-Thon | Geek...  5340 seconds\n",
    "\n",
    " Unraveling the Geek-a-thon: The What, How, and...  2700 seconds\n",
    " \n",
    "Welcome Sandeep Jain at KIET Ghaziabad | Geeks...   2640 seconds\n",
    "\n",
    "My journey through the tech world from India t..    2280 seconds"
   ]
  },
  {
   "cell_type": "code",
   "execution_count": null,
   "id": "97ff82ed",
   "metadata": {},
   "outputs": [],
   "source": []
  },
  {
   "cell_type": "markdown",
   "id": "f78b9c59",
   "metadata": {},
   "source": [
    "#### 5. Make a comparison between the number of views and video length using a Graph."
   ]
  },
  {
   "cell_type": "code",
   "execution_count": 24,
   "id": "6a62e4c7",
   "metadata": {},
   "outputs": [],
   "source": [
    "import seaborn as sns\n",
    "import matplotlib.pyplot as plt "
   ]
  },
  {
   "cell_type": "code",
   "execution_count": 25,
   "id": "ffd44b76",
   "metadata": {},
   "outputs": [
    {
     "data": {
      "image/png": "[encoded data removed]",
      "text/plain": [
       "<Figure size 1080x432 with 1 Axes>"
      ]
     },
     "metadata": {
      "needs_background": "light"
     },
     "output_type": "display_data"
    }
   ],
   "source": [
    "plt.figure(figsize=(15, 6))\n",
    "sns.lineplot(x=df['durations'],y=df['views'])\n",
    "plt.show()"
   ]
  },
  {
   "cell_type": "code",
   "execution_count": 26,
   "id": "69c3734f",
   "metadata": {},
   "outputs": [
    {
     "data": {
      "image/png": "[encoded data removed]",
      "text/plain": [
       "<Figure size 720x432 with 1 Axes>"
      ]
     },
     "metadata": {
      "needs_background": "light"
     },
     "output_type": "display_data"
    }
   ],
   "source": [
    "plt.figure(figsize=(10, 6))\n",
    "sns.scatterplot(x=df['durations'],y=df['views'])\n",
    "plt.show()"
   ]
  },
  {
   "cell_type": "code",
   "execution_count": 27,
   "id": "bd1127de",
   "metadata": {},
   "outputs": [
    {
     "data": {
      "text/plain": [
       "<AxesSubplot:xlabel='durations', ylabel='Density'>"
      ]
     },
     "execution_count": 27,
     "metadata": {},
     "output_type": "execute_result"
    },
    {
     "data": {
      "image/png": "[encoded data removed]",
      "text/plain": [
       "<Figure size 432x288 with 1 Axes>"
      ]
     },
     "metadata": {
      "needs_background": "light"
     },
     "output_type": "display_data"
    }
   ],
   "source": [
    "sns.kdeplot(df['durations'])"
   ]
  },
  {
   "cell_type": "code",
   "execution_count": null,
   "id": "4863ae55",
   "metadata": {},
   "outputs": [],
   "source": [
    "df['durations'].mean()"
   ]
  },
  {
   "cell_type": "markdown",
   "id": "025acbb0",
   "metadata": {},
   "source": [
    "#### From above line plot we can say that usually short vedios have much views  ie less that 500 seconds\n",
    "#### less views for 2000 to 5000 seconds vedios\n",
    "#### and the vedios which have high duration above 5000 seconds have good amount of significat views \n",
    "Note : we have only 2 data points which is above 5000 seconds "
   ]
  },
  {
   "cell_type": "markdown",
   "id": "cf90dca8",
   "metadata": {},
   "source": [
    "#### Most of the vedios are in range of  0 to 2000 seconds \n",
    "#### the mean vedio duration is 542 seconds \n"
   ]
  },
  {
   "cell_type": "code",
   "execution_count": 28,
   "id": "b6a33762",
   "metadata": {},
   "outputs": [
    {
     "data": {
      "text/html": [
       "<div>\n",
       "<style scoped>\n",
       "    .dataframe tbody tr th:only-of-type {\n",
       "        vertical-align: middle;\n",
       "    }\n",
       "\n",
       "    .dataframe tbody tr th {\n",
       "        vertical-align: top;\n",
       "    }\n",
       "\n",
       "    .dataframe thead th {\n",
       "        text-align: right;\n",
       "    }\n",
       "</style>\n",
       "<table border=\"1\" class=\"dataframe\">\n",
       "  <thead>\n",
       "    <tr style=\"text-align: right;\">\n",
       "      <th></th>\n",
       "      <th>title</th>\n",
       "      <th>url</th>\n",
       "      <th>views</th>\n",
       "      <th>date_of_rec</th>\n",
       "      <th>durations</th>\n",
       "    </tr>\n",
       "  </thead>\n",
       "  <tbody>\n",
       "    <tr>\n",
       "      <th>0</th>\n",
       "      <td>How to Optimize Your LinkedIn Profile &amp; Resume...</td>\n",
       "      <td>https://www.youtube.com/watch?v=d3Immi3OGOE</td>\n",
       "      <td>1488</td>\n",
       "      <td>2023-08-05</td>\n",
       "      <td>6720</td>\n",
       "    </tr>\n",
       "    <tr>\n",
       "      <th>1</th>\n",
       "      <td>How to Land a Tech Job in 2023? | Product Vs S...</td>\n",
       "      <td>https://www.youtube.com/watch?v=u83usrNFDwE</td>\n",
       "      <td>1723</td>\n",
       "      <td>2023-08-03</td>\n",
       "      <td>1440</td>\n",
       "    </tr>\n",
       "    <tr>\n",
       "      <th>2</th>\n",
       "      <td>React Complete Tutorial 2023 | Part #6 - React...</td>\n",
       "      <td>https://www.youtube.com/watch?v=urXq9tib6So</td>\n",
       "      <td>810</td>\n",
       "      <td>2023-08-01</td>\n",
       "      <td>4860</td>\n",
       "    </tr>\n",
       "    <tr>\n",
       "      <th>3</th>\n",
       "      <td>Work-Life Balance or Higher Pay? | Techies Ans...</td>\n",
       "      <td>https://www.youtube.com/watch?v=YJPX3lZph7g</td>\n",
       "      <td>2888</td>\n",
       "      <td>2023-07-30</td>\n",
       "      <td>2700</td>\n",
       "    </tr>\n",
       "    <tr>\n",
       "      <th>4</th>\n",
       "      <td>React Complete Tutorial 2023 | Part #5 - Admin...</td>\n",
       "      <td>https://www.youtube.com/watch?v=xil7_oZ83xM</td>\n",
       "      <td>1047</td>\n",
       "      <td>2023-07-28</td>\n",
       "      <td>5220</td>\n",
       "    </tr>\n",
       "    <tr>\n",
       "      <th>...</th>\n",
       "      <td>...</td>\n",
       "      <td>...</td>\n",
       "      <td>...</td>\n",
       "      <td>...</td>\n",
       "      <td>...</td>\n",
       "    </tr>\n",
       "    <tr>\n",
       "      <th>144</th>\n",
       "      <td>Data Analysis in Sports Scouting | Data Analyt...</td>\n",
       "      <td>https://www.youtube.com/watch?v=Sf8boIizEnE</td>\n",
       "      <td>2599</td>\n",
       "      <td>2022-09-13</td>\n",
       "      <td>479</td>\n",
       "    </tr>\n",
       "    <tr>\n",
       "      <th>145</th>\n",
       "      <td>Top 10 Data Science Myths Busted | Data Scienc...</td>\n",
       "      <td>https://www.youtube.com/watch?v=AZjBIGUXlsg</td>\n",
       "      <td>5435</td>\n",
       "      <td>2022-09-11</td>\n",
       "      <td>900</td>\n",
       "    </tr>\n",
       "    <tr>\n",
       "      <th>146</th>\n",
       "      <td>From Hisar to Microsoft Dublin ✈️ | Rishi Prak...</td>\n",
       "      <td>https://www.youtube.com/watch?v=GoRudv25cFU</td>\n",
       "      <td>2563</td>\n",
       "      <td>2022-09-10</td>\n",
       "      <td>122</td>\n",
       "    </tr>\n",
       "    <tr>\n",
       "      <th>147</th>\n",
       "      <td>Foresee Resignations with Data | Data Bro Ep #...</td>\n",
       "      <td>https://www.youtube.com/watch?v=HTlpPpcgwKY</td>\n",
       "      <td>4388</td>\n",
       "      <td>2022-09-09</td>\n",
       "      <td>437</td>\n",
       "    </tr>\n",
       "    <tr>\n",
       "      <th>148</th>\n",
       "      <td>Win Your Next Hackathon Easily | Hackathon Com...</td>\n",
       "      <td>https://www.youtube.com/watch?v=UBZCVwrEklA</td>\n",
       "      <td>18438</td>\n",
       "      <td>2022-09-06</td>\n",
       "      <td>1800</td>\n",
       "    </tr>\n",
       "  </tbody>\n",
       "</table>\n",
       "<p>149 rows × 5 columns</p>\n",
       "</div>"
      ],
      "text/plain": [
       "                                                 title  \\\n",
       "0    How to Optimize Your LinkedIn Profile & Resume...   \n",
       "1    How to Land a Tech Job in 2023? | Product Vs S...   \n",
       "2    React Complete Tutorial 2023 | Part #6 - React...   \n",
       "3    Work-Life Balance or Higher Pay? | Techies Ans...   \n",
       "4    React Complete Tutorial 2023 | Part #5 - Admin...   \n",
       "..                                                 ...   \n",
       "144  Data Analysis in Sports Scouting | Data Analyt...   \n",
       "145  Top 10 Data Science Myths Busted | Data Scienc...   \n",
       "146  From Hisar to Microsoft Dublin ✈️ | Rishi Prak...   \n",
       "147  Foresee Resignations with Data | Data Bro Ep #...   \n",
       "148  Win Your Next Hackathon Easily | Hackathon Com...   \n",
       "\n",
       "                                             url  views date_of_rec  durations  \n",
       "0    https://www.youtube.com/watch?v=d3Immi3OGOE   1488  2023-08-05       6720  \n",
       "1    https://www.youtube.com/watch?v=u83usrNFDwE   1723  2023-08-03       1440  \n",
       "2    https://www.youtube.com/watch?v=urXq9tib6So    810  2023-08-01       4860  \n",
       "3    https://www.youtube.com/watch?v=YJPX3lZph7g   2888  2023-07-30       2700  \n",
       "4    https://www.youtube.com/watch?v=xil7_oZ83xM   1047  2023-07-28       5220  \n",
       "..                                           ...    ...         ...        ...  \n",
       "144  https://www.youtube.com/watch?v=Sf8boIizEnE   2599  2022-09-13        479  \n",
       "145  https://www.youtube.com/watch?v=AZjBIGUXlsg   5435  2022-09-11        900  \n",
       "146  https://www.youtube.com/watch?v=GoRudv25cFU   2563  2022-09-10        122  \n",
       "147  https://www.youtube.com/watch?v=HTlpPpcgwKY   4388  2022-09-09        437  \n",
       "148  https://www.youtube.com/watch?v=UBZCVwrEklA  18438  2022-09-06       1800  \n",
       "\n",
       "[149 rows x 5 columns]"
      ]
     },
     "execution_count": 28,
     "metadata": {},
     "output_type": "execute_result"
    }
   ],
   "source": [
    "df"
   ]
  },
  {
   "cell_type": "code",
   "execution_count": 32,
   "id": "ab24d843",
   "metadata": {},
   "outputs": [],
   "source": [
    "df_grouped1 = df.groupby([df['date_of_rec'].dt.year, df['date_of_rec'].dt.month])['views'].sum()"
   ]
  },
  {
   "cell_type": "code",
   "execution_count": 39,
   "id": "0aaa0639",
   "metadata": {},
   "outputs": [],
   "source": [
    "df['year']=df['date_of_rec'].dt.year"
   ]
  },
  {
   "cell_type": "code",
   "execution_count": 40,
   "id": "8b303290",
   "metadata": {},
   "outputs": [],
   "source": [
    "df['month']=df['date_of_rec'].dt.month_name()"
   ]
  },
  {
   "cell_type": "code",
   "execution_count": 45,
   "id": "821048c6",
   "metadata": {},
   "outputs": [],
   "source": [
    "df_a=df.groupby([df['year'],df['month']])['views'].sum().reset_index()"
   ]
  },
  {
   "cell_type": "code",
   "execution_count": 54,
   "id": "557dfaeb",
   "metadata": {},
   "outputs": [
    {
     "data": {
      "text/html": [
       "<div>\n",
       "<style scoped>\n",
       "    .dataframe tbody tr th:only-of-type {\n",
       "        vertical-align: middle;\n",
       "    }\n",
       "\n",
       "    .dataframe tbody tr th {\n",
       "        vertical-align: top;\n",
       "    }\n",
       "\n",
       "    .dataframe thead th {\n",
       "        text-align: right;\n",
       "    }\n",
       "</style>\n",
       "<table border=\"1\" class=\"dataframe\">\n",
       "  <thead>\n",
       "    <tr style=\"text-align: right;\">\n",
       "      <th></th>\n",
       "      <th>year</th>\n",
       "      <th>month</th>\n",
       "      <th>views</th>\n",
       "    </tr>\n",
       "  </thead>\n",
       "  <tbody>\n",
       "    <tr>\n",
       "      <th>0</th>\n",
       "      <td>2022</td>\n",
       "      <td>December</td>\n",
       "      <td>39834</td>\n",
       "    </tr>\n",
       "    <tr>\n",
       "      <th>1</th>\n",
       "      <td>2022</td>\n",
       "      <td>November</td>\n",
       "      <td>86053</td>\n",
       "    </tr>\n",
       "    <tr>\n",
       "      <th>2</th>\n",
       "      <td>2022</td>\n",
       "      <td>October</td>\n",
       "      <td>517260</td>\n",
       "    </tr>\n",
       "    <tr>\n",
       "      <th>3</th>\n",
       "      <td>2022</td>\n",
       "      <td>September</td>\n",
       "      <td>215037</td>\n",
       "    </tr>\n",
       "    <tr>\n",
       "      <th>4</th>\n",
       "      <td>2023</td>\n",
       "      <td>April</td>\n",
       "      <td>213681</td>\n",
       "    </tr>\n",
       "    <tr>\n",
       "      <th>5</th>\n",
       "      <td>2023</td>\n",
       "      <td>August</td>\n",
       "      <td>4021</td>\n",
       "    </tr>\n",
       "    <tr>\n",
       "      <th>6</th>\n",
       "      <td>2023</td>\n",
       "      <td>February</td>\n",
       "      <td>315710</td>\n",
       "    </tr>\n",
       "    <tr>\n",
       "      <th>7</th>\n",
       "      <td>2023</td>\n",
       "      <td>January</td>\n",
       "      <td>59229</td>\n",
       "    </tr>\n",
       "    <tr>\n",
       "      <th>8</th>\n",
       "      <td>2023</td>\n",
       "      <td>July</td>\n",
       "      <td>791684</td>\n",
       "    </tr>\n",
       "    <tr>\n",
       "      <th>9</th>\n",
       "      <td>2023</td>\n",
       "      <td>June</td>\n",
       "      <td>55064</td>\n",
       "    </tr>\n",
       "    <tr>\n",
       "      <th>10</th>\n",
       "      <td>2023</td>\n",
       "      <td>March</td>\n",
       "      <td>158966</td>\n",
       "    </tr>\n",
       "    <tr>\n",
       "      <th>11</th>\n",
       "      <td>2023</td>\n",
       "      <td>May</td>\n",
       "      <td>82839</td>\n",
       "    </tr>\n",
       "  </tbody>\n",
       "</table>\n",
       "</div>"
      ],
      "text/plain": [
       "    year      month   views\n",
       "0   2022   December   39834\n",
       "1   2022   November   86053\n",
       "2   2022    October  517260\n",
       "3   2022  September  215037\n",
       "4   2023      April  213681\n",
       "5   2023     August    4021\n",
       "6   2023   February  315710\n",
       "7   2023    January   59229\n",
       "8   2023       July  791684\n",
       "9   2023       June   55064\n",
       "10  2023      March  158966\n",
       "11  2023        May   82839"
      ]
     },
     "execution_count": 54,
     "metadata": {},
     "output_type": "execute_result"
    }
   ],
   "source": [
    "df_a.sort_values(['year','month'])"
   ]
  },
  {
   "cell_type": "code",
   "execution_count": 53,
   "id": "4e2c48d4",
   "metadata": {},
   "outputs": [
    {
     "data": {
      "text/plain": [
       "<AxesSubplot:xlabel='month', ylabel='views'>"
      ]
     },
     "execution_count": 53,
     "metadata": {},
     "output_type": "execute_result"
    },
    {
     "data": {
      "image/png": "[encoded data removed]",
      "text/plain": [
       "<Figure size 1080x432 with 1 Axes>"
      ]
     },
     "metadata": {
      "needs_background": "light"
     },
     "output_type": "display_data"
    }
   ],
   "source": [
    "plt.figure(figsize=(15, 6))\n",
    "sns.barplot(x=df_a['month'],y=df_a['views'],hue=df_a['year'])"
   ]
  },
  {
   "cell_type": "code",
   "execution_count": 35,
   "id": "41e6e21b",
   "metadata": {},
   "outputs": [
    {
     "name": "stderr",
     "output_type": "stream",
     "text": [
      "C:\\Users\\Abhilash\\anaconda3\\lib\\site-packages\\seaborn\\_decorators.py:36: FutureWarning: Pass the following variable as a keyword arg: x. From version 0.12, the only valid positional argument will be `data`, and passing other arguments without an explicit keyword will result in an error or misinterpretation.\n",
      "  warnings.warn(\n"
     ]
    },
    {
     "data": {
      "text/plain": [
       "<AxesSubplot:xlabel='views'>"
      ]
     },
     "execution_count": 35,
     "metadata": {},
     "output_type": "execute_result"
    },
    {
     "data": {
      "image/png": "[encoded data removed]",
      "text/plain": [
       "<Figure size 432x288 with 1 Axes>"
      ]
     },
     "metadata": {
      "needs_background": "light"
     },
     "output_type": "display_data"
    }
   ],
   "source": [
    "sns.boxplot(df_grouped1)"
   ]
  },
  {
   "cell_type": "code",
   "execution_count": null,
   "id": "bb6944df",
   "metadata": {},
   "outputs": [],
   "source": []
  },
  {
   "cell_type": "code",
   "execution_count": null,
   "id": "c4353ef5",
   "metadata": {},
   "outputs": [],
   "source": []
  }
 ],
 "metadata": {
  "kernelspec": {
   "display_name": "Python 3",
   "language": "python",
   "name": "python3"
  },
  "language_info": {
   "codemirror_mode": {
    "name": "ipython",
    "version": 3
   },
   "file_extension": ".py",
   "mimetype": "text/x-python",
   "name": "python",
   "nbconvert_exporter": "python",
   "pygments_lexer": "ipython3",
   "version": "3.8.8"
  }
 },
 "nbformat": 4,
 "nbformat_minor": 5
}
