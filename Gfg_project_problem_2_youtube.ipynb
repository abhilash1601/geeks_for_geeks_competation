{
  "cells": [
    {
      "cell_type": "markdown",
      "metadata": {
        "id": "view-in-github",
        "colab_type": "text"
      },
      "source": [
        "<a href=\"https://colab.research.google.com/github/abhilash1601/geeks_for_geeks_competation/blob/main/Gfg_project_problem_2_youtube.ipynb\" target=\"_parent\"><img src=\"https://colab.research.google.com/assets/colab-badge.svg\" alt=\"Open In Colab\"/></a>"
      ]
    },
    {
      "cell_type": "code",
      "execution_count": null,
      "id": "0366ef43",
      "metadata": {
        "id": "0366ef43"
      },
      "outputs": [],
      "source": [
        "from bs4 import BeautifulSoup\n",
        "from selenium import webdriver\n",
        "from selenium.webdriver.common.by import By\n",
        "from selenium.webdriver.common.keys import Keys\n",
        "import time\n",
        "import requests\n",
        "from bs4 import BeautifulSoup"
      ]
    },
    {
      "cell_type": "markdown",
      "id": "08c13ecc",
      "metadata": {
        "id": "08c13ecc"
      },
      "source": [
        "## Geeks for Geeks\n",
        "### Problem 2: Geeksforgeeks Data analysis\n",
        "### Scrape the Geeksforgeeks youtube channel videos of the past 6 months' dataset\n",
        "\n",
        "#### Submitted by Abhilash V A - 9880507105 - aabhilash070@gmail.com"
      ]
    },
    {
      "cell_type": "markdown",
      "id": "2c49dea9",
      "metadata": {
        "id": "2c49dea9"
      },
      "source": [
        "#### Scraping the geeks for geeks youtube page and collection the data"
      ]
    },
    {
      "cell_type": "code",
      "execution_count": null,
      "id": "4e3cc116",
      "metadata": {
        "id": "4e3cc116",
        "outputId": "01f817d2-d5f7-4b07-c100-9c117bead638"
      },
      "outputs": [
        {
          "name": "stderr",
          "output_type": "stream",
          "text": [
            "<ipython-input-5-1562be072ed6>:2: DeprecationWarning: executable_path has been deprecated, please pass in a Service object\n",
            "  driver = webdriver.Chrome(executable_path=driver_path)\n"
          ]
        },
        {
          "name": "stdout",
          "output_type": "stream",
          "text": [
            "{'title': '10 TIPS and TRICKS to Crack Internships and Placements | GeeksforGeeks', 'url': 'https://www.youtube.com/watch?v=2QDMIZGeIC4', 'text': '10 TIPS and TRICKS to Crack Internships and Placements | GeeksforGeeks by GeeksforGeeks 4 days ago 9 minutes, 53 seconds 604 views', 'date_data': '604 views  Aug 1, 2023  #Learntocode #GeeksforGeeks #GFG'}\n",
            "-----------------------------------------------\n",
            "{'title': 'Complete School Guide for CBSE | Free Resources For School Students | GeeksforGeeks', 'url': 'https://www.youtube.com/watch?v=1ECMlxC6jbs', 'text': 'Complete School Guide for CBSE | Free Resources For School Students | GeeksforGeeks by GeeksforGeeks 5 days ago 56 seconds 456 views', 'date_data': '456 views  Jul 31, 2023  #GeeksforGeeks #GFG #geeksforgeeks_school'}\n",
            "-----------------------------------------------\n",
            "{'title': 'Master System Design | GeeksforGeeks', 'url': 'https://www.youtube.com/watch?v=vjWLZYeqiN8', 'text': 'Master System Design | GeeksforGeeks by GeeksforGeeks 9 days ago 46 seconds 6,621 views', 'date_data': '6,624 views  Jul 27, 2023  #Learntocode #GeeksforGeeks #GFG'}\n",
            "-----------------------------------------------\n",
            "{'title': 'Unraveling the Geek-a-thon: The What, How, and Why | Geek-A-Thon | GeeksforGeeks', 'url': 'https://www.youtube.com/watch?v=6e0v_NhsFMQ', 'text': 'Unraveling the Geek-a-thon: The What, How, and Why | Geek-A-Thon | GeeksforGeeks by GeeksforGeeks 10 days ago 45 minutes 414 views', 'date_data': '414 views  Jul 27, 2023  #hackathon #geekolympics #geeksforgeeks'}\n",
            "-----------------------------------------------\n",
            "{'title': 'Data Analysis Masterclass | Geek-A-Thon | GeeksforGeeks', 'url': 'https://www.youtube.com/watch?v=-7Emxpn8DXc', 'text': 'Data Analysis Masterclass | Geek-A-Thon | GeeksforGeeks by GeeksforGeeks 11 days ago 1 hour, 29 minutes 568 views', 'date_data': '568 views  Jul 26, 2023  #hackathon #geekolympics #geeksforgeeks'}\n",
            "-----------------------------------------------\n",
            "{'title': 'GeeksforGeeks Offline Classroom Program | Now Open In Noida & Gurgaon', 'url': 'https://www.youtube.com/watch?v=2bPiFkt3Nmg', 'text': 'GeeksforGeeks Offline Classroom Program | Now Open In Noida & Gurgaon by GeeksforGeeks 11 days ago 28 seconds 7,986 views', 'date_data': '7,987 views  Jul 25, 2023  #interviewpreparation #DSA #mernstack'}\n",
            "-----------------------------------------------\n",
            "{'title': 'Kickstart your DevOps Career | GeeksforGeeks', 'url': 'https://www.youtube.com/watch?v=8gwwlpBwr_s', 'text': 'Kickstart your DevOps Career | GeeksforGeeks by GeeksforGeeks 2 weeks ago 30 seconds 13,501 views', 'date_data': '13,482 views  Jul 21, 2023  #Learntocode #GeeksforGeeks #GFG'}\n",
            "-----------------------------------------------\n",
            "{'title': 'First Ever KBC at our Offline Classes | GeeksforGeeks', 'url': 'https://www.youtube.com/watch?v=chYg2EAKW2A', 'text': 'First Ever KBC at our Offline Classes | GeeksforGeeks by GeeksforGeeks 2 weeks ago 37 seconds 587 views', 'date_data': '587 views  Jul 20, 2023  #Learntocode #GeeksforGeeks #GFG'}\n",
            "-----------------------------------------------\n",
            "{'title': 'Mega Job-a-thon for Working Professionals | 21st July | GeeksforGeeks', 'url': 'https://www.youtube.com/watch?v=CyOh-WDfUvs', 'text': 'Mega Job-a-thon for Working Professionals | 21st July | GeeksforGeeks by GeeksforGeeks 3 weeks ago 36 seconds 1,014 views', 'date_data': '1,014 views  Jul 13, 2023  #Learntocode #GeeksforGeeks #GFG'}\n",
            "-----------------------------------------------\n",
            "{'title': 'Explore GeeksforGeeks Hiring Solutions | For Top Tech Companies | Innovative Hiring Solutions', 'url': 'https://www.youtube.com/watch?v=GDeoPHRqb5w', 'text': 'Explore GeeksforGeeks Hiring Solutions | For Top Tech Companies | Innovative Hiring Solutions by GeeksforGeeks 4 weeks ago 2 minutes, 51 seconds 591 views', 'date_data': '591 views  Jul 7, 2023  #Learntocode #GeeksforGeeks #GFG'}\n",
            "-----------------------------------------------\n",
            "{'title': 'Geek-O-Lympics 2023 | GeeksforGeeks', 'url': 'https://www.youtube.com/watch?v=hLqJiIu6LzY', 'text': 'Geek-O-Lympics 2023 | GeeksforGeeks by GeeksforGeeks 1 month ago 46 seconds 3,377 views', 'date_data': '3,377 views  Jun 30, 2023  #Learntocode #GeeksforGeeks #GFG'}\n",
            "-----------------------------------------------\n",
            "{'title': 'Web 3.0 Explained | GeeksforGeeks', 'url': 'https://www.youtube.com/watch?v=zEPRJMk3p90', 'text': 'Web 3.0 Explained | GeeksforGeeks by GeeksforGeeks 1 month ago 17 minutes 1,539 views', 'date_data': '1,539 views  Jun 26, 2023  #Learntocode #GeeksforGeeks #GFG'}\n",
            "-----------------------------------------------\n",
            "{'title': 'Geek-O-Lympics 2023 | 1st - 31st July | GeeksforGeeks', 'url': 'https://www.youtube.com/watch?v=GSqepfZLKU0', 'text': 'Geek-O-Lympics 2023 | 1st - 31st July | GeeksforGeeks by GeeksforGeeks 1 month ago 10 seconds 1,183 views', 'date_data': '1,183 views  Jun 25, 2023  #Learntocode #GeeksforGeeks #GFG'}\n",
            "-----------------------------------------------\n",
            "{'title': 'What Is Web Scraping & What It Is Used For | How To Use Web Scraping | GeeksforGeeks', 'url': 'https://www.youtube.com/watch?v=MK15a0ipg-E', 'text': 'What Is Web Scraping & What It Is Used For | How To Use Web Scraping | GeeksforGeeks by GeeksforGeeks 1 month ago 2 minutes, 47 seconds 1,085 views', 'date_data': '1,085 views  Jun 22, 2023  #Learntocode #GeeksforGeeks #GFG'}\n",
            "-----------------------------------------------\n",
            "{'title': 'Mega Job-A-Thon | Hire Top Talent for Your Company | GeeksforGeeks', 'url': 'https://www.youtube.com/watch?v=cWPqVVobUuA', 'text': 'Mega Job-A-Thon | Hire Top Talent for Your Company | GeeksforGeeks by GeeksforGeeks 1 month ago 56 seconds 1,103 views', 'date_data': '1,103 views  Jun 21, 2023  #Learntocode #GeeksforGeeks #GFG'}\n",
            "-----------------------------------------------\n",
            "{'title': 'DSA To Development: A Complete Coding Guide | Complete Coding Program By GeeksforGeeks', 'url': 'https://www.youtube.com/watch?v=phr8lXH2Ee0', 'text': 'DSA To Development: A Complete Coding Guide | Complete Coding Program By GeeksforGeeks by GeeksforGeeks 1 month ago 43 seconds 48,468 views', 'date_data': '48,487 views  Jun 19, 2023  #Learntocode #GeeksforGeeks #GFG'}\n",
            "-----------------------------------------------\n",
            "{'title': 'What is Queue (Updated) | Queues Explained | GeeksforGeeks', 'url': 'https://www.youtube.com/watch?v=ypJwoz_SXTo', 'text': 'What is Queue (Updated) | Queues Explained | GeeksforGeeks by GeeksforGeeks 1 month ago 8 minutes, 50 seconds 950 views', 'date_data': '950 views  Jun 15, 2023  #Learntocode #GeeksforGeeks #GFG'}\n",
            "-----------------------------------------------\n",
            "{'title': 'Queue Practice Questions (Updated) | DSA Concepts | GeeksforGeeks', 'url': 'https://www.youtube.com/watch?v=KG4dbF5xRig', 'text': 'Queue Practice Questions (Updated) | DSA Concepts | GeeksforGeeks by GeeksforGeeks 1 month ago 12 minutes, 14 seconds 1,030 views', 'date_data': '1,030 views  Jun 12, 2023  #Learntocode #GeeksforGeeks #GFG'}\n",
            "-----------------------------------------------\n",
            "{'title': 'Free Summer Offline Classes on Python Programing | For Students Aged 14-21 | GeeksforGeeks', 'url': 'https://www.youtube.com/watch?v=OOLXHwZzHfM', 'text': 'Free Summer Offline Classes on Python Programing | For Students Aged 14-21 | GeeksforGeeks by GeeksforGeeks 1 month ago 37 seconds 106,927 views', 'date_data': '106,927 views  Jun 9, 2023  #Learntocode #GeeksforGeeks #GFG'}\n",
            "-----------------------------------------------\n",
            "{'title': 'Python Libraries | Data Science | GeeksforGeeks', 'url': 'https://www.youtube.com/watch?v=nDa75spDmeE', 'text': 'Python Libraries | Data Science | GeeksforGeeks by GeeksforGeeks 2 months ago 1 minute, 26 seconds 1,282 views', 'date_data': '1,282 views  Jun 1, 2023  #Learntocode #GeeksforGeeks #GFG'}\n",
            "-----------------------------------------------\n",
            "{'title': 'ITR Filing Made Simple | Documents require to file ITR | GeeksforGeeks', 'url': 'https://www.youtube.com/watch?v=SWa-tsbaIpg', 'text': 'ITR Filing Made Simple | Documents require to file ITR | GeeksforGeeks by GeeksforGeeks 2 months ago 5 minutes, 40 seconds 932 views', 'date_data': '932 views  May 31, 2023  #Learntocode #GeeksforGeeks #GFG'}\n",
            "-----------------------------------------------\n",
            "{'title': 'Full Stack Development | LIVE Classes | GeeksforGeeks', 'url': 'https://www.youtube.com/watch?v=cBfC9HLR9Qk', 'text': 'Full Stack Development | LIVE Classes | GeeksforGeeks by GeeksforGeeks 2 months ago 35 seconds 89,387 views', 'date_data': '89,386 views  May 30, 2023  #Learntocode #GeeksforGeeks #GFG'}\n",
            "-----------------------------------------------\n"
          ]
        },
        {
          "name": "stdout",
          "output_type": "stream",
          "text": [
            "{'title': 'GeeksforGeeks Classroom Program in NCR', 'url': 'https://www.youtube.com/watch?v=uEhnTpHY26o', 'text': 'GeeksforGeeks Classroom Program in NCR by GeeksforGeeks 2 months ago 37 seconds 2,400 views', 'date_data': '2,400 views  May 25, 2023  #Learntocode #GeeksforGeeks #GFG'}\n",
            "-----------------------------------------------\n",
            "{'title': 'What is Arrays | Arrays Explained | New Video - GeeksforGeeks', 'url': 'https://www.youtube.com/watch?v=3_x_Fb31NLE', 'text': 'What is Arrays | Arrays Explained | New Video - GeeksforGeeks by GeeksforGeeks 2 months ago 9 minutes, 48 seconds 2,558 views', 'date_data': '2,558 views  May 23, 2023  #arrays #learntocode #GeeksforGeeks'}\n",
            "-----------------------------------------------\n",
            "{'title': 'Arrays Practice Questions (Updated) | In C++/JAVA/Python | GeeksforGeeks', 'url': 'https://www.youtube.com/watch?v=J7EhXvnixRM', 'text': 'Arrays Practice Questions (Updated) | In C++/JAVA/Python | GeeksforGeeks by GeeksforGeeks 2 months ago 10 minutes, 48 seconds 2,670 views', 'date_data': '2,670 views  May 22, 2023  #arrays #Learntocode #GeeksforGeeks'}\n",
            "-----------------------------------------------\n",
            "{'title': 'Gate 2024: Prepare for Success! | GATE CSE 2024 | GeeksforGeeks', 'url': 'https://www.youtube.com/watch?v=G-3vZKPEtKw', 'text': 'Gate 2024: Prepare for Success! | GATE CSE 2024 | GeeksforGeeks by GeeksforGeeks 2 months ago 52 seconds 27,474 views', 'date_data': '27,467 views  May 18, 2023  #GATECSE #GATE #GATE2024'}\n",
            "-----------------------------------------------\n",
            "{'title': 'Get Started with CP | Competitive Programming Tips | GeeksforGeeks', 'url': 'https://www.youtube.com/watch?v=FCEj-mreXvI', 'text': 'Get Started with CP | Competitive Programming Tips | GeeksforGeeks by GeeksforGeeks 2 months ago 1 minute, 39 seconds 2,294 views', 'date_data': '2,294 views  May 16, 2023  #cp #competitiveprogramming #GeeksforGeeks'}\n",
            "-----------------------------------------------\n",
            "{'title': 'React VS Angular VS Vue | GeeksforGeeks', 'url': 'https://www.youtube.com/watch?v=sA2vgFR-fZc', 'text': 'React VS Angular VS Vue | GeeksforGeeks by GeeksforGeeks 2 months ago 1 minute, 35 seconds 3,008 views', 'date_data': '3,008 views  May 10, 2023  #angular #javascript #React'}\n",
            "-----------------------------------------------\n",
            "{'title': 'GeeksforGeeks Classroom Program | Now in Noida and Gurugram!', 'url': 'https://www.youtube.com/watch?v=16D2cuRy5JY', 'text': 'GeeksforGeeks Classroom Program | Now in Noida and Gurugram! by GeeksforGeeks 2 months ago 38 seconds 109,462 views', 'date_data': '109,383 views  May 8, 2023  #classroom #GeeksforGeeks #offlinelearning'}\n",
            "-----------------------------------------------\n",
            "{'title': 'Transformers in NLP | GeeksforGeeks', 'url': 'https://www.youtube.com/watch?v=-eqjV5dwb9Q', 'text': 'Transformers in NLP | GeeksforGeeks by GeeksforGeeks 3 months ago 28 minutes 2,185 views', 'date_data': '2,185 views  May 4, 2023  #Learntocode #GeeksforGeeks #GFG'}\n",
            "-----------------------------------------------\n",
            "{'title': \"Jobs that AI can't replace | GeeksforGeeks\", 'url': 'https://www.youtube.com/watch?v=uY05MFnSMwU', 'text': \"Jobs that AI can't replace | GeeksforGeeks by GeeksforGeeks 3 months ago 3 minutes, 17 seconds 3,111 views\", 'date_data': '3,111 views  May 2, 2023  #Learntocode #GeeksforGeeks #GFG'}\n",
            "-----------------------------------------------\n",
            "{'title': 'Job Fair for Students | Till 25th May Only | GeeksforGeeks', 'url': 'https://www.youtube.com/watch?v=1GEegOb3fHE', 'text': 'Job Fair for Students | Till 25th May Only | GeeksforGeeks by GeeksforGeeks 3 months ago 39 seconds 82,852 views', 'date_data': '82,851 views  May 2, 2023  #JobFair #fresherjobs #jobsearch'}\n",
            "-----------------------------------------------\n",
            "{'title': 'Flutter: \"Pros and Cons\" | GeeksforGeeks', 'url': 'https://www.youtube.com/watch?v=0gnaXUiSELY', 'text': 'Flutter: \"Pros and Cons\" | GeeksforGeeks by GeeksforGeeks 3 months ago 8 minutes, 44 seconds 2,659 views', 'date_data': '2,659 views  Apr 28, 2023  #Learntocode #GeeksforGeeks #GFG'}\n",
            "-----------------------------------------------\n",
            "{'title': 'Hire Best Talent with GeeksforGeeks', 'url': 'https://www.youtube.com/watch?v=xifGlf39ahQ', 'text': 'Hire Best Talent with GeeksforGeeks by GeeksforGeeks 3 months ago 54 seconds 14,239 views', 'date_data': '14,239 views  Apr 26, 2023  #Learntocode #GeeksforGeeks #GFG'}\n",
            "-----------------------------------------------\n",
            "{'title': 'Tech Jobs without Degree | GeeksforGeeks', 'url': 'https://www.youtube.com/watch?v=5jHvfzt8Ors', 'text': 'Tech Jobs without Degree | GeeksforGeeks by GeeksforGeeks 3 months ago 2 minutes, 3 seconds 1,374 views', 'date_data': '1,374 views  Apr 25, 2023  #Learntocode #GeeksforGeeks #GFG'}\n",
            "-----------------------------------------------\n",
            "{'title': 'Start your writing Journey | Geek Author Badges | GeeksforGeeks', 'url': 'https://www.youtube.com/watch?v=ISPOKldx90E', 'text': 'Start your writing Journey | Geek Author Badges | GeeksforGeeks by GeeksforGeeks 3 months ago 1 minute, 12 seconds 1,262 views', 'date_data': '1,262 views  Apr 19, 2023  #Learntocode #GeeksforGeeks #GFG'}\n",
            "-----------------------------------------------\n",
            "{'title': 'Presenting: GeeksforGeeks Author Badges | Honoring the Writer in You!', 'url': 'https://www.youtube.com/watch?v=kW9BohViP04', 'text': 'Presenting: GeeksforGeeks Author Badges | Honoring the Writer in You! by GeeksforGeeks 3 months ago 56 seconds 1,105 views', 'date_data': '1,105 views  Apr 18, 2023  #geeksforgeeks #gfg'}\n",
            "-----------------------------------------------\n",
            "{'title': 'Create Your Own Apps Today | GeeksforGeeks', 'url': 'https://www.youtube.com/watch?v=LycNCWC3g18', 'text': 'Create Your Own Apps Today | GeeksforGeeks by GeeksforGeeks 3 months ago 38 seconds 34,915 views', 'date_data': '34,915 views  Apr 17, 2023  #Learntocode #GeeksforGeeks #GFG'}\n",
            "-----------------------------------------------\n",
            "{'title': 'Top 10 DSA Topics | Master these To Ace In Your Career | GeeksforGeeks', 'url': 'https://www.youtube.com/watch?v=t8aN8nczZlA', 'text': 'Top 10 DSA Topics | Master these To Ace In Your Career | GeeksforGeeks by GeeksforGeeks 3 months ago 5 minutes, 38 seconds 2,440 views', 'date_data': '2,440 views  Apr 7, 2023  #interviewtips #DSA #learntocode'}\n",
            "-----------------------------------------------\n",
            "{'title': 'Ernie vs ChatGPT | GeeksforGeeks', 'url': 'https://www.youtube.com/watch?v=iM-EpJHn59Q', 'text': 'Ernie vs ChatGPT | GeeksforGeeks by GeeksforGeeks 4 months ago 1 minute, 32 seconds 1,020 views', 'date_data': '1,021 views  Apr 5, 2023  #Learntocode #GeeksforGeeks #GFG'}\n",
            "-----------------------------------------------\n",
            "{'title': 'Rule the Coding World with Geek Summer Carnival | GeeksforGeeks', 'url': 'https://www.youtube.com/watch?v=zLj3Qb9T2Q4', 'text': 'Rule the Coding World with Geek Summer Carnival | GeeksforGeeks by GeeksforGeeks 4 months ago 42 seconds 25,487 views', 'date_data': '25,487 views  Apr 4, 2023  #Learntocode #GeeksforGeeks #GFG'}\n",
            "-----------------------------------------------\n",
            "{'title': 'How to become a Full Stack Developer | GeeksforGeeks', 'url': 'https://www.youtube.com/watch?v=uSx5XsCkX3c', 'text': 'How to become a Full Stack Developer | GeeksforGeeks by GeeksforGeeks 4 months ago 11 minutes, 57 seconds 4,723 views', 'date_data': '4,723 views  Apr 3, 2023  #Learntocode #GeeksforGeeks #GFG'}\n",
            "-----------------------------------------------\n",
            "{'title': 'Office Video Leaked 😰🤯', 'url': 'https://www.youtube.com/watch?v=i_HlQl7Tg9Q', 'text': 'Office Video Leaked 😰🤯 by GeeksforGeeks 4 months ago 1 minute, 35 seconds 5,280 views', 'date_data': '5,280 views  Apr 2, 2023  #Learntocode #GeeksforGeeks #GFG'}\n",
            "-----------------------------------------------\n",
            "{'title': 'UI/UX Trends every Startup must know! | @thegeekmonk1707 |GeeksforGeeks', 'url': 'https://www.youtube.com/watch?v=_E6_jZJAT3k', 'text': 'UI/UX Trends every Startup must know! | @thegeekmonk1707 |GeeksforGeeks by GeeksforGeeks 4 months ago 2 minutes, 3 seconds 1,036 views', 'date_data': '1,036 views  Mar 27, 2023  #Learntocode #GeeksforGeeks #GFG'}\n",
            "-----------------------------------------------\n",
            "{'title': 'Age is Just a Number: The Story of a 14-Year-Old CEO | CodeCast | GeeksforGeeks', 'url': 'https://www.youtube.com/watch?v=TASew4CmC9w', 'text': 'Age is Just a Number: The Story of a 14-Year-Old CEO | CodeCast | GeeksforGeeks by GeeksforGeeks 4 months ago 16 minutes 14,228 views', 'date_data': '14,229 views  Mar 21, 2023  #youngentrepreneur #entrepreneur #podcast'}\n",
            "-----------------------------------------------\n"
          ]
        },
        {
          "name": "stdout",
          "output_type": "stream",
          "text": [
            "{'title': \"How to Use GPT 4 | How it's better from GPT 3 | GeeksforGeeks\", 'url': 'https://www.youtube.com/watch?v=Mnx3TAgbX7o', 'text': \"How to Use GPT 4 | How it's better from GPT 3 | GeeksforGeeks by GeeksforGeeks 4 months ago 3 minutes, 42 seconds 3,978 views\", 'date_data': '3,978 views  Mar 20, 2023  #gpt4 #chatgpt #Learntocode'}\n",
            "-----------------------------------------------\n",
            "{'title': 'Master DSA Today and be the Masters of Tomorrow', 'url': 'https://www.youtube.com/watch?v=PsOXP5hg52w', 'text': 'Master DSA Today and be the Masters of Tomorrow by GeeksforGeeks 4 months ago 25 seconds 73,625 views', 'date_data': '73,570 views  Mar 15, 2023  #Learntocode #GeeksforGeeks #GFG'}\n",
            "-----------------------------------------------\n",
            "{'title': 'How to avoid getting Laid Off | ft. Dr. Sneha Sharma', 'url': 'https://www.youtube.com/watch?v=s4frRcj17AM', 'text': 'How to avoid getting Laid Off | ft. Dr. Sneha Sharma by GeeksforGeeks 4 months ago 31 minutes 1,100 views', 'date_data': '1,100 views  Mar 14, 2023  #Learntocode #GeeksforGeeks #GFG'}\n",
            "-----------------------------------------------\n",
            "{'title': 'Psychology of Deciding Your Career ft. Dhairya Gangwani | GeeksforGeeks', 'url': 'https://www.youtube.com/watch?v=0oPyv39ynTo', 'text': 'Psychology of Deciding Your Career ft. Dhairya Gangwani | GeeksforGeeks by GeeksforGeeks 4 months ago 19 minutes 845 views', 'date_data': '846 views  Mar 13, 2023  #Learntocode #GeeksforGeeks #GFG'}\n",
            "-----------------------------------------------\n",
            "{'title': 'CodeCast Ep. 3 | Learn all About Competitive Programming | @PriyanshAgarwal with Mr. Sandeep Jain', 'url': 'https://www.youtube.com/watch?v=5uAFQqdS9oA', 'text': 'CodeCast Ep. 3 | Learn all About Competitive Programming | @PriyanshAgarwal  with Mr. Sandeep Jain by GeeksforGeeks 4 months ago 31 minutes 5,853 views', 'date_data': '5,854 views  Mar 9, 2023  #codinglife #CP #competitiveprogramming'}\n",
            "-----------------------------------------------\n",
            "{'title': 'Advice for Women in Tech | ft. @PriyaVajpeyi', 'url': 'https://www.youtube.com/watch?v=tn5BHjwAvTc', 'text': 'Advice for Women in Tech | ft. @PriyaVajpeyi by GeeksforGeeks 4 months ago 11 minutes, 55 seconds 1,526 views', 'date_data': '1,526 views  Mar 6, 2023  #Learntocode #GeeksforGeeks #GFG'}\n",
            "-----------------------------------------------\n",
            "{'title': 'Roadmap to Amazon | Twinkle Bajaj - SDE at Amazon', 'url': 'https://www.youtube.com/watch?v=nRbR9A_8nMQ', 'text': 'Roadmap to Amazon | Twinkle Bajaj - SDE at Amazon by GeeksforGeeks 5 months ago 18 minutes 1,745 views', 'date_data': '1,745 views  Mar 4, 2023  #Learntocode #GeeksforGeeks #GFG'}\n",
            "-----------------------------------------------\n",
            "{'title': 'Google Cloud X AMD and GeeksforGeeks Goes to Colleges With Some Fun Twist!', 'url': 'https://www.youtube.com/watch?v=RQuaGniMRUU', 'text': 'Google Cloud X AMD and GeeksforGeeks Goes to Colleges With Some Fun Twist! by GeeksforGeeks 5 months ago 1 minute, 5 seconds 1,481 views', 'date_data': '1,481 views  Feb 27, 2023  #Learntocode #GeeksforGeeks #GFG'}\n",
            "-----------------------------------------------\n",
            "{'title': 'Solving For India Hackathon | @googlecloud X AMD | GeeksforGeeks', 'url': 'https://www.youtube.com/watch?v=p0FQuaFLh0A', 'text': 'Solving For India Hackathon | @googlecloud X AMD | GeeksforGeeks by GeeksforGeeks 5 months ago 47 seconds 2,440 views', 'date_data': '2,440 views  Feb 23, 2023  #Learntocode #GeeksforGeeks #GFG'}\n",
            "-----------------------------------------------\n",
            "{'title': 'GeeksforGeeks Job Fair 2023', 'url': 'https://www.youtube.com/watch?v=xIC1IFPod9Y', 'text': 'GeeksforGeeks Job Fair 2023 by GeeksforGeeks 5 months ago 31 seconds 25,806 views', 'date_data': '25,806 views  Feb 22, 2023  #Learntocode #GeeksforGeeks #GFG'}\n",
            "-----------------------------------------------\n",
            "{'title': \"OpenAI's ChatGPT & GPT 4 | Google's BARD AI | Will AI Replace You?\", 'url': 'https://www.youtube.com/watch?v=2RcaFQzCgys', 'text': \"OpenAI's ChatGPT & GPT 4 | Google's BARD AI | Will AI Replace You? by GeeksforGeeks 5 months ago 35 minutes 1,935 views\", 'date_data': '1,935 views  Feb 21, 2023  #bard #ai #chatgpt'}\n",
            "-----------------------------------------------\n",
            "{'title': 'Get Started With Machine Learning | GeeksforGeeks', 'url': 'https://www.youtube.com/watch?v=RSVndjS2gMM', 'text': 'Get Started With Machine Learning | GeeksforGeeks by GeeksforGeeks 5 months ago 15 minutes 1,686 views', 'date_data': '1,687 views  Feb 20, 2023  #machinelearning #ml #GeeksforGeeks'}\n",
            "-----------------------------------------------\n",
            "{'title': \"🎊Celebrating Bi-Wizard's First Anniversary🎊 | Join the Best Young Coders in the World\", 'url': 'https://www.youtube.com/watch?v=D8aEoRbwC64', 'text': \"🎊Celebrating Bi-Wizard's First Anniversary🎊 | Join the Best Young Coders in the World by GeeksforGeeks 5 months ago 31 seconds 612 views\", 'date_data': '612 views  Feb 19, 2023  #school #gfg #biwizard'}\n",
            "-----------------------------------------------\n",
            "{'title': 'Meet Shikar Goel, CTO of GeeksforGeeks | Know His Journey', 'url': 'https://www.youtube.com/watch?v=d2zk6YEqGsM', 'text': 'Meet Shikar Goel, CTO of GeeksforGeeks | Know His Journey by GeeksforGeeks 5 months ago 37 minutes 1,655 views', 'date_data': '1,655 views  Feb 17, 2023  #Learntocode #GeeksforGeeks #GFG'}\n",
            "-----------------------------------------------\n",
            "{'title': 'An Opportunity for Recruiters to Hire Top Tech Talent | Jobs Fair 2023 | GeeksforGeeks', 'url': 'https://www.youtube.com/watch?v=RbQt5dz8Dws', 'text': 'An Opportunity for Recruiters to Hire Top Tech Talent | Jobs Fair 2023 | GeeksforGeeks by GeeksforGeeks 5 months ago 26 seconds 1,794 views', 'date_data': '1,794 views  Feb 16, 2023  #Learntocode #GeeksforGeeks #GFG'}\n",
            "-----------------------------------------------\n",
            "{'title': 'A.I. Apps That Can Change Your Lives | GeeksforGeeks', 'url': 'https://www.youtube.com/watch?v=kApRNheEJ8Q', 'text': 'A.I. Apps That Can Change Your Lives | GeeksforGeeks by GeeksforGeeks 5 months ago 3 minutes, 30 seconds 2,855 views', 'date_data': '2,855 views  Feb 15, 2023  #Learntocode #GeeksforGeeks #GFG'}\n",
            "-----------------------------------------------\n",
            "{'title': 'Roadmap To Master Recursion? Roadmap To Master Recursion! | GeeksforGeeks', 'url': 'https://www.youtube.com/watch?v=51JvvwqQmlQ', 'text': 'Roadmap To Master Recursion? Roadmap To Master Recursion! | GeeksforGeeks by GeeksforGeeks 5 months ago 1 minute, 52 seconds 2,412 views', 'date_data': '2,412 views  Feb 13, 2023  #Learntocode #GeeksforGeeks #GFG'}\n",
            "-----------------------------------------------\n",
            "{'title': 'CodeCast Ep. 2 | SDE Without A Technical Degree? | GeeksforGeeks', 'url': 'https://www.youtube.com/watch?v=XlcpYRp0ouc', 'text': 'CodeCast Ep. 2 | SDE Without A Technical Degree? | GeeksforGeeks by GeeksforGeeks 5 months ago 6 minutes, 55 seconds 1,900 views', 'date_data': '1,900 views  Feb 8, 2023  #Learntocode #GeeksforGeeks #GFG'}\n",
            "-----------------------------------------------\n",
            "{'title': 'The Art of Becoming a Successful Coder | GeeksforGeeks', 'url': 'https://www.youtube.com/watch?v=jO2SyGwS4bA', 'text': 'The Art of Becoming a Successful Coder | GeeksforGeeks by GeeksforGeeks 5 months ago 15 minutes 6,739 views', 'date_data': '6,739 views  Feb 7, 2023  #Learntocode #GeeksforGeeks #GFG'}\n",
            "-----------------------------------------------\n",
            "{'title': 'Optimal Way to Get Started with DSA | GeeksforGeeks', 'url': 'https://www.youtube.com/watch?v=-WLD1oY2dB4', 'text': 'Optimal Way to Get Started with DSA | GeeksforGeeks by GeeksforGeeks 6 months ago 2 minutes, 41 seconds 7,108 views', 'date_data': '7,109 views  Feb 3, 2023  #Learntocode #GeeksforGeeks #GFG'}\n",
            "-----------------------------------------------\n",
            "{'title': 'Mistakes to Avoid in Your Next Job Interview | GeeksforGeeks', 'url': 'https://www.youtube.com/watch?v=1uO3E57gPpE', 'text': 'Mistakes to Avoid in Your Next Job Interview | GeeksforGeeks by GeeksforGeeks 6 months ago 1 minute, 2 seconds 1,538 views', 'date_data': '1,538 views  Feb 1, 2023  #interviewtips #interviewpreparation #Learntocode'}\n",
            "-----------------------------------------------\n",
            "{'title': 'Master These Coding Practices For Your Placement Preparation | GeeksforGeeks', 'url': 'https://www.youtube.com/watch?v=v_mlqwjlv00', 'text': 'Master These Coding Practices For Your Placement Preparation | GeeksforGeeks by GeeksforGeeks 6 months ago 3 minutes, 58 seconds 5,472 views', 'date_data': '5,472 views  Jan 23, 2023  #codinglife #coding #learntocode'}\n",
            "-----------------------------------------------\n"
          ]
        },
        {
          "name": "stdout",
          "output_type": "stream",
          "text": [
            "{'title': 'Correct Your Mistakes in 1 minute | Data Science | GeeksforGeeks', 'url': 'https://www.youtube.com/watch?v=vNiiuh__7u0', 'text': 'Correct Your Mistakes in 1 minute | Data Science | GeeksforGeeks by GeeksforGeeks 6 months ago 46 seconds 1,290 views', 'date_data': '1,290 views  Jan 20, 2023'}\n",
            "-----------------------------------------------\n",
            "{'title': 'CodeCast Ep. 1 | Journey From A Vegetable Seller To A 10LPA+ Job | GeeksforGeeks', 'url': 'https://www.youtube.com/watch?v=ksRDXChKN70', 'text': 'CodeCast Ep. 1 | Journey From A Vegetable Seller To A 10LPA+ Job | GeeksforGeeks by GeeksforGeeks 6 months ago 7 minutes, 19 seconds 2,409 views', 'date_data': '2,409 views  Jan 11, 2023  #geeksforgeeks #gfg #Codecast'}\n",
            "-----------------------------------------------\n",
            "{'title': \"LIVE DSA Sessions By Everyone's Favorite Teacher!\", 'url': 'https://www.youtube.com/watch?v=qCioG1rwM6I', 'text': \"LIVE DSA Sessions By Everyone's Favorite Teacher! by GeeksforGeeks 6 months ago 32 seconds 4,755 views\", 'date_data': '4,755 views  Jan 8, 2023  #interviewpreparation #DSA #datastructures'}\n",
            "-----------------------------------------------\n",
            "{'title': 'GeeksforGeeks Resolution Days 2023 | Never Before Seen Offers!', 'url': 'https://www.youtube.com/watch?v=mckeyuVM07g', 'text': 'GeeksforGeeks Resolution Days 2023 | Never Before Seen Offers! by GeeksforGeeks 6 months ago 26 seconds 7,067 views', 'date_data': '7,067 views  Jan 7, 2023'}\n",
            "-----------------------------------------------\n",
            "{'title': 'The Top 5 DSA Fails (and How to Avoid Them!)', 'url': 'https://www.youtube.com/watch?v=jMjSpFObSKM', 'text': 'The Top 5 DSA Fails (and How to Avoid Them!) by GeeksforGeeks 7 months ago 5 minutes, 40 seconds 3,348 views', 'date_data': '3,348 views  Jan 4, 2023'}\n",
            "-----------------------------------------------\n",
            "{'title': 'GeeksforGeeks Now On iOS', 'url': 'https://www.youtube.com/watch?v=bMDud1_-x1U', 'text': 'GeeksforGeeks Now On iOS by GeeksforGeeks 7 months ago 21 seconds 1,501 views', 'date_data': '1,501 views  Jan 2, 2023'}\n",
            "-----------------------------------------------\n",
            "{'title': '⛄ Merry Christmas, Geeks! ⛄ | Keep Coding Keep Learning | GeeksforGeeks', 'url': 'https://www.youtube.com/watch?v=AESq1z0Okb0', 'text': '⛄ Merry Christmas, Geeks! ⛄ | Keep Coding Keep Learning | GeeksforGeeks by GeeksforGeeks 7 months ago 15 seconds 1,402 views', 'date_data': '1,402 views  Dec 25, 2022  #christmas #merrychristmas #programmers'}\n",
            "-----------------------------------------------\n",
            "{'title': \"Student Success Story: Placed as an SDE at Byju's with Help from GeeksforGeeks\", 'url': 'https://www.youtube.com/watch?v=yvkQMMU076M', 'text': \"Student Success Story: Placed as an SDE at Byju's with Help from GeeksforGeeks by GeeksforGeeks 7 months ago 49 seconds 1,604 views\", 'date_data': '1,604 views  Dec 7, 2022  #testimonial #competitiveprogramming #geeksforgeeks'}\n",
            "-----------------------------------------------\n",
            "{'title': 'Service Based Test Series By GeeksforGeeks', 'url': 'https://www.youtube.com/watch?v=84a0IXscfgE', 'text': 'Service Based Test Series By GeeksforGeeks by GeeksforGeeks 8 months ago 1 minute, 5 seconds 1,015 views', 'date_data': '1,015 views  Nov 16, 2022'}\n",
            "-----------------------------------------------\n",
            "{'title': \"India's Biggest Technical Content Writing Event is now LIVE 🔴 Participate Now | GeeksforGeeks\", 'url': 'https://www.youtube.com/watch?v=J63OOZzo-p8', 'text': \"India's Biggest Technical Content Writing Event is now LIVE 🔴 Participate Now | GeeksforGeeks by GeeksforGeeks 8 months ago 41 seconds 800 views\", 'date_data': '800 views  Nov 15, 2022  #contentwriting #geeksforgeeks #gfg'}\n",
            "-----------------------------------------------\n",
            "{'title': 'Landing SDE Role at Paytm | GeeksforGeeks', 'url': 'https://www.youtube.com/watch?v=fyo53bLMyA4', 'text': 'Landing SDE Role at Paytm | GeeksforGeeks by GeeksforGeeks 8 months ago 2 minutes, 50 seconds 1,520 views', 'date_data': '1,520 views  Nov 13, 2022  #geeksforgeeks #gfg #sandeepjain'}\n",
            "-----------------------------------------------\n",
            "{'title': 'SDE at Paytm using GFG | GeeksforGeeks', 'url': 'https://www.youtube.com/watch?v=RB1qpEZrcYo', 'text': 'SDE at Paytm using GFG | GeeksforGeeks by GeeksforGeeks 8 months ago 44 seconds 1,373 views', 'date_data': '1,373 views  Nov 12, 2022  #geeksforgeeks #gfg #sandeepjain'}\n",
            "-----------------------------------------------\n",
            "{'title': 'Roadmap to a Career at Amazon | Preparation Strategies by Senior QAE | GeeksforGeeks', 'url': 'https://www.youtube.com/watch?v=e_nnIOwhgzY', 'text': 'Roadmap to a Career at Amazon | Preparation Strategies by Senior QAE | GeeksforGeeks by GeeksforGeeks 9 months ago 27 minutes 5,366 views', 'date_data': '5,366 views  Nov 2, 2022  #amazon #geeksforgeeks #interviewexperiences'}\n",
            "-----------------------------------------------\n",
            "{'title': 'Happy Diwali | GeeksforGeeks presents office Diwali Party', 'url': 'https://www.youtube.com/watch?v=mCvuYVwmU2Y', 'text': 'Happy Diwali | GeeksforGeeks presents office Diwali Party by GeeksforGeeks 9 months ago 59 seconds 1,372 views', 'date_data': '1,372 views  Oct 24, 2022'}\n",
            "-----------------------------------------------\n",
            "{'title': 'Data Analysis Complete Roadmap | GeeksforGeeks', 'url': 'https://www.youtube.com/watch?v=VIg0Ka5U3LA', 'text': 'Data Analysis Complete Roadmap | GeeksforGeeks by GeeksforGeeks 9 months ago 6 minutes, 1 second 3,235 views', 'date_data': '3,235 views  Oct 21, 2022  #dataanalysis #datascience #geeksforgeeks'}\n",
            "-----------------------------------------------\n",
            "{'title': 'Roadmap to a Career at Microsoft | Preparation Strategies by Microsoft SDE | GeeksforGeeks', 'url': 'https://www.youtube.com/watch?v=CyI0QuVWawQ', 'text': 'Roadmap to a Career at Microsoft | Preparation Strategies by Microsoft SDE | GeeksforGeeks by GeeksforGeeks 9 months ago 32 minutes 5,157 views', 'date_data': '5,157 views  Oct 17, 2022  #microsoft #geeksforgeeks #interviewexperiences'}\n",
            "-----------------------------------------------\n",
            "{'title': 'Geek Week 2022 |11th - 17th October | GeeksforGeeks', 'url': 'https://www.youtube.com/watch?v=Aby3ldYnIQE', 'text': 'Geek Week 2022 |11th - 17th October | GeeksforGeeks by GeeksforGeeks 9 months ago 59 seconds 3,399 views', 'date_data': '3,399 views  Oct 10, 2022'}\n",
            "-----------------------------------------------\n",
            "{'title': 'Happy Dussehra 🔥', 'url': 'https://www.youtube.com/watch?v=WkzmnYyEoc8', 'text': 'Happy Dussehra 🔥 by GeeksforGeeks 10 months ago 12 seconds 1,653 views', 'date_data': '1,653 views  Oct 5, 2022'}\n",
            "-----------------------------------------------\n",
            "{'title': 'Stay Tuned for a Big Surprise!!! | GeeksforGeeks', 'url': 'https://www.youtube.com/watch?v=STVrifPDpVU', 'text': 'Stay Tuned for a Big Surprise!!! | GeeksforGeeks by GeeksforGeeks 10 months ago 18 seconds 3,168 views', 'date_data': '3,168 views  Sep 28, 2022  #geeksforgeeks #gfg #geekweek'}\n",
            "-----------------------------------------------\n",
            "{'title': 'GeeksforGeeks Goes to Delhi Technological University | GfG X DTU', 'url': 'https://www.youtube.com/watch?v=QqHMu9gwlno', 'text': 'GeeksforGeeks Goes to Delhi Technological University | GfG X DTU by GeeksforGeeks 10 months ago 1 minute, 24 seconds 1,759 views', 'date_data': '1,759 views  Sep 23, 2022'}\n",
            "-----------------------------------------------\n",
            "{'title': 'Roadmap to a CAREER AT WALMART | Preparation Strategies by Walmart SDE | GeeksforGeeks', 'url': 'https://www.youtube.com/watch?v=AQHyMunhc_k', 'text': 'Roadmap to a CAREER AT WALMART | Preparation Strategies by Walmart SDE | GeeksforGeeks by GeeksforGeeks 10 months ago 30 minutes 5,088 views', 'date_data': '5,089 views  Sep 17, 2022  #walmart #interviewexperiences #geeksforgeeks'}\n",
            "-----------------------------------------------\n",
            "{'title': 'Roadmap to Web Development | Everything About Web Development Ft. Prakash Sakari', 'url': 'https://www.youtube.com/watch?v=PLdt7UobcoY', 'text': 'Roadmap to Web Development | Everything About Web Development Ft. Prakash Sakari by GeeksforGeeks 10 months ago 6 minutes, 2 seconds 2,619 views', 'date_data': '2,619 views  Sep 12, 2022  Everything About Web Development Ft. Prakash Sakari'}\n",
            "-----------------------------------------------\n",
            "{'title': 'Road Map of DSA for Web Development | Everything About Web Development Ft. Prakash Sakari', 'url': 'https://www.youtube.com/watch?v=1b0P4IG7MIc', 'text': 'Road Map of DSA for Web Development | Everything About Web Development Ft. Prakash Sakari by GeeksforGeeks 10 months ago 3 minutes, 11 seconds 3,563 views', 'date_data': '3,563 views  Sep 11, 2022  Everything About Web Development Ft. Prakash Sakari'}\n",
            "-----------------------------------------------\n"
          ]
        },
        {
          "name": "stdout",
          "output_type": "stream",
          "text": [
            "{'title': 'Biggest Coding Mistakes | Everything About Web Development Ft. Prakash Sakari | GeeksforGeeks', 'url': 'https://www.youtube.com/watch?v=cAYfzY-9dao', 'text': 'Biggest Coding Mistakes | Everything About Web Development Ft. Prakash Sakari | GeeksforGeeks by GeeksforGeeks 10 months ago 8 minutes, 29 seconds 2,256 views', 'date_data': '2,256 views  Sep 10, 2022  Everything About Web Development Ft. Prakash Sakari'}\n",
            "-----------------------------------------------\n",
            "{'title': 'Overrated Topics in Web Development | Everything About Web Development Ft. Prakash Sakari', 'url': 'https://www.youtube.com/watch?v=wnwAYPTf9Z8', 'text': 'Overrated Topics in Web Development | Everything About Web Development Ft. Prakash Sakari by GeeksforGeeks 10 months ago 2 minutes, 44 seconds 1,037 views', 'date_data': '1,037 views  Sep 9, 2022  Everything About Web Development Ft. Prakash Sakari'}\n",
            "-----------------------------------------------\n",
            "{'title': 'How Important is UI for Websites? | Everything About Web Development | GeeksforGeeks', 'url': 'https://www.youtube.com/watch?v=imRxEskXGx8', 'text': 'How Important is UI for Websites? | Everything About Web Development | GeeksforGeeks by GeeksforGeeks 10 months ago 3 minutes, 57 seconds 873 views', 'date_data': '873 views  Sep 8, 2022  Everything About Web Development Ft. Prakash Sakari'}\n",
            "-----------------------------------------------\n",
            "{'title': 'Underrated Topics in Web Development | Everything About Web Development Ft. Prakash Sakari', 'url': 'https://www.youtube.com/watch?v=MvxiK9tfjNw', 'text': 'Underrated Topics in Web Development | Everything About Web Development Ft. Prakash Sakari by GeeksforGeeks 10 months ago 3 minutes, 46 seconds 931 views', 'date_data': '931 views  Sep 7, 2022  Everything About Web Development Ft. Prakash Sakari'}\n",
            "-----------------------------------------------\n",
            "{'title': 'Frameworks to Choose for Web Development | Everything About Web Development Ft. Prakash Sakari', 'url': 'https://www.youtube.com/watch?v=UbFk-BTDnqM', 'text': 'Frameworks to Choose for Web Development | Everything About Web Development Ft. Prakash Sakari by GeeksforGeeks 10 months ago 2 minutes, 28 seconds 1,215 views', 'date_data': '1,215 views  Sep 6, 2022  Everything About Web Development Ft. Prakash Sakari'}\n",
            "-----------------------------------------------\n",
            "{'title': 'What is Frontend and Backend? | Everything About Web Development Ft. Prakash Sakari | GeeksforGeeks', 'url': 'https://www.youtube.com/watch?v=xJNtTqSj54M', 'text': 'What is Frontend and Backend? | Everything About Web Development Ft. Prakash Sakari | GeeksforGeeks by GeeksforGeeks 11 months ago 2 minutes, 21 seconds 1,893 views', 'date_data': '1,893 views  Sep 5, 2022  Everything About Web Development Ft. Prakash Sakari'}\n",
            "-----------------------------------------------\n",
            "{'title': 'Is HTML, CSS and Javascript Enough? | Everything About Web Development Ft. Prakash Sakari', 'url': 'https://www.youtube.com/watch?v=EtZIUwvjzjI', 'text': 'Is HTML, CSS and Javascript Enough? | Everything About Web Development Ft. Prakash Sakari by GeeksforGeeks 11 months ago 3 minutes 2,985 views', 'date_data': '2,985 views  Sep 4, 2022  Everything About Web Development Ft. Prakash Sakari'}\n",
            "-----------------------------------------------\n",
            "{'title': 'Web Developers vs Website Builders | Everything About Web Development Ft. Prakash Sakari', 'url': 'https://www.youtube.com/watch?v=s09kmxXbPOg', 'text': 'Web Developers vs Website Builders | Everything About Web Development Ft. Prakash Sakari by GeeksforGeeks 11 months ago 3 minutes, 28 seconds 1,900 views', 'date_data': '1,900 views  Sep 3, 2022  Everything About Web Development Ft. Prakash Sakari'}\n",
            "-----------------------------------------------\n",
            "{'title': 'Future of Web Development | Everything About Web Development Ft. Prakash Sakari | GeeksforGeeks', 'url': 'https://www.youtube.com/watch?v=B40zC1_sJiE', 'text': 'Future of Web Development | Everything About Web Development Ft. Prakash Sakari | GeeksforGeeks by GeeksforGeeks 11 months ago 3 minutes, 1 second 4,369 views', 'date_data': '4,370 views  Sep 2, 2022  Everything About Web Development Ft. Prakash Sakari'}\n",
            "-----------------------------------------------\n",
            "{'title': 'Web 3.0 Explained! Web 1.0 vs Web 2.0 vs Web3.0| Everything About Web Development Ft. Prakash Sakari', 'url': 'https://www.youtube.com/watch?v=6ktny7tGepA', 'text': 'Web 3.0 Explained! Web 1.0 vs Web 2.0 vs Web3.0| Everything About Web Development Ft. Prakash Sakari by GeeksforGeeks 11 months ago 5 minutes, 10 seconds 3,807 views', 'date_data': '3,808 views  Aug 30, 2022  Everything About Web Development Ft. Prakash Sakari'}\n",
            "-----------------------------------------------\n",
            "{'title': 'Job or Higher Studies? The BEST Choice After Graduation! Ft. Avinash Kumar | GeeksforGeeks', 'url': 'https://www.youtube.com/watch?v=fYlESZ6SaCA', 'text': 'Job or Higher Studies? The BEST Choice After Graduation! Ft. Avinash Kumar | GeeksforGeeks by GeeksforGeeks 11 months ago 12 minutes, 21 seconds 4,357 views', 'date_data': '4,357 views  Aug 25, 2022  #career #geeksforgeeks #gfg'}\n",
            "-----------------------------------------------\n",
            "{'title': 'Capture Your Dream Job with Job-A-Thon | Monthly Hiring Challenges by GeeksforGeeks', 'url': 'https://www.youtube.com/watch?v=m7mnwQKgpzw', 'text': 'Capture Your Dream Job with Job-A-Thon | Monthly Hiring Challenges by GeeksforGeeks by GeeksforGeeks 11 months ago 51 seconds 2,964 views', 'date_data': '2,964 views  Aug 20, 2022'}\n",
            "-----------------------------------------------\n",
            "{'title': 'Walmart Interview Experience 2022 | Walmart Interview Questions | GeeksforGeeks', 'url': 'https://www.youtube.com/watch?v=eKzxoEG981g', 'text': 'Walmart Interview Experience 2022 | Walmart Interview Questions | GeeksforGeeks by GeeksforGeeks 11 months ago 21 minutes 10,017 views', 'date_data': '10,017 views  Aug 18, 2022  #interviewpreparation #coding #programming'}\n",
            "-----------------------------------------------\n",
            "{'title': 'How A Medical Aspirant Cracked FAANG? | Amazon Interview Experience | GeeksforGeeks', 'url': 'https://www.youtube.com/watch?v=Dg4coPjDc6M', 'text': 'How A Medical Aspirant Cracked FAANG? | Amazon Interview Experience | GeeksforGeeks by GeeksforGeeks 11 months ago 11 minutes, 21 seconds 3,078 views', 'date_data': '3,078 views  Aug 12, 2022  #interviewpreparation #coding #programming'}\n",
            "-----------------------------------------------\n",
            "{'title': 'Refer And Earn | Referral Program By GeeksforGeeks', 'url': 'https://www.youtube.com/watch?v=V6J24JJGhXc', 'text': 'Refer And Earn | Referral Program By GeeksforGeeks by GeeksforGeeks 11 months ago 1 minute, 14 seconds 2,218 views', 'date_data': '2,218 views  Aug 8, 2022'}\n",
            "-----------------------------------------------\n",
            "{'title': 'A++ Advice To Get Your Dream Job | GeeksforGeeks ft. @thegeekmonk1707', 'url': 'https://www.youtube.com/watch?v=npPgivbw-9U', 'text': 'A++ Advice To Get Your Dream Job | GeeksforGeeks ft. @thegeekmonk1707 by GeeksforGeeks 11 months ago 49 seconds 4,674 views', 'date_data': '4,674 views  Aug 6, 2022'}\n",
            "-----------------------------------------------\n",
            "{'title': 'Dream Company Ka Sapna Ab Hoga Poora | GeeksforGeeks ft. @shashank_mishra', 'url': 'https://www.youtube.com/watch?v=uDP13fwrhwI', 'text': 'Dream Company Ka Sapna Ab Hoga Poora | GeeksforGeeks ft. @shashank_mishra by GeeksforGeeks 1 year ago 43 seconds 5,559 views', 'date_data': '5,559 views  Aug 3, 2022'}\n",
            "-----------------------------------------------\n",
            "{'title': 'GfG Karlo, Ho Jayega! | GeeksforGeeks ft. @itssiddharthsingh', 'url': 'https://www.youtube.com/watch?v=KfFVWqHUjPo', 'text': 'GfG Karlo, Ho Jayega! | GeeksforGeeks ft. @itssiddharthsingh by GeeksforGeeks 1 year ago 36 seconds 6,016 views', 'date_data': '6,016 views  Aug 1, 2022'}\n",
            "-----------------------------------------------\n",
            "{'title': 'Refer Your Friends: Learn And Earn Together | Refer & Earn | GeeksforGeeks', 'url': 'https://www.youtube.com/watch?v=5G9xd86FPUg', 'text': 'Refer Your Friends: Learn And Earn Together | Refer & Earn | GeeksforGeeks by GeeksforGeeks 1 year ago 37 seconds 1,367 views', 'date_data': '1,368 views  Jul 27, 2022  #referandearn #geeksforgeeks #referralprogram'}\n",
            "-----------------------------------------------\n"
          ]
        },
        {
          "name": "stdout",
          "output_type": "stream",
          "text": [
            "{'title': 'Job-A-Thon Exclusive: Hiring Challenge For Amazon Alexa | GeeksforGeeks', 'url': 'https://www.youtube.com/watch?v=m1uCZUvw8Wg', 'text': 'Job-A-Thon Exclusive: Hiring Challenge For Amazon Alexa | GeeksforGeeks by GeeksforGeeks 1 year ago 41 seconds 3,772 views', 'date_data': '3,772 views  Jul 25, 2022'}\n",
            "-----------------------------------------------\n",
            "{'title': 'Presenting Coders Ka Dost | GeeksforGeeks Ft. @HarmanSinghYouTube', 'url': 'https://www.youtube.com/watch?v=LawzObS9uww', 'text': 'Presenting Coders Ka Dost | GeeksforGeeks Ft. @HarmanSinghYouTube by GeeksforGeeks 1 year ago 28 seconds 7,706 views', 'date_data': '7,706 views  Jul 21, 2022'}\n",
            "-----------------------------------------------\n",
            "{'title': 'How To Crack FAANG Companies As A Tier-3 College Student? | GeeksforGeeks', 'url': 'https://www.youtube.com/watch?v=bgCWuH4ZpM8', 'text': 'How To Crack FAANG Companies As A Tier-3 College Student? | GeeksforGeeks by GeeksforGeeks 1 year ago 31 minutes 6,968 views', 'date_data': '6,968 views  Jul 19, 2022  #interviewpreparation #coding #programming'}\n",
            "-----------------------------------------------\n",
            "{'title': 'Weekly Interview Series By GeeksforGeeks | Practice Interview Problems', 'url': 'https://www.youtube.com/watch?v=1D7HZw9RQ9M', 'text': 'Weekly Interview Series By GeeksforGeeks | Practice Interview Problems by GeeksforGeeks 1 year ago 22 seconds 81,271 views', 'date_data': '81,271 views  Jul 19, 2022'}\n",
            "-----------------------------------------------\n",
            "{'title': 'THIS Will Make You RICH! | Make Money Sitting at Home | GeeksforGeeks', 'url': 'https://www.youtube.com/watch?v=GgTKUySIzD0', 'text': 'THIS Will Make You RICH! | Make Money Sitting at Home | GeeksforGeeks by GeeksforGeeks 1 year ago 6 minutes, 11 seconds 6,465 views', 'date_data': '6,465 views  Jul 12, 2022  #coding #programming #geeksforgeeks'}\n",
            "-----------------------------------------------\n",
            "{'title': 'Geek-O-Lympics 2022 | GeeksforGeeks', 'url': 'https://www.youtube.com/watch?v=G3T57IkE-PY', 'text': 'Geek-O-Lympics 2022 | GeeksforGeeks by GeeksforGeeks 1 year ago 30 seconds 3,699 views', 'date_data': '3,699 views  Jul 8, 2022'}\n",
            "-----------------------------------------------\n",
            "{'title': 'How To Land A Consultancy Job Without An MBA? Ft. Dhairya Gangwani | GeeksforGeeks', 'url': 'https://www.youtube.com/watch?v=0bce9CP2uEo', 'text': 'How To Land A Consultancy Job Without An MBA?  Ft. Dhairya Gangwani | GeeksforGeeks by GeeksforGeeks 1 year ago 32 minutes 6,687 views', 'date_data': '6,687 views  Jul 6, 2022  #coding #consultancy #geeksforgeeks'}\n",
            "-----------------------------------------------\n",
            "{'title': \"DON'T Repeat These 5 Coding Mistakes! Ft. Prakash Sakari, Mentor - GeeksforGeeks\", 'url': 'https://www.youtube.com/watch?v=EHWtNSP2nWI', 'text': \"DON'T Repeat These 5 Coding Mistakes! Ft. Prakash Sakari, Mentor - GeeksforGeeks by GeeksforGeeks 1 year ago 1 minute, 47 seconds 6,655 views\", 'date_data': '6,655 views  Jul 4, 2022  #coding #programming #geeksforgeeks'}\n",
            "-----------------------------------------------\n",
            "{'title': 'Delivery Hero Interview Experience 2022 | Delivery Hero Interview Questions | GeeksforGeeks', 'url': 'https://www.youtube.com/watch?v=Rj1TxLy1fb8', 'text': 'Delivery Hero Interview Experience 2022 | Delivery Hero Interview Questions | GeeksforGeeks by GeeksforGeeks 1 year ago 16 minutes 4,150 views', 'date_data': '4,150 views  Jul 2, 2022  #interviewpreparation #coding #programming'}\n",
            "-----------------------------------------------\n",
            "{'title': 'Geek-O-Lympics 2022 LIVE Now | GeeksforGeeks', 'url': 'https://www.youtube.com/watch?v=wHwqqjHdX70', 'text': 'Geek-O-Lympics 2022 LIVE Now | GeeksforGeeks by GeeksforGeeks 1 year ago 44 seconds 3,546 views', 'date_data': '3,546 views  Jul 1, 2022'}\n",
            "-----------------------------------------------\n",
            "{'title': 'Geek-O-Lympics 2022', 'url': 'https://www.youtube.com/watch?v=jF_yK4XRk40', 'text': 'Geek-O-Lympics 2022 by GeeksforGeeks 1 year ago 31 seconds 3,412 views', 'date_data': '3,412 views  Jun 30, 2022'}\n",
            "-----------------------------------------------\n",
            "{'title': 'Not from tier 1 college? No problem! | GeeksforGeeks ft@TharunSpeaks | GfG Karlo, Ho Jayega!', 'url': 'https://www.youtube.com/watch?v=KOR03BBr9MY', 'text': 'Not from tier 1 college? No problem! | GeeksforGeeks ft@TharunSpeaks  | GfG Karlo, Ho Jayega! by GeeksforGeeks 1 year ago 32 seconds 8,800 views', 'date_data': '8,800 views  Jun 28, 2022'}\n",
            "-----------------------------------------------\n",
            "{'title': 'Spend Your Summer Vacations Wisely! Ft. Sandeep Sir | GeeksforGeeks', 'url': 'https://www.youtube.com/watch?v=npoTmRqPjcU', 'text': 'Spend Your Summer Vacations Wisely! Ft. Sandeep Sir | GeeksforGeeks by GeeksforGeeks 1 year ago 5 minutes, 29 seconds 9,616 views', 'date_data': '9,616 views  Jun 27, 2022  #coding #summervacation #geeksforgeeks'}\n",
            "-----------------------------------------------\n",
            "{'title': 'PayPal Interview Experience 2022 | PayPal Interview Questions | GeeksforGeeks', 'url': 'https://www.youtube.com/watch?v=-S7R-NBIeI8', 'text': 'PayPal Interview Experience 2022 | PayPal Interview Questions | GeeksforGeeks by GeeksforGeeks 1 year ago 24 minutes 7,048 views', 'date_data': '7,049 views  Jun 25, 2022  #interviewpreparation #coding #programming'}\n",
            "-----------------------------------------------\n",
            "{'title': 'Zabardast Gyaan | GeeksforGeeks ft. @IqlipseNova | GfG Karlo, Ho Jayega!', 'url': 'https://www.youtube.com/watch?v=p0n8lcCiR9Q', 'text': 'Zabardast Gyaan | GeeksforGeeks ft. @IqlipseNova   | GfG Karlo, Ho Jayega! by GeeksforGeeks 1 year ago 41 seconds 28,421 views', 'date_data': '28,421 views  Jun 22, 2022'}\n",
            "-----------------------------------------------\n",
            "{'title': 'Google Interview Experience 2022 | Google Interview Process | GeeksforGeeks', 'url': 'https://www.youtube.com/watch?v=lmCJyfYsBHo', 'text': 'Google Interview Experience 2022 | Google Interview Process | GeeksforGeeks by GeeksforGeeks 1 year ago 17 minutes 38,953 views', 'date_data': '38,958 views  Jun 21, 2022  #interviewpreparation #coding #programming'}\n",
            "-----------------------------------------------\n",
            "{'title': 'Happy Fathers Day | GeeksforGeeks', 'url': 'https://www.youtube.com/watch?v=I0Nx2l2wiU4', 'text': 'Happy Fathers Day | GeeksforGeeks by GeeksforGeeks 1 year ago 1 minute, 1 second 2,239 views', 'date_data': '2,239 views  Jun 19, 2022  #interviewpreparation #coding #fathersday'}\n",
            "-----------------------------------------------\n",
            "{'title': 'From One Aspirant To Another | GeeksforGeeks ft. Naveen Kasturia', 'url': 'https://www.youtube.com/watch?v=rGCEvfeJD-w', 'text': 'From One Aspirant To Another | GeeksforGeeks ft. Naveen Kasturia by GeeksforGeeks 1 year ago 26 seconds 3,378 views', 'date_data': '3,378 views  Jun 15, 2022'}\n",
            "-----------------------------------------------\n",
            "{'title': 'How to Prepare a Winning Resume in 5 Steps Ft. Prakash Sakari, Mentor - GeeksforGeeks', 'url': 'https://www.youtube.com/watch?v=tUan6S_9Z9g', 'text': 'How to Prepare a Winning Resume in 5 Steps Ft. Prakash Sakari, Mentor - GeeksforGeeks by GeeksforGeeks 1 year ago 3 minutes, 47 seconds 3,493 views', 'date_data': '3,493 views  Jun 14, 2022'}\n",
            "-----------------------------------------------\n",
            "{'title': 'One Stop Destination To Succeed In The World Of Coding! | GeeksforGeeks ft. Mayur More', 'url': 'https://www.youtube.com/watch?v=7_8wrRym7kU', 'text': 'One Stop Destination To Succeed In The World Of Coding! | GeeksforGeeks ft. Mayur More by GeeksforGeeks 1 year ago 36 seconds 33,363 views', 'date_data': '33,363 views  Jun 12, 2022'}\n",
            "-----------------------------------------------\n",
            "{'title': 'Hotstar Interview Experience 2022 | Hotstar Interview Process | GeeksforGeeks', 'url': 'https://www.youtube.com/watch?v=a5WeFxOoo_E', 'text': 'Hotstar Interview Experience 2022 | Hotstar Interview Process | GeeksforGeeks by GeeksforGeeks 1 year ago 18 minutes 8,262 views', 'date_data': '8,262 views  Jun 11, 2022  #interviewpreparation #coding #programming'}\n",
            "-----------------------------------------------\n",
            "{'title': 'GeeksforGeeks Goes To Dronacharya College, Gurugram', 'url': 'https://www.youtube.com/watch?v=iNfcO0aF7uI', 'text': 'GeeksforGeeks Goes To Dronacharya College, Gurugram by GeeksforGeeks 1 year ago 1 minute, 3 seconds 1,535 views', 'date_data': '1,535 views  Premiered Jun 7, 2022'}\n",
            "-----------------------------------------------\n"
          ]
        },
        {
          "name": "stdout",
          "output_type": "stream",
          "text": [
            "{'title': 'BEST Opportunities For Women In Technology | Internships & Courses #shorts', 'url': 'https://www.youtube.com/watch?v=rQfJyOhh0BM', 'text': 'BEST Opportunities For Women In Technology | Internships & Courses #shorts by GeeksforGeeks 1 year ago 20 seconds 2,722 views', 'date_data': '2,722 views  May 31, 2022'}\n",
            "-----------------------------------------------\n",
            "{'title': 'GeeksforGeeks Goes To KIET Ghaziabad', 'url': 'https://www.youtube.com/watch?v=wPSJUa6sPv0', 'text': 'GeeksforGeeks Goes To KIET Ghaziabad by GeeksforGeeks 1 year ago 1 minute, 2 seconds 2,924 views', 'date_data': '2,924 views  Premiered May 27, 2022'}\n",
            "-----------------------------------------------\n",
            "{'title': 'Top 8 Reasons to Choose Java | GeeksforGeeks', 'url': 'https://www.youtube.com/watch?v=ELHWRuATsTA', 'text': 'Top 8 Reasons to Choose Java | GeeksforGeeks by GeeksforGeeks 1 year ago 6 minutes, 44 seconds 2,878 views', 'date_data': '2,878 views  May 27, 2022  #Java #GeeksforGeeks'}\n",
            "-----------------------------------------------\n",
            "{'title': 'Welcome Sandeep Jain at KIET Ghaziabad | GeeksforGeeks', 'url': 'https://www.youtube.com/watch?v=UkW6L9uyKJQ', 'text': 'Welcome Sandeep Jain at KIET Ghaziabad | GeeksforGeeks by GeeksforGeeks 1 year ago 44 minutes 2,121 views', 'date_data': '2,121 views  May 25, 2022'}\n",
            "-----------------------------------------------\n",
            "{'title': 'How I got into Amazon as a SDE | GeeksforGeeks', 'url': 'https://www.youtube.com/watch?v=PowHu7wwROQ', 'text': 'How I got into Amazon as a SDE | GeeksforGeeks by GeeksforGeeks 1 year ago 20 minutes 5,988 views', 'date_data': '5,988 views  Premiered May 25, 2022'}\n",
            "-----------------------------------------------\n",
            "{'title': 'What RBR has to say about GeeksforGeeks', 'url': 'https://www.youtube.com/watch?v=iUCyZm58VGg', 'text': 'What RBR has to say about GeeksforGeeks by GeeksforGeeks 1 year ago 11 minutes, 38 seconds 14,280 views', 'date_data': '14,280 views  May 24, 2022  #RBR #GeeksforGeeks #SandeepJain'}\n",
            "-----------------------------------------------\n",
            "{'title': 'From Tier 3 to Amazon | GeeksforGeeks', 'url': 'https://www.youtube.com/watch?v=zpX1UQyqAWU', 'text': 'From Tier 3 to Amazon | GeeksforGeeks by GeeksforGeeks 1 year ago 16 minutes 3,139 views', 'date_data': '3,139 views  Premiered May 23, 2022'}\n",
            "-----------------------------------------------\n",
            "{'title': 'Interview Experience at Amazon | GeeksforGeeks', 'url': 'https://www.youtube.com/watch?v=L7ZX63xFicw', 'text': 'Interview Experience at Amazon | GeeksforGeeks by GeeksforGeeks 1 year ago 20 minutes 3,482 views', 'date_data': '3,482 views  May 19, 2022'}\n",
            "-----------------------------------------------\n",
            "{'title': 'A Brighter Future Awaits | GfG Karlo, Ho Jayega | GeeksforGeeks Ft. Urvi Singh', 'url': 'https://www.youtube.com/watch?v=8IckHy8TJlw', 'text': 'A Brighter Future Awaits | GfG Karlo, Ho Jayega | GeeksforGeeks Ft. Urvi Singh by GeeksforGeeks 1 year ago 19 seconds 26,659 views', 'date_data': '26,659 views  Premiered May 19, 2022'}\n",
            "-----------------------------------------------\n",
            "{'title': 'My interview experience at Walmart | GeeksforGeeks', 'url': 'https://www.youtube.com/watch?v=L2HP_CyXRMs', 'text': 'My interview experience at Walmart | GeeksforGeeks by GeeksforGeeks 1 year ago 27 minutes 2,186 views', 'date_data': '2,186 views  Premiered May 15, 2022'}\n",
            "-----------------------------------------------\n",
            "{'title': 'How I got job offers from 2 big companies : Arcesium & Microsoft | GeeksforGeeks', 'url': 'https://www.youtube.com/watch?v=v0jqqZmUNyY', 'text': 'How I got job offers from 2 big companies : Arcesium & Microsoft | GeeksforGeeks by GeeksforGeeks 1 year ago 23 minutes 2,791 views', 'date_data': '2,791 views  Premiered May 13, 2022'}\n",
            "-----------------------------------------------\n",
            "{'title': 'GFG Karlo, Ho Jayega | GeeksforGeeks ft. Khaleel Ahmed', 'url': 'https://www.youtube.com/watch?v=b2yIeIj3Jrc', 'text': 'GFG Karlo, Ho Jayega | GeeksforGeeks ft. Khaleel Ahmed by GeeksforGeeks 1 year ago 25 seconds 40,391 views', 'date_data': '40,391 views  Premiered May 13, 2022'}\n",
            "-----------------------------------------------\n",
            "{'title': 'Complete Interview Preparation Course | GeeksforGeeks', 'url': 'https://www.youtube.com/watch?v=1REko14HjD8', 'text': 'Complete Interview Preparation Course | GeeksforGeeks by GeeksforGeeks 1 year ago 45 seconds 7,457 views', 'date_data': '7,457 views  May 9, 2022  #InterviewPrep #learntocode #CIP'}\n",
            "-----------------------------------------------\n",
            "{'title': 'My journey through the tech world from India to US | Vidushi | GeeksforGeeks', 'url': 'https://www.youtube.com/watch?v=IXgQGoj0rSk', 'text': 'My journey through the tech world from India to US | Vidushi | GeeksforGeeks by GeeksforGeeks 1 year ago 38 minutes 2,205 views', 'date_data': '2,205 views  May 8, 2022'}\n",
            "-----------------------------------------------\n",
            "{'title': 'Interview Experience @ Amazon | GeeksforGeeks', 'url': 'https://www.youtube.com/watch?v=SMgm_gpJyNU', 'text': 'Interview Experience @ Amazon | GeeksforGeeks by GeeksforGeeks 1 year ago 19 minutes 4,154 views', 'date_data': '4,154 views  Premiered May 6, 2022'}\n",
            "-----------------------------------------------\n",
            "{'title': 'Life Is Unfair Ft. Shonty badmash | LIVE Discord Session | A GeeksforGeeks Exclusive', 'url': 'https://www.youtube.com/watch?v=49MRLvZaG3s', 'text': 'Life Is Unfair Ft. Shonty badmash | LIVE Discord Session | A GeeksforGeeks Exclusive by GeeksforGeeks 1 year ago 26 minutes 1,810 views', 'date_data': '1,810 views  Premiered Apr 26, 2022  #LIVEsession #codingfun'}\n",
            "-----------------------------------------------\n",
            "{'title': 'Journey from JIIT to Adobe', 'url': 'https://www.youtube.com/watch?v=9CswKbEqj5A', 'text': 'Journey from JIIT to Adobe by GeeksforGeeks 1 year ago 32 minutes 3,788 views', 'date_data': '3,788 views  Apr 26, 2022'}\n",
            "-----------------------------------------------\n",
            "{'title': 'GATE Live Classes | Prepare for GATE CS 2023 | GeeksforGeeks', 'url': 'https://www.youtube.com/watch?v=61KrUQsuu8M', 'text': 'GATE Live Classes | Prepare for GATE CS 2023 | GeeksforGeeks by GeeksforGeeks 1 year ago 1 minute, 3 seconds 2,124 views', 'date_data': '2,124 views  Apr 25, 2022  #GATECSE #GATE2023 #GeeksforGeeks'}\n",
            "-----------------------------------------------\n",
            "{'title': 'DSA Self-Paced Course Preview | Sandeep Jain | GeeksforGeeks', 'url': 'https://www.youtube.com/watch?v=Pt2vYaJgGy8', 'text': 'DSA Self-Paced Course Preview | Sandeep Jain | GeeksforGeeks by GeeksforGeeks 1 year ago 2 hours, 13 minutes 73,872 views', 'date_data': '73,875 views  Premiered Apr 23, 2022  #learntocode #GeeksforGeeks'}\n",
            "-----------------------------------------------\n"
          ]
        }
      ],
      "source": [
        "driver_path = \"chromedriver_win32_2\\\\chromedriver.exe\"\n",
        "driver = webdriver.Chrome(executable_path=driver_path)\n",
        "url = \"https://www.youtube.com/@GeeksforGeeksVideos/videos\"\n",
        "driver.get(url)\n",
        "scrolls = 4\n",
        "\n",
        "for _ in range(scrolls):\n",
        "    driver.find_element(By.TAG_NAME, 'body').send_keys(Keys.END)\n",
        "    time.sleep(2)\n",
        "\n",
        "video_title_links = []\n",
        "\n",
        "\n",
        "\n",
        "video_elements = driver.find_elements(By.ID, \"video-title-link\")\n",
        "\n",
        "for video_element in video_elements:\n",
        "    video_title = video_element.text.strip()\n",
        "    video_url = video_element.get_attribute(\"href\")\n",
        "    video_text = video_element.get_attribute(\"aria-label\")\n",
        "    video_data = {'title': video_title, 'url': video_url,\"text\":video_text}\n",
        "    video_title_links.append(video_data)\n",
        "\n",
        "urls_data=[]\n",
        "for url in video_title_links:\n",
        "    try:\n",
        "        driver.get(url['url'])\n",
        "        time.sleep(12)\n",
        "        button=driver.find_element(By.ID,\"expand\")\n",
        "        button.click()\n",
        "        v_page=driver.find_elements(By.ID,\"info\")\n",
        "        button1=v_page[2].text\n",
        "        urls_data.append(button1)\n",
        "        url[\"date_data\"]=button1\n",
        "        print(url)\n",
        "        print(\"-----------------------------------------------\")\n",
        "    except Exception as e:\n",
        "        print(e)\n",
        "        print(\"error\")\n",
        "        url[\"date_data\"]=\"NA\"\n",
        "    time.sleep(2)\n",
        "\n",
        "\n",
        "driver.quit()"
      ]
    },
    {
      "cell_type": "markdown",
      "id": "78e2e443",
      "metadata": {
        "id": "78e2e443"
      },
      "source": [
        "#### saving this data in json format"
      ]
    },
    {
      "cell_type": "code",
      "execution_count": null,
      "id": "88b5da97",
      "metadata": {
        "id": "88b5da97"
      },
      "outputs": [],
      "source": [
        "import json\n",
        "\n",
        "filename = \"data_json.json\"\n",
        "\n",
        "with open(filename, \"w\") as json_file:\n",
        "    json.dump(video_title_links, json_file)"
      ]
    },
    {
      "cell_type": "code",
      "execution_count": null,
      "id": "b7a5fa0c",
      "metadata": {
        "id": "b7a5fa0c"
      },
      "outputs": [],
      "source": [
        "from datetime import datetime, timedelta"
      ]
    },
    {
      "cell_type": "code",
      "execution_count": null,
      "id": "099ad97c",
      "metadata": {
        "id": "099ad97c"
      },
      "outputs": [],
      "source": [
        "data=video_title_links.copy()"
      ]
    },
    {
      "cell_type": "markdown",
      "id": "4367d8f5",
      "metadata": {
        "id": "4367d8f5"
      },
      "source": [
        "#### converting the extracted data into pandas data frame"
      ]
    },
    {
      "cell_type": "code",
      "execution_count": null,
      "id": "ac6ebe48",
      "metadata": {
        "id": "ac6ebe48"
      },
      "outputs": [],
      "source": [
        "from datetime import datetime\n",
        "final_list_for_df=[]\n",
        "for i in data:\n",
        "\n",
        "\n",
        "    title_of_vedio=i['title']\n",
        "    url_of_vedio=i['url']\n",
        "    views_of_vedio=i['date_data'].split()[0]\n",
        "    views_of_vedio=views_of_vedio.replace(\",\", \"\")\n",
        "\n",
        "    views_of_vedio=int(views_of_vedio.strip(\",\"))\n",
        "\n",
        "    try:\n",
        "        dmy=[]\n",
        "\n",
        "\n",
        "        for j in i['date_data'].split()[2:5]:\n",
        "            j=j.strip(\" \")\n",
        "            j=j.strip(\",\")\n",
        "            dmy.append(j)\n",
        "        date_of_vedio=int(dmy[1])\n",
        "        month_of_vedio=dmy[0]\n",
        "        year_of_vedio=int(dmy[2])\n",
        "\n",
        "    except:\n",
        "        dmy=[]\n",
        "        for j in i['date_data'].split()[3:6]:\n",
        "\n",
        "            j=j.strip(\" \")\n",
        "            j=j.strip(\",\")\n",
        "            dmy.append(j)\n",
        "\n",
        "        date_of_vedio=int(dmy[1])\n",
        "        month_of_vedio=dmy[0]\n",
        "        year_of_vedio=int(dmy[2])\n",
        "\n",
        "    text=i['text']\n",
        "    l=text.split(\"ago\")[1].split()[:-2]\n",
        "    l.reverse()\n",
        "\n",
        "    h=0\n",
        "    m=0\n",
        "    s=0\n",
        "    for k in range(len(l)):\n",
        "        if(l[k].strip(\",\")==\"second\" or l[k].strip(\",\")==\"seconds\"):\n",
        "            s=int(l[k+1])\n",
        "        elif(l[k].strip(',')=='minute' or l[k].strip(',')=='minutes'):\n",
        "            m=int(l[k+1])\n",
        "        elif(l[k].strip(\",\")=='hour' or l[k].strip(\",\")=='hours'):\n",
        "            h=int(l[k+1])\n",
        "    date_str = f\"{month_of_vedio} {date_of_vedio} {year_of_vedio}\"\n",
        "    date_format = \"%b %d %Y\"\n",
        "    datetime_obj = datetime.strptime(date_str, date_format)\n",
        "    total_seconds = (h * 3600) + (m * 60) + s\n",
        "    final_list=[title_of_vedio,url_of_vedio,views_of_vedio,datetime_obj,total_seconds]\n",
        "    final_list_for_df.append(final_list)\n",
        "\n",
        "\n",
        "\n",
        "\n",
        "\n",
        "\n",
        ""
      ]
    },
    {
      "cell_type": "code",
      "execution_count": null,
      "id": "841a2b94",
      "metadata": {
        "id": "841a2b94"
      },
      "outputs": [],
      "source": [
        "import pandas as pd"
      ]
    },
    {
      "cell_type": "code",
      "execution_count": null,
      "id": "ac2087d7",
      "metadata": {
        "id": "ac2087d7"
      },
      "outputs": [],
      "source": [
        "df = pd.DataFrame(final_list_for_df, columns=[\"title\", \"url\", \"views\", \"date_of_rec\", \"durations\"])"
      ]
    },
    {
      "cell_type": "code",
      "execution_count": null,
      "id": "c00b69d3",
      "metadata": {
        "id": "c00b69d3",
        "outputId": "e61de313-c104-4d1a-b547-3e2a7bcfa862"
      },
      "outputs": [
        {
          "data": {
            "text/html": [
              "<div>\n",
              "<style scoped>\n",
              "    .dataframe tbody tr th:only-of-type {\n",
              "        vertical-align: middle;\n",
              "    }\n",
              "\n",
              "    .dataframe tbody tr th {\n",
              "        vertical-align: top;\n",
              "    }\n",
              "\n",
              "    .dataframe thead th {\n",
              "        text-align: right;\n",
              "    }\n",
              "</style>\n",
              "<table border=\"1\" class=\"dataframe\">\n",
              "  <thead>\n",
              "    <tr style=\"text-align: right;\">\n",
              "      <th></th>\n",
              "      <th>title</th>\n",
              "      <th>url</th>\n",
              "      <th>views</th>\n",
              "      <th>date_of_rec</th>\n",
              "      <th>durations</th>\n",
              "    </tr>\n",
              "  </thead>\n",
              "  <tbody>\n",
              "    <tr>\n",
              "      <th>0</th>\n",
              "      <td>10 TIPS and TRICKS to Crack Internships and Pl...</td>\n",
              "      <td>https://www.youtube.com/watch?v=2QDMIZGeIC4</td>\n",
              "      <td>604</td>\n",
              "      <td>2023-08-01</td>\n",
              "      <td>593</td>\n",
              "    </tr>\n",
              "    <tr>\n",
              "      <th>1</th>\n",
              "      <td>Complete School Guide for CBSE | Free Resource...</td>\n",
              "      <td>https://www.youtube.com/watch?v=1ECMlxC6jbs</td>\n",
              "      <td>456</td>\n",
              "      <td>2023-07-31</td>\n",
              "      <td>56</td>\n",
              "    </tr>\n",
              "    <tr>\n",
              "      <th>2</th>\n",
              "      <td>Master System Design | GeeksforGeeks</td>\n",
              "      <td>https://www.youtube.com/watch?v=vjWLZYeqiN8</td>\n",
              "      <td>6624</td>\n",
              "      <td>2023-07-27</td>\n",
              "      <td>46</td>\n",
              "    </tr>\n",
              "    <tr>\n",
              "      <th>3</th>\n",
              "      <td>Unraveling the Geek-a-thon: The What, How, and...</td>\n",
              "      <td>https://www.youtube.com/watch?v=6e0v_NhsFMQ</td>\n",
              "      <td>414</td>\n",
              "      <td>2023-07-27</td>\n",
              "      <td>2700</td>\n",
              "    </tr>\n",
              "    <tr>\n",
              "      <th>4</th>\n",
              "      <td>Data Analysis Masterclass | Geek-A-Thon | Geek...</td>\n",
              "      <td>https://www.youtube.com/watch?v=-7Emxpn8DXc</td>\n",
              "      <td>568</td>\n",
              "      <td>2023-07-26</td>\n",
              "      <td>5340</td>\n",
              "    </tr>\n",
              "    <tr>\n",
              "      <th>...</th>\n",
              "      <td>...</td>\n",
              "      <td>...</td>\n",
              "      <td>...</td>\n",
              "      <td>...</td>\n",
              "      <td>...</td>\n",
              "    </tr>\n",
              "    <tr>\n",
              "      <th>145</th>\n",
              "      <td>Interview Experience @ Amazon | GeeksforGeeks</td>\n",
              "      <td>https://www.youtube.com/watch?v=SMgm_gpJyNU</td>\n",
              "      <td>4154</td>\n",
              "      <td>2022-05-06</td>\n",
              "      <td>1140</td>\n",
              "    </tr>\n",
              "    <tr>\n",
              "      <th>146</th>\n",
              "      <td>Life Is Unfair Ft. Shonty badmash | LIVE Disco...</td>\n",
              "      <td>https://www.youtube.com/watch?v=49MRLvZaG3s</td>\n",
              "      <td>1810</td>\n",
              "      <td>2022-04-26</td>\n",
              "      <td>1560</td>\n",
              "    </tr>\n",
              "    <tr>\n",
              "      <th>147</th>\n",
              "      <td>Journey from JIIT to Adobe</td>\n",
              "      <td>https://www.youtube.com/watch?v=9CswKbEqj5A</td>\n",
              "      <td>3788</td>\n",
              "      <td>2022-04-26</td>\n",
              "      <td>1920</td>\n",
              "    </tr>\n",
              "    <tr>\n",
              "      <th>148</th>\n",
              "      <td>GATE Live Classes | Prepare for GATE CS 2023 |...</td>\n",
              "      <td>https://www.youtube.com/watch?v=61KrUQsuu8M</td>\n",
              "      <td>2124</td>\n",
              "      <td>2022-04-25</td>\n",
              "      <td>63</td>\n",
              "    </tr>\n",
              "    <tr>\n",
              "      <th>149</th>\n",
              "      <td>DSA Self-Paced Course Preview | Sandeep Jain |...</td>\n",
              "      <td>https://www.youtube.com/watch?v=Pt2vYaJgGy8</td>\n",
              "      <td>73875</td>\n",
              "      <td>2022-04-23</td>\n",
              "      <td>7980</td>\n",
              "    </tr>\n",
              "  </tbody>\n",
              "</table>\n",
              "<p>150 rows × 5 columns</p>\n",
              "</div>"
            ],
            "text/plain": [
              "                                                 title  \\\n",
              "0    10 TIPS and TRICKS to Crack Internships and Pl...   \n",
              "1    Complete School Guide for CBSE | Free Resource...   \n",
              "2                 Master System Design | GeeksforGeeks   \n",
              "3    Unraveling the Geek-a-thon: The What, How, and...   \n",
              "4    Data Analysis Masterclass | Geek-A-Thon | Geek...   \n",
              "..                                                 ...   \n",
              "145      Interview Experience @ Amazon | GeeksforGeeks   \n",
              "146  Life Is Unfair Ft. Shonty badmash | LIVE Disco...   \n",
              "147                         Journey from JIIT to Adobe   \n",
              "148  GATE Live Classes | Prepare for GATE CS 2023 |...   \n",
              "149  DSA Self-Paced Course Preview | Sandeep Jain |...   \n",
              "\n",
              "                                             url  views date_of_rec  durations  \n",
              "0    https://www.youtube.com/watch?v=2QDMIZGeIC4    604  2023-08-01        593  \n",
              "1    https://www.youtube.com/watch?v=1ECMlxC6jbs    456  2023-07-31         56  \n",
              "2    https://www.youtube.com/watch?v=vjWLZYeqiN8   6624  2023-07-27         46  \n",
              "3    https://www.youtube.com/watch?v=6e0v_NhsFMQ    414  2023-07-27       2700  \n",
              "4    https://www.youtube.com/watch?v=-7Emxpn8DXc    568  2023-07-26       5340  \n",
              "..                                           ...    ...         ...        ...  \n",
              "145  https://www.youtube.com/watch?v=SMgm_gpJyNU   4154  2022-05-06       1140  \n",
              "146  https://www.youtube.com/watch?v=49MRLvZaG3s   1810  2022-04-26       1560  \n",
              "147  https://www.youtube.com/watch?v=9CswKbEqj5A   3788  2022-04-26       1920  \n",
              "148  https://www.youtube.com/watch?v=61KrUQsuu8M   2124  2022-04-25         63  \n",
              "149  https://www.youtube.com/watch?v=Pt2vYaJgGy8  73875  2022-04-23       7980  \n",
              "\n",
              "[150 rows x 5 columns]"
            ]
          },
          "execution_count": 193,
          "metadata": {},
          "output_type": "execute_result"
        }
      ],
      "source": [
        "df"
      ]
    },
    {
      "cell_type": "markdown",
      "id": "3e25a8c4",
      "metadata": {
        "id": "3e25a8c4"
      },
      "source": [
        "#### Tasks & Questions:\n"
      ]
    },
    {
      "cell_type": "markdown",
      "id": "7613f390",
      "metadata": {
        "id": "7613f390"
      },
      "source": [
        "#### 1. Number of videos in the past 6 months from the start date. Must mention the dates in the solution."
      ]
    },
    {
      "cell_type": "code",
      "execution_count": null,
      "id": "e654b360",
      "metadata": {
        "id": "e654b360"
      },
      "outputs": [],
      "source": [
        "current_date = datetime.now()\n",
        "six_months_ago = current_date - timedelta(days=6*30)\n",
        "filtered_df = df[df['date_of_rec'] >= six_months_ago]"
      ]
    },
    {
      "cell_type": "code",
      "execution_count": null,
      "id": "02c87b67",
      "metadata": {
        "id": "02c87b67",
        "outputId": "876f2aa6-4d60-45a7-f479-9a0e156f3e58"
      },
      "outputs": [
        {
          "data": {
            "text/html": [
              "<div>\n",
              "<style scoped>\n",
              "    .dataframe tbody tr th:only-of-type {\n",
              "        vertical-align: middle;\n",
              "    }\n",
              "\n",
              "    .dataframe tbody tr th {\n",
              "        vertical-align: top;\n",
              "    }\n",
              "\n",
              "    .dataframe thead th {\n",
              "        text-align: right;\n",
              "    }\n",
              "</style>\n",
              "<table border=\"1\" class=\"dataframe\">\n",
              "  <thead>\n",
              "    <tr style=\"text-align: right;\">\n",
              "      <th></th>\n",
              "      <th>title</th>\n",
              "      <th>date_of_rec</th>\n",
              "    </tr>\n",
              "  </thead>\n",
              "  <tbody>\n",
              "    <tr>\n",
              "      <th>0</th>\n",
              "      <td>10 TIPS and TRICKS to Crack Internships and Pl...</td>\n",
              "      <td>2023-08-01</td>\n",
              "    </tr>\n",
              "    <tr>\n",
              "      <th>1</th>\n",
              "      <td>Complete School Guide for CBSE | Free Resource...</td>\n",
              "      <td>2023-07-31</td>\n",
              "    </tr>\n",
              "    <tr>\n",
              "      <th>2</th>\n",
              "      <td>Master System Design | GeeksforGeeks</td>\n",
              "      <td>2023-07-27</td>\n",
              "    </tr>\n",
              "    <tr>\n",
              "      <th>3</th>\n",
              "      <td>Unraveling the Geek-a-thon: The What, How, and...</td>\n",
              "      <td>2023-07-27</td>\n",
              "    </tr>\n",
              "    <tr>\n",
              "      <th>4</th>\n",
              "      <td>Data Analysis Masterclass | Geek-A-Thon | Geek...</td>\n",
              "      <td>2023-07-26</td>\n",
              "    </tr>\n",
              "    <tr>\n",
              "      <th>...</th>\n",
              "      <td>...</td>\n",
              "      <td>...</td>\n",
              "    </tr>\n",
              "    <tr>\n",
              "      <th>58</th>\n",
              "      <td>Meet Shikar Goel, CTO of GeeksforGeeks | Know ...</td>\n",
              "      <td>2023-02-17</td>\n",
              "    </tr>\n",
              "    <tr>\n",
              "      <th>59</th>\n",
              "      <td>An Opportunity for Recruiters to Hire Top Tech...</td>\n",
              "      <td>2023-02-16</td>\n",
              "    </tr>\n",
              "    <tr>\n",
              "      <th>60</th>\n",
              "      <td>A.I. Apps That Can Change Your Lives | Geeksfo...</td>\n",
              "      <td>2023-02-15</td>\n",
              "    </tr>\n",
              "    <tr>\n",
              "      <th>61</th>\n",
              "      <td>Roadmap To Master Recursion? Roadmap To Master...</td>\n",
              "      <td>2023-02-13</td>\n",
              "    </tr>\n",
              "    <tr>\n",
              "      <th>62</th>\n",
              "      <td>CodeCast Ep. 2 | SDE Without A Technical Degre...</td>\n",
              "      <td>2023-02-08</td>\n",
              "    </tr>\n",
              "  </tbody>\n",
              "</table>\n",
              "<p>63 rows × 2 columns</p>\n",
              "</div>"
            ],
            "text/plain": [
              "                                                title date_of_rec\n",
              "0   10 TIPS and TRICKS to Crack Internships and Pl...  2023-08-01\n",
              "1   Complete School Guide for CBSE | Free Resource...  2023-07-31\n",
              "2                Master System Design | GeeksforGeeks  2023-07-27\n",
              "3   Unraveling the Geek-a-thon: The What, How, and...  2023-07-27\n",
              "4   Data Analysis Masterclass | Geek-A-Thon | Geek...  2023-07-26\n",
              "..                                                ...         ...\n",
              "58  Meet Shikar Goel, CTO of GeeksforGeeks | Know ...  2023-02-17\n",
              "59  An Opportunity for Recruiters to Hire Top Tech...  2023-02-16\n",
              "60  A.I. Apps That Can Change Your Lives | Geeksfo...  2023-02-15\n",
              "61  Roadmap To Master Recursion? Roadmap To Master...  2023-02-13\n",
              "62  CodeCast Ep. 2 | SDE Without A Technical Degre...  2023-02-08\n",
              "\n",
              "[63 rows x 2 columns]"
            ]
          },
          "execution_count": 195,
          "metadata": {},
          "output_type": "execute_result"
        }
      ],
      "source": [
        "filtered_df[['title','date_of_rec']]"
      ]
    },
    {
      "cell_type": "markdown",
      "id": "6aae55c5",
      "metadata": {
        "id": "6aae55c5"
      },
      "source": [
        "There are 63 vedios which are posted in last 6 months"
      ]
    },
    {
      "cell_type": "code",
      "execution_count": null,
      "id": "ddc7f9ff",
      "metadata": {
        "id": "ddc7f9ff"
      },
      "outputs": [],
      "source": []
    },
    {
      "cell_type": "markdown",
      "id": "c63b191b",
      "metadata": {
        "id": "c63b191b"
      },
      "source": [
        "#### 2. Create a pandas data frame with columns name as videos title, views, Length of videos, and videos link"
      ]
    },
    {
      "cell_type": "code",
      "execution_count": null,
      "id": "1784a515",
      "metadata": {
        "id": "1784a515",
        "outputId": "3c3de329-a38a-4a13-b270-ef05c67259a5"
      },
      "outputs": [
        {
          "data": {
            "text/html": [
              "<div>\n",
              "<style scoped>\n",
              "    .dataframe tbody tr th:only-of-type {\n",
              "        vertical-align: middle;\n",
              "    }\n",
              "\n",
              "    .dataframe tbody tr th {\n",
              "        vertical-align: top;\n",
              "    }\n",
              "\n",
              "    .dataframe thead th {\n",
              "        text-align: right;\n",
              "    }\n",
              "</style>\n",
              "<table border=\"1\" class=\"dataframe\">\n",
              "  <thead>\n",
              "    <tr style=\"text-align: right;\">\n",
              "      <th></th>\n",
              "      <th>title</th>\n",
              "      <th>url</th>\n",
              "      <th>views</th>\n",
              "      <th>date_of_rec</th>\n",
              "      <th>durations</th>\n",
              "    </tr>\n",
              "  </thead>\n",
              "  <tbody>\n",
              "    <tr>\n",
              "      <th>0</th>\n",
              "      <td>10 TIPS and TRICKS to Crack Internships and Pl...</td>\n",
              "      <td>https://www.youtube.com/watch?v=2QDMIZGeIC4</td>\n",
              "      <td>604</td>\n",
              "      <td>2023-08-01</td>\n",
              "      <td>593</td>\n",
              "    </tr>\n",
              "    <tr>\n",
              "      <th>1</th>\n",
              "      <td>Complete School Guide for CBSE | Free Resource...</td>\n",
              "      <td>https://www.youtube.com/watch?v=1ECMlxC6jbs</td>\n",
              "      <td>456</td>\n",
              "      <td>2023-07-31</td>\n",
              "      <td>56</td>\n",
              "    </tr>\n",
              "    <tr>\n",
              "      <th>2</th>\n",
              "      <td>Master System Design | GeeksforGeeks</td>\n",
              "      <td>https://www.youtube.com/watch?v=vjWLZYeqiN8</td>\n",
              "      <td>6624</td>\n",
              "      <td>2023-07-27</td>\n",
              "      <td>46</td>\n",
              "    </tr>\n",
              "    <tr>\n",
              "      <th>3</th>\n",
              "      <td>Unraveling the Geek-a-thon: The What, How, and...</td>\n",
              "      <td>https://www.youtube.com/watch?v=6e0v_NhsFMQ</td>\n",
              "      <td>414</td>\n",
              "      <td>2023-07-27</td>\n",
              "      <td>2700</td>\n",
              "    </tr>\n",
              "    <tr>\n",
              "      <th>4</th>\n",
              "      <td>Data Analysis Masterclass | Geek-A-Thon | Geek...</td>\n",
              "      <td>https://www.youtube.com/watch?v=-7Emxpn8DXc</td>\n",
              "      <td>568</td>\n",
              "      <td>2023-07-26</td>\n",
              "      <td>5340</td>\n",
              "    </tr>\n",
              "    <tr>\n",
              "      <th>...</th>\n",
              "      <td>...</td>\n",
              "      <td>...</td>\n",
              "      <td>...</td>\n",
              "      <td>...</td>\n",
              "      <td>...</td>\n",
              "    </tr>\n",
              "    <tr>\n",
              "      <th>145</th>\n",
              "      <td>Interview Experience @ Amazon | GeeksforGeeks</td>\n",
              "      <td>https://www.youtube.com/watch?v=SMgm_gpJyNU</td>\n",
              "      <td>4154</td>\n",
              "      <td>2022-05-06</td>\n",
              "      <td>1140</td>\n",
              "    </tr>\n",
              "    <tr>\n",
              "      <th>146</th>\n",
              "      <td>Life Is Unfair Ft. Shonty badmash | LIVE Disco...</td>\n",
              "      <td>https://www.youtube.com/watch?v=49MRLvZaG3s</td>\n",
              "      <td>1810</td>\n",
              "      <td>2022-04-26</td>\n",
              "      <td>1560</td>\n",
              "    </tr>\n",
              "    <tr>\n",
              "      <th>147</th>\n",
              "      <td>Journey from JIIT to Adobe</td>\n",
              "      <td>https://www.youtube.com/watch?v=9CswKbEqj5A</td>\n",
              "      <td>3788</td>\n",
              "      <td>2022-04-26</td>\n",
              "      <td>1920</td>\n",
              "    </tr>\n",
              "    <tr>\n",
              "      <th>148</th>\n",
              "      <td>GATE Live Classes | Prepare for GATE CS 2023 |...</td>\n",
              "      <td>https://www.youtube.com/watch?v=61KrUQsuu8M</td>\n",
              "      <td>2124</td>\n",
              "      <td>2022-04-25</td>\n",
              "      <td>63</td>\n",
              "    </tr>\n",
              "    <tr>\n",
              "      <th>149</th>\n",
              "      <td>DSA Self-Paced Course Preview | Sandeep Jain |...</td>\n",
              "      <td>https://www.youtube.com/watch?v=Pt2vYaJgGy8</td>\n",
              "      <td>73875</td>\n",
              "      <td>2022-04-23</td>\n",
              "      <td>7980</td>\n",
              "    </tr>\n",
              "  </tbody>\n",
              "</table>\n",
              "<p>150 rows × 5 columns</p>\n",
              "</div>"
            ],
            "text/plain": [
              "                                                 title  \\\n",
              "0    10 TIPS and TRICKS to Crack Internships and Pl...   \n",
              "1    Complete School Guide for CBSE | Free Resource...   \n",
              "2                 Master System Design | GeeksforGeeks   \n",
              "3    Unraveling the Geek-a-thon: The What, How, and...   \n",
              "4    Data Analysis Masterclass | Geek-A-Thon | Geek...   \n",
              "..                                                 ...   \n",
              "145      Interview Experience @ Amazon | GeeksforGeeks   \n",
              "146  Life Is Unfair Ft. Shonty badmash | LIVE Disco...   \n",
              "147                         Journey from JIIT to Adobe   \n",
              "148  GATE Live Classes | Prepare for GATE CS 2023 |...   \n",
              "149  DSA Self-Paced Course Preview | Sandeep Jain |...   \n",
              "\n",
              "                                             url  views date_of_rec  durations  \n",
              "0    https://www.youtube.com/watch?v=2QDMIZGeIC4    604  2023-08-01        593  \n",
              "1    https://www.youtube.com/watch?v=1ECMlxC6jbs    456  2023-07-31         56  \n",
              "2    https://www.youtube.com/watch?v=vjWLZYeqiN8   6624  2023-07-27         46  \n",
              "3    https://www.youtube.com/watch?v=6e0v_NhsFMQ    414  2023-07-27       2700  \n",
              "4    https://www.youtube.com/watch?v=-7Emxpn8DXc    568  2023-07-26       5340  \n",
              "..                                           ...    ...         ...        ...  \n",
              "145  https://www.youtube.com/watch?v=SMgm_gpJyNU   4154  2022-05-06       1140  \n",
              "146  https://www.youtube.com/watch?v=49MRLvZaG3s   1810  2022-04-26       1560  \n",
              "147  https://www.youtube.com/watch?v=9CswKbEqj5A   3788  2022-04-26       1920  \n",
              "148  https://www.youtube.com/watch?v=61KrUQsuu8M   2124  2022-04-25         63  \n",
              "149  https://www.youtube.com/watch?v=Pt2vYaJgGy8  73875  2022-04-23       7980  \n",
              "\n",
              "[150 rows x 5 columns]"
            ]
          },
          "execution_count": 163,
          "metadata": {},
          "output_type": "execute_result"
        }
      ],
      "source": [
        "df"
      ]
    },
    {
      "cell_type": "code",
      "execution_count": null,
      "id": "d4e98caa",
      "metadata": {
        "id": "d4e98caa",
        "outputId": "3fec4b60-f598-42af-9615-7968c4034d81"
      },
      "outputs": [
        {
          "name": "stdout",
          "output_type": "stream",
          "text": [
            "<class 'pandas.core.frame.DataFrame'>\n",
            "RangeIndex: 150 entries, 0 to 149\n",
            "Data columns (total 5 columns):\n",
            " #   Column       Non-Null Count  Dtype         \n",
            "---  ------       --------------  -----         \n",
            " 0   title        150 non-null    object        \n",
            " 1   url          150 non-null    object        \n",
            " 2   views        150 non-null    int64         \n",
            " 3   date_of_rec  150 non-null    datetime64[ns]\n",
            " 4   durations    150 non-null    int64         \n",
            "dtypes: datetime64[ns](1), int64(2), object(2)\n",
            "memory usage: 6.0+ KB\n"
          ]
        }
      ],
      "source": [
        "df.info()"
      ]
    },
    {
      "cell_type": "markdown",
      "id": "0314f290",
      "metadata": {
        "id": "0314f290"
      },
      "source": [
        "#### we have created the data frame with columns title url views , date , durations"
      ]
    },
    {
      "cell_type": "code",
      "execution_count": null,
      "id": "04540829",
      "metadata": {
        "id": "04540829"
      },
      "outputs": [],
      "source": []
    },
    {
      "cell_type": "markdown",
      "id": "75a30f39",
      "metadata": {
        "id": "75a30f39"
      },
      "source": [
        "#### 3. Name the most viewed topics in the past 6 months."
      ]
    },
    {
      "cell_type": "code",
      "execution_count": null,
      "id": "d056654d",
      "metadata": {
        "id": "d056654d",
        "outputId": "ee40fa60-b264-4220-90c9-bc764e51ed77"
      },
      "outputs": [
        {
          "data": {
            "text/html": [
              "<div>\n",
              "<style scoped>\n",
              "    .dataframe tbody tr th:only-of-type {\n",
              "        vertical-align: middle;\n",
              "    }\n",
              "\n",
              "    .dataframe tbody tr th {\n",
              "        vertical-align: top;\n",
              "    }\n",
              "\n",
              "    .dataframe thead th {\n",
              "        text-align: right;\n",
              "    }\n",
              "</style>\n",
              "<table border=\"1\" class=\"dataframe\">\n",
              "  <thead>\n",
              "    <tr style=\"text-align: right;\">\n",
              "      <th></th>\n",
              "      <th>title</th>\n",
              "      <th>url</th>\n",
              "      <th>views</th>\n",
              "      <th>date_of_rec</th>\n",
              "      <th>durations</th>\n",
              "    </tr>\n",
              "  </thead>\n",
              "  <tbody>\n",
              "    <tr>\n",
              "      <th>28</th>\n",
              "      <td>GeeksforGeeks Classroom Program | Now in Noida...</td>\n",
              "      <td>https://www.youtube.com/watch?v=16D2cuRy5JY</td>\n",
              "      <td>109383</td>\n",
              "      <td>2023-05-08</td>\n",
              "      <td>38</td>\n",
              "    </tr>\n",
              "    <tr>\n",
              "      <th>18</th>\n",
              "      <td>Free Summer Offline Classes on Python Programi...</td>\n",
              "      <td>https://www.youtube.com/watch?v=OOLXHwZzHfM</td>\n",
              "      <td>106927</td>\n",
              "      <td>2023-06-09</td>\n",
              "      <td>37</td>\n",
              "    </tr>\n",
              "    <tr>\n",
              "      <th>21</th>\n",
              "      <td>Full Stack Development | LIVE Classes | Geeksf...</td>\n",
              "      <td>https://www.youtube.com/watch?v=cBfC9HLR9Qk</td>\n",
              "      <td>89386</td>\n",
              "      <td>2023-05-30</td>\n",
              "      <td>35</td>\n",
              "    </tr>\n",
              "    <tr>\n",
              "      <th>31</th>\n",
              "      <td>Job Fair for Students | Till 25th May Only | G...</td>\n",
              "      <td>https://www.youtube.com/watch?v=1GEegOb3fHE</td>\n",
              "      <td>82851</td>\n",
              "      <td>2023-05-02</td>\n",
              "      <td>39</td>\n",
              "    </tr>\n",
              "    <tr>\n",
              "      <th>46</th>\n",
              "      <td>Master DSA Today and be the Masters of Tomorrow</td>\n",
              "      <td>https://www.youtube.com/watch?v=PsOXP5hg52w</td>\n",
              "      <td>73570</td>\n",
              "      <td>2023-03-15</td>\n",
              "      <td>25</td>\n",
              "    </tr>\n",
              "    <tr>\n",
              "      <th>...</th>\n",
              "      <td>...</td>\n",
              "      <td>...</td>\n",
              "      <td>...</td>\n",
              "      <td>...</td>\n",
              "      <td>...</td>\n",
              "    </tr>\n",
              "    <tr>\n",
              "      <th>9</th>\n",
              "      <td>Explore GeeksforGeeks Hiring Solutions | For T...</td>\n",
              "      <td>https://www.youtube.com/watch?v=GDeoPHRqb5w</td>\n",
              "      <td>591</td>\n",
              "      <td>2023-07-07</td>\n",
              "      <td>171</td>\n",
              "    </tr>\n",
              "    <tr>\n",
              "      <th>7</th>\n",
              "      <td>First Ever KBC at our Offline Classes | Geeksf...</td>\n",
              "      <td>https://www.youtube.com/watch?v=chYg2EAKW2A</td>\n",
              "      <td>587</td>\n",
              "      <td>2023-07-20</td>\n",
              "      <td>37</td>\n",
              "    </tr>\n",
              "    <tr>\n",
              "      <th>4</th>\n",
              "      <td>Data Analysis Masterclass | Geek-A-Thon | Geek...</td>\n",
              "      <td>https://www.youtube.com/watch?v=-7Emxpn8DXc</td>\n",
              "      <td>568</td>\n",
              "      <td>2023-07-26</td>\n",
              "      <td>5340</td>\n",
              "    </tr>\n",
              "    <tr>\n",
              "      <th>1</th>\n",
              "      <td>Complete School Guide for CBSE | Free Resource...</td>\n",
              "      <td>https://www.youtube.com/watch?v=1ECMlxC6jbs</td>\n",
              "      <td>456</td>\n",
              "      <td>2023-07-31</td>\n",
              "      <td>56</td>\n",
              "    </tr>\n",
              "    <tr>\n",
              "      <th>3</th>\n",
              "      <td>Unraveling the Geek-a-thon: The What, How, and...</td>\n",
              "      <td>https://www.youtube.com/watch?v=6e0v_NhsFMQ</td>\n",
              "      <td>414</td>\n",
              "      <td>2023-07-27</td>\n",
              "      <td>2700</td>\n",
              "    </tr>\n",
              "  </tbody>\n",
              "</table>\n",
              "<p>63 rows × 5 columns</p>\n",
              "</div>"
            ],
            "text/plain": [
              "                                                title  \\\n",
              "28  GeeksforGeeks Classroom Program | Now in Noida...   \n",
              "18  Free Summer Offline Classes on Python Programi...   \n",
              "21  Full Stack Development | LIVE Classes | Geeksf...   \n",
              "31  Job Fair for Students | Till 25th May Only | G...   \n",
              "46    Master DSA Today and be the Masters of Tomorrow   \n",
              "..                                                ...   \n",
              "9   Explore GeeksforGeeks Hiring Solutions | For T...   \n",
              "7   First Ever KBC at our Offline Classes | Geeksf...   \n",
              "4   Data Analysis Masterclass | Geek-A-Thon | Geek...   \n",
              "1   Complete School Guide for CBSE | Free Resource...   \n",
              "3   Unraveling the Geek-a-thon: The What, How, and...   \n",
              "\n",
              "                                            url   views date_of_rec  durations  \n",
              "28  https://www.youtube.com/watch?v=16D2cuRy5JY  109383  2023-05-08         38  \n",
              "18  https://www.youtube.com/watch?v=OOLXHwZzHfM  106927  2023-06-09         37  \n",
              "21  https://www.youtube.com/watch?v=cBfC9HLR9Qk   89386  2023-05-30         35  \n",
              "31  https://www.youtube.com/watch?v=1GEegOb3fHE   82851  2023-05-02         39  \n",
              "46  https://www.youtube.com/watch?v=PsOXP5hg52w   73570  2023-03-15         25  \n",
              "..                                          ...     ...         ...        ...  \n",
              "9   https://www.youtube.com/watch?v=GDeoPHRqb5w     591  2023-07-07        171  \n",
              "7   https://www.youtube.com/watch?v=chYg2EAKW2A     587  2023-07-20         37  \n",
              "4   https://www.youtube.com/watch?v=-7Emxpn8DXc     568  2023-07-26       5340  \n",
              "1   https://www.youtube.com/watch?v=1ECMlxC6jbs     456  2023-07-31         56  \n",
              "3   https://www.youtube.com/watch?v=6e0v_NhsFMQ     414  2023-07-27       2700  \n",
              "\n",
              "[63 rows x 5 columns]"
            ]
          },
          "execution_count": 197,
          "metadata": {},
          "output_type": "execute_result"
        }
      ],
      "source": [
        "filtered_df.sort_values(by=\"views\",ascending=False)"
      ]
    },
    {
      "cell_type": "code",
      "execution_count": null,
      "id": "98505b29",
      "metadata": {
        "id": "98505b29",
        "outputId": "cb6cf657-03d2-4987-96dc-7eb8e95a313e"
      },
      "outputs": [
        {
          "data": {
            "text/html": [
              "<div>\n",
              "<style scoped>\n",
              "    .dataframe tbody tr th:only-of-type {\n",
              "        vertical-align: middle;\n",
              "    }\n",
              "\n",
              "    .dataframe tbody tr th {\n",
              "        vertical-align: top;\n",
              "    }\n",
              "\n",
              "    .dataframe thead th {\n",
              "        text-align: right;\n",
              "    }\n",
              "</style>\n",
              "<table border=\"1\" class=\"dataframe\">\n",
              "  <thead>\n",
              "    <tr style=\"text-align: right;\">\n",
              "      <th></th>\n",
              "      <th>title</th>\n",
              "      <th>url</th>\n",
              "      <th>views</th>\n",
              "      <th>date_of_rec</th>\n",
              "      <th>durations</th>\n",
              "    </tr>\n",
              "  </thead>\n",
              "  <tbody>\n",
              "    <tr>\n",
              "      <th>28</th>\n",
              "      <td>GeeksforGeeks Classroom Program | Now in Noida...</td>\n",
              "      <td>https://www.youtube.com/watch?v=16D2cuRy5JY</td>\n",
              "      <td>109383</td>\n",
              "      <td>2023-05-08</td>\n",
              "      <td>38</td>\n",
              "    </tr>\n",
              "    <tr>\n",
              "      <th>18</th>\n",
              "      <td>Free Summer Offline Classes on Python Programi...</td>\n",
              "      <td>https://www.youtube.com/watch?v=OOLXHwZzHfM</td>\n",
              "      <td>106927</td>\n",
              "      <td>2023-06-09</td>\n",
              "      <td>37</td>\n",
              "    </tr>\n",
              "    <tr>\n",
              "      <th>21</th>\n",
              "      <td>Full Stack Development | LIVE Classes | Geeksf...</td>\n",
              "      <td>https://www.youtube.com/watch?v=cBfC9HLR9Qk</td>\n",
              "      <td>89386</td>\n",
              "      <td>2023-05-30</td>\n",
              "      <td>35</td>\n",
              "    </tr>\n",
              "    <tr>\n",
              "      <th>31</th>\n",
              "      <td>Job Fair for Students | Till 25th May Only | G...</td>\n",
              "      <td>https://www.youtube.com/watch?v=1GEegOb3fHE</td>\n",
              "      <td>82851</td>\n",
              "      <td>2023-05-02</td>\n",
              "      <td>39</td>\n",
              "    </tr>\n",
              "    <tr>\n",
              "      <th>46</th>\n",
              "      <td>Master DSA Today and be the Masters of Tomorrow</td>\n",
              "      <td>https://www.youtube.com/watch?v=PsOXP5hg52w</td>\n",
              "      <td>73570</td>\n",
              "      <td>2023-03-15</td>\n",
              "      <td>25</td>\n",
              "    </tr>\n",
              "    <tr>\n",
              "      <th>15</th>\n",
              "      <td>DSA To Development: A Complete Coding Guide | ...</td>\n",
              "      <td>https://www.youtube.com/watch?v=phr8lXH2Ee0</td>\n",
              "      <td>48487</td>\n",
              "      <td>2023-06-19</td>\n",
              "      <td>43</td>\n",
              "    </tr>\n",
              "    <tr>\n",
              "      <th>37</th>\n",
              "      <td>Create Your Own Apps Today | GeeksforGeeks</td>\n",
              "      <td>https://www.youtube.com/watch?v=LycNCWC3g18</td>\n",
              "      <td>34915</td>\n",
              "      <td>2023-04-17</td>\n",
              "      <td>38</td>\n",
              "    </tr>\n",
              "    <tr>\n",
              "      <th>25</th>\n",
              "      <td>Gate 2024: Prepare for Success! | GATE CSE 202...</td>\n",
              "      <td>https://www.youtube.com/watch?v=G-3vZKPEtKw</td>\n",
              "      <td>27467</td>\n",
              "      <td>2023-05-18</td>\n",
              "      <td>52</td>\n",
              "    </tr>\n",
              "    <tr>\n",
              "      <th>54</th>\n",
              "      <td>GeeksforGeeks Job Fair 2023</td>\n",
              "      <td>https://www.youtube.com/watch?v=xIC1IFPod9Y</td>\n",
              "      <td>25806</td>\n",
              "      <td>2023-02-22</td>\n",
              "      <td>31</td>\n",
              "    </tr>\n",
              "    <tr>\n",
              "      <th>40</th>\n",
              "      <td>Rule the Coding World with Geek Summer Carniva...</td>\n",
              "      <td>https://www.youtube.com/watch?v=zLj3Qb9T2Q4</td>\n",
              "      <td>25487</td>\n",
              "      <td>2023-04-04</td>\n",
              "      <td>42</td>\n",
              "    </tr>\n",
              "  </tbody>\n",
              "</table>\n",
              "</div>"
            ],
            "text/plain": [
              "                                                title  \\\n",
              "28  GeeksforGeeks Classroom Program | Now in Noida...   \n",
              "18  Free Summer Offline Classes on Python Programi...   \n",
              "21  Full Stack Development | LIVE Classes | Geeksf...   \n",
              "31  Job Fair for Students | Till 25th May Only | G...   \n",
              "46    Master DSA Today and be the Masters of Tomorrow   \n",
              "15  DSA To Development: A Complete Coding Guide | ...   \n",
              "37         Create Your Own Apps Today | GeeksforGeeks   \n",
              "25  Gate 2024: Prepare for Success! | GATE CSE 202...   \n",
              "54                        GeeksforGeeks Job Fair 2023   \n",
              "40  Rule the Coding World with Geek Summer Carniva...   \n",
              "\n",
              "                                            url   views date_of_rec  durations  \n",
              "28  https://www.youtube.com/watch?v=16D2cuRy5JY  109383  2023-05-08         38  \n",
              "18  https://www.youtube.com/watch?v=OOLXHwZzHfM  106927  2023-06-09         37  \n",
              "21  https://www.youtube.com/watch?v=cBfC9HLR9Qk   89386  2023-05-30         35  \n",
              "31  https://www.youtube.com/watch?v=1GEegOb3fHE   82851  2023-05-02         39  \n",
              "46  https://www.youtube.com/watch?v=PsOXP5hg52w   73570  2023-03-15         25  \n",
              "15  https://www.youtube.com/watch?v=phr8lXH2Ee0   48487  2023-06-19         43  \n",
              "37  https://www.youtube.com/watch?v=LycNCWC3g18   34915  2023-04-17         38  \n",
              "25  https://www.youtube.com/watch?v=G-3vZKPEtKw   27467  2023-05-18         52  \n",
              "54  https://www.youtube.com/watch?v=xIC1IFPod9Y   25806  2023-02-22         31  \n",
              "40  https://www.youtube.com/watch?v=zLj3Qb9T2Q4   25487  2023-04-04         42  "
            ]
          },
          "execution_count": 198,
          "metadata": {},
          "output_type": "execute_result"
        }
      ],
      "source": [
        "filtered_df.sort_values(by=\"views\",ascending=False).iloc[:10] # top ten"
      ]
    },
    {
      "cell_type": "code",
      "execution_count": null,
      "id": "b76ea1dc",
      "metadata": {
        "id": "b76ea1dc",
        "outputId": "d0956e3a-d605-4904-9cf7-f089294d8bc4"
      },
      "outputs": [
        {
          "data": {
            "text/plain": [
              "28    GeeksforGeeks Classroom Program | Now in Noida...\n",
              "18    Free Summer Offline Classes on Python Programi...\n",
              "21    Full Stack Development | LIVE Classes | Geeksf...\n",
              "31    Job Fair for Students | Till 25th May Only | G...\n",
              "46      Master DSA Today and be the Masters of Tomorrow\n",
              "Name: title, dtype: object"
            ]
          },
          "execution_count": 201,
          "metadata": {},
          "output_type": "execute_result"
        }
      ],
      "source": [
        "filtered_df.sort_values(by=\"views\",ascending=False).iloc[:5]['title'] # top 5"
      ]
    },
    {
      "cell_type": "markdown",
      "id": "df967e65",
      "metadata": {
        "id": "df967e65"
      },
      "source": [
        "#### top 5 viewed topics or vedios in past 6 months\n",
        " GeeksforGeeks Classroom Program | Now in Noida...  - 109383 views\n",
        "\n",
        "Free Summer Offline Classes on Python Programi...    -106927  views\n",
        "\n",
        "Full Stack Development | LIVE Classes | Geeksf...    -89386\t views\n",
        "\n",
        "Job Fair for Students | Till 25th May Only | G...    -82851\tviews\n",
        "\n",
        "Master DSA Today and be the Masters of Tomorrow      -73570 views"
      ]
    },
    {
      "cell_type": "code",
      "execution_count": null,
      "id": "47e4219e",
      "metadata": {
        "id": "47e4219e"
      },
      "outputs": [],
      "source": []
    },
    {
      "cell_type": "markdown",
      "id": "f95c61f5",
      "metadata": {
        "id": "f95c61f5"
      },
      "source": [
        "#### 4. Name the topics with the highest video length."
      ]
    },
    {
      "cell_type": "code",
      "execution_count": null,
      "id": "d6201948",
      "metadata": {
        "id": "d6201948",
        "outputId": "0694aaa7-7186-482f-96a6-6bf4b74386ae"
      },
      "outputs": [
        {
          "data": {
            "text/html": [
              "<div>\n",
              "<style scoped>\n",
              "    .dataframe tbody tr th:only-of-type {\n",
              "        vertical-align: middle;\n",
              "    }\n",
              "\n",
              "    .dataframe tbody tr th {\n",
              "        vertical-align: top;\n",
              "    }\n",
              "\n",
              "    .dataframe thead th {\n",
              "        text-align: right;\n",
              "    }\n",
              "</style>\n",
              "<table border=\"1\" class=\"dataframe\">\n",
              "  <thead>\n",
              "    <tr style=\"text-align: right;\">\n",
              "      <th></th>\n",
              "      <th>title</th>\n",
              "      <th>url</th>\n",
              "      <th>views</th>\n",
              "      <th>date_of_rec</th>\n",
              "      <th>durations</th>\n",
              "    </tr>\n",
              "  </thead>\n",
              "  <tbody>\n",
              "    <tr>\n",
              "      <th>149</th>\n",
              "      <td>DSA Self-Paced Course Preview | Sandeep Jain |...</td>\n",
              "      <td>https://www.youtube.com/watch?v=Pt2vYaJgGy8</td>\n",
              "      <td>73875</td>\n",
              "      <td>2022-04-23</td>\n",
              "      <td>7980</td>\n",
              "    </tr>\n",
              "    <tr>\n",
              "      <th>4</th>\n",
              "      <td>Data Analysis Masterclass | Geek-A-Thon | Geek...</td>\n",
              "      <td>https://www.youtube.com/watch?v=-7Emxpn8DXc</td>\n",
              "      <td>568</td>\n",
              "      <td>2023-07-26</td>\n",
              "      <td>5340</td>\n",
              "    </tr>\n",
              "    <tr>\n",
              "      <th>3</th>\n",
              "      <td>Unraveling the Geek-a-thon: The What, How, and...</td>\n",
              "      <td>https://www.youtube.com/watch?v=6e0v_NhsFMQ</td>\n",
              "      <td>414</td>\n",
              "      <td>2023-07-27</td>\n",
              "      <td>2700</td>\n",
              "    </tr>\n",
              "    <tr>\n",
              "      <th>134</th>\n",
              "      <td>Welcome Sandeep Jain at KIET Ghaziabad | Geeks...</td>\n",
              "      <td>https://www.youtube.com/watch?v=UkW6L9uyKJQ</td>\n",
              "      <td>2121</td>\n",
              "      <td>2022-05-25</td>\n",
              "      <td>2640</td>\n",
              "    </tr>\n",
              "    <tr>\n",
              "      <th>144</th>\n",
              "      <td>My journey through the tech world from India t...</td>\n",
              "      <td>https://www.youtube.com/watch?v=IXgQGoj0rSk</td>\n",
              "      <td>2205</td>\n",
              "      <td>2022-05-08</td>\n",
              "      <td>2280</td>\n",
              "    </tr>\n",
              "    <tr>\n",
              "      <th>...</th>\n",
              "      <td>...</td>\n",
              "      <td>...</td>\n",
              "      <td>...</td>\n",
              "      <td>...</td>\n",
              "      <td>...</td>\n",
              "    </tr>\n",
              "    <tr>\n",
              "      <th>139</th>\n",
              "      <td>A Brighter Future Awaits | GfG Karlo, Ho Jayeg...</td>\n",
              "      <td>https://www.youtube.com/watch?v=8IckHy8TJlw</td>\n",
              "      <td>26659</td>\n",
              "      <td>2022-05-19</td>\n",
              "      <td>19</td>\n",
              "    </tr>\n",
              "    <tr>\n",
              "      <th>85</th>\n",
              "      <td>Stay Tuned for a Big Surprise!!! | GeeksforGeeks</td>\n",
              "      <td>https://www.youtube.com/watch?v=STVrifPDpVU</td>\n",
              "      <td>3168</td>\n",
              "      <td>2022-09-28</td>\n",
              "      <td>18</td>\n",
              "    </tr>\n",
              "    <tr>\n",
              "      <th>73</th>\n",
              "      <td>⛄ Merry Christmas, Geeks! ⛄ | Keep Coding Keep...</td>\n",
              "      <td>https://www.youtube.com/watch?v=AESq1z0Okb0</td>\n",
              "      <td>1402</td>\n",
              "      <td>2022-12-25</td>\n",
              "      <td>15</td>\n",
              "    </tr>\n",
              "    <tr>\n",
              "      <th>84</th>\n",
              "      <td>Happy Dussehra 🔥</td>\n",
              "      <td>https://www.youtube.com/watch?v=WkzmnYyEoc8</td>\n",
              "      <td>1653</td>\n",
              "      <td>2022-10-05</td>\n",
              "      <td>12</td>\n",
              "    </tr>\n",
              "    <tr>\n",
              "      <th>12</th>\n",
              "      <td>Geek-O-Lympics 2023 | 1st - 31st July | Geeksf...</td>\n",
              "      <td>https://www.youtube.com/watch?v=GSqepfZLKU0</td>\n",
              "      <td>1183</td>\n",
              "      <td>2023-06-25</td>\n",
              "      <td>10</td>\n",
              "    </tr>\n",
              "  </tbody>\n",
              "</table>\n",
              "<p>150 rows × 5 columns</p>\n",
              "</div>"
            ],
            "text/plain": [
              "                                                 title  \\\n",
              "149  DSA Self-Paced Course Preview | Sandeep Jain |...   \n",
              "4    Data Analysis Masterclass | Geek-A-Thon | Geek...   \n",
              "3    Unraveling the Geek-a-thon: The What, How, and...   \n",
              "134  Welcome Sandeep Jain at KIET Ghaziabad | Geeks...   \n",
              "144  My journey through the tech world from India t...   \n",
              "..                                                 ...   \n",
              "139  A Brighter Future Awaits | GfG Karlo, Ho Jayeg...   \n",
              "85    Stay Tuned for a Big Surprise!!! | GeeksforGeeks   \n",
              "73   ⛄ Merry Christmas, Geeks! ⛄ | Keep Coding Keep...   \n",
              "84                                    Happy Dussehra 🔥   \n",
              "12   Geek-O-Lympics 2023 | 1st - 31st July | Geeksf...   \n",
              "\n",
              "                                             url  views date_of_rec  durations  \n",
              "149  https://www.youtube.com/watch?v=Pt2vYaJgGy8  73875  2022-04-23       7980  \n",
              "4    https://www.youtube.com/watch?v=-7Emxpn8DXc    568  2023-07-26       5340  \n",
              "3    https://www.youtube.com/watch?v=6e0v_NhsFMQ    414  2023-07-27       2700  \n",
              "134  https://www.youtube.com/watch?v=UkW6L9uyKJQ   2121  2022-05-25       2640  \n",
              "144  https://www.youtube.com/watch?v=IXgQGoj0rSk   2205  2022-05-08       2280  \n",
              "..                                           ...    ...         ...        ...  \n",
              "139  https://www.youtube.com/watch?v=8IckHy8TJlw  26659  2022-05-19         19  \n",
              "85   https://www.youtube.com/watch?v=STVrifPDpVU   3168  2022-09-28         18  \n",
              "73   https://www.youtube.com/watch?v=AESq1z0Okb0   1402  2022-12-25         15  \n",
              "84   https://www.youtube.com/watch?v=WkzmnYyEoc8   1653  2022-10-05         12  \n",
              "12   https://www.youtube.com/watch?v=GSqepfZLKU0   1183  2023-06-25         10  \n",
              "\n",
              "[150 rows x 5 columns]"
            ]
          },
          "execution_count": 202,
          "metadata": {},
          "output_type": "execute_result"
        }
      ],
      "source": [
        "df.sort_values(by=\"durations\",ascending=False)"
      ]
    },
    {
      "cell_type": "code",
      "execution_count": null,
      "id": "7685c53f",
      "metadata": {
        "id": "7685c53f",
        "outputId": "af324e32-4f00-4e0d-d40b-bbc4209de8e7"
      },
      "outputs": [
        {
          "data": {
            "text/html": [
              "<div>\n",
              "<style scoped>\n",
              "    .dataframe tbody tr th:only-of-type {\n",
              "        vertical-align: middle;\n",
              "    }\n",
              "\n",
              "    .dataframe tbody tr th {\n",
              "        vertical-align: top;\n",
              "    }\n",
              "\n",
              "    .dataframe thead th {\n",
              "        text-align: right;\n",
              "    }\n",
              "</style>\n",
              "<table border=\"1\" class=\"dataframe\">\n",
              "  <thead>\n",
              "    <tr style=\"text-align: right;\">\n",
              "      <th></th>\n",
              "      <th>title</th>\n",
              "      <th>url</th>\n",
              "      <th>views</th>\n",
              "      <th>date_of_rec</th>\n",
              "      <th>durations</th>\n",
              "    </tr>\n",
              "  </thead>\n",
              "  <tbody>\n",
              "    <tr>\n",
              "      <th>149</th>\n",
              "      <td>DSA Self-Paced Course Preview | Sandeep Jain |...</td>\n",
              "      <td>https://www.youtube.com/watch?v=Pt2vYaJgGy8</td>\n",
              "      <td>73875</td>\n",
              "      <td>2022-04-23</td>\n",
              "      <td>7980</td>\n",
              "    </tr>\n",
              "    <tr>\n",
              "      <th>4</th>\n",
              "      <td>Data Analysis Masterclass | Geek-A-Thon | Geek...</td>\n",
              "      <td>https://www.youtube.com/watch?v=-7Emxpn8DXc</td>\n",
              "      <td>568</td>\n",
              "      <td>2023-07-26</td>\n",
              "      <td>5340</td>\n",
              "    </tr>\n",
              "    <tr>\n",
              "      <th>3</th>\n",
              "      <td>Unraveling the Geek-a-thon: The What, How, and...</td>\n",
              "      <td>https://www.youtube.com/watch?v=6e0v_NhsFMQ</td>\n",
              "      <td>414</td>\n",
              "      <td>2023-07-27</td>\n",
              "      <td>2700</td>\n",
              "    </tr>\n",
              "    <tr>\n",
              "      <th>134</th>\n",
              "      <td>Welcome Sandeep Jain at KIET Ghaziabad | Geeks...</td>\n",
              "      <td>https://www.youtube.com/watch?v=UkW6L9uyKJQ</td>\n",
              "      <td>2121</td>\n",
              "      <td>2022-05-25</td>\n",
              "      <td>2640</td>\n",
              "    </tr>\n",
              "    <tr>\n",
              "      <th>144</th>\n",
              "      <td>My journey through the tech world from India t...</td>\n",
              "      <td>https://www.youtube.com/watch?v=IXgQGoj0rSk</td>\n",
              "      <td>2205</td>\n",
              "      <td>2022-05-08</td>\n",
              "      <td>2280</td>\n",
              "    </tr>\n",
              "    <tr>\n",
              "      <th>58</th>\n",
              "      <td>Meet Shikar Goel, CTO of GeeksforGeeks | Know ...</td>\n",
              "      <td>https://www.youtube.com/watch?v=d2zk6YEqGsM</td>\n",
              "      <td>1655</td>\n",
              "      <td>2023-02-17</td>\n",
              "      <td>2220</td>\n",
              "    </tr>\n",
              "    <tr>\n",
              "      <th>55</th>\n",
              "      <td>OpenAI's ChatGPT &amp; GPT 4 | Google's BARD AI | ...</td>\n",
              "      <td>https://www.youtube.com/watch?v=2RcaFQzCgys</td>\n",
              "      <td>1935</td>\n",
              "      <td>2023-02-21</td>\n",
              "      <td>2100</td>\n",
              "    </tr>\n",
              "    <tr>\n",
              "      <th>115</th>\n",
              "      <td>How To Land A Consultancy Job Without An MBA? ...</td>\n",
              "      <td>https://www.youtube.com/watch?v=0bce9CP2uEo</td>\n",
              "      <td>6687</td>\n",
              "      <td>2022-07-06</td>\n",
              "      <td>1920</td>\n",
              "    </tr>\n",
              "    <tr>\n",
              "      <th>82</th>\n",
              "      <td>Roadmap to a Career at Microsoft | Preparation...</td>\n",
              "      <td>https://www.youtube.com/watch?v=CyI0QuVWawQ</td>\n",
              "      <td>5157</td>\n",
              "      <td>2022-10-17</td>\n",
              "      <td>1920</td>\n",
              "    </tr>\n",
              "    <tr>\n",
              "      <th>147</th>\n",
              "      <td>Journey from JIIT to Adobe</td>\n",
              "      <td>https://www.youtube.com/watch?v=9CswKbEqj5A</td>\n",
              "      <td>3788</td>\n",
              "      <td>2022-04-26</td>\n",
              "      <td>1920</td>\n",
              "    </tr>\n",
              "  </tbody>\n",
              "</table>\n",
              "</div>"
            ],
            "text/plain": [
              "                                                 title  \\\n",
              "149  DSA Self-Paced Course Preview | Sandeep Jain |...   \n",
              "4    Data Analysis Masterclass | Geek-A-Thon | Geek...   \n",
              "3    Unraveling the Geek-a-thon: The What, How, and...   \n",
              "134  Welcome Sandeep Jain at KIET Ghaziabad | Geeks...   \n",
              "144  My journey through the tech world from India t...   \n",
              "58   Meet Shikar Goel, CTO of GeeksforGeeks | Know ...   \n",
              "55   OpenAI's ChatGPT & GPT 4 | Google's BARD AI | ...   \n",
              "115  How To Land A Consultancy Job Without An MBA? ...   \n",
              "82   Roadmap to a Career at Microsoft | Preparation...   \n",
              "147                         Journey from JIIT to Adobe   \n",
              "\n",
              "                                             url  views date_of_rec  durations  \n",
              "149  https://www.youtube.com/watch?v=Pt2vYaJgGy8  73875  2022-04-23       7980  \n",
              "4    https://www.youtube.com/watch?v=-7Emxpn8DXc    568  2023-07-26       5340  \n",
              "3    https://www.youtube.com/watch?v=6e0v_NhsFMQ    414  2023-07-27       2700  \n",
              "134  https://www.youtube.com/watch?v=UkW6L9uyKJQ   2121  2022-05-25       2640  \n",
              "144  https://www.youtube.com/watch?v=IXgQGoj0rSk   2205  2022-05-08       2280  \n",
              "58   https://www.youtube.com/watch?v=d2zk6YEqGsM   1655  2023-02-17       2220  \n",
              "55   https://www.youtube.com/watch?v=2RcaFQzCgys   1935  2023-02-21       2100  \n",
              "115  https://www.youtube.com/watch?v=0bce9CP2uEo   6687  2022-07-06       1920  \n",
              "82   https://www.youtube.com/watch?v=CyI0QuVWawQ   5157  2022-10-17       1920  \n",
              "147  https://www.youtube.com/watch?v=9CswKbEqj5A   3788  2022-04-26       1920  "
            ]
          },
          "execution_count": 203,
          "metadata": {},
          "output_type": "execute_result"
        }
      ],
      "source": [
        "df.sort_values(by=\"durations\",ascending=False).iloc[:10]"
      ]
    },
    {
      "cell_type": "code",
      "execution_count": null,
      "id": "c6c1f2cb",
      "metadata": {
        "id": "c6c1f2cb",
        "outputId": "30ee2fb4-71ee-45eb-f532-41cde84ad524"
      },
      "outputs": [
        {
          "data": {
            "text/html": [
              "<div>\n",
              "<style scoped>\n",
              "    .dataframe tbody tr th:only-of-type {\n",
              "        vertical-align: middle;\n",
              "    }\n",
              "\n",
              "    .dataframe tbody tr th {\n",
              "        vertical-align: top;\n",
              "    }\n",
              "\n",
              "    .dataframe thead th {\n",
              "        text-align: right;\n",
              "    }\n",
              "</style>\n",
              "<table border=\"1\" class=\"dataframe\">\n",
              "  <thead>\n",
              "    <tr style=\"text-align: right;\">\n",
              "      <th></th>\n",
              "      <th>title</th>\n",
              "      <th>url</th>\n",
              "      <th>views</th>\n",
              "      <th>date_of_rec</th>\n",
              "      <th>durations</th>\n",
              "    </tr>\n",
              "  </thead>\n",
              "  <tbody>\n",
              "    <tr>\n",
              "      <th>149</th>\n",
              "      <td>DSA Self-Paced Course Preview | Sandeep Jain |...</td>\n",
              "      <td>https://www.youtube.com/watch?v=Pt2vYaJgGy8</td>\n",
              "      <td>73875</td>\n",
              "      <td>2022-04-23</td>\n",
              "      <td>7980</td>\n",
              "    </tr>\n",
              "    <tr>\n",
              "      <th>4</th>\n",
              "      <td>Data Analysis Masterclass | Geek-A-Thon | Geek...</td>\n",
              "      <td>https://www.youtube.com/watch?v=-7Emxpn8DXc</td>\n",
              "      <td>568</td>\n",
              "      <td>2023-07-26</td>\n",
              "      <td>5340</td>\n",
              "    </tr>\n",
              "    <tr>\n",
              "      <th>3</th>\n",
              "      <td>Unraveling the Geek-a-thon: The What, How, and...</td>\n",
              "      <td>https://www.youtube.com/watch?v=6e0v_NhsFMQ</td>\n",
              "      <td>414</td>\n",
              "      <td>2023-07-27</td>\n",
              "      <td>2700</td>\n",
              "    </tr>\n",
              "    <tr>\n",
              "      <th>134</th>\n",
              "      <td>Welcome Sandeep Jain at KIET Ghaziabad | Geeks...</td>\n",
              "      <td>https://www.youtube.com/watch?v=UkW6L9uyKJQ</td>\n",
              "      <td>2121</td>\n",
              "      <td>2022-05-25</td>\n",
              "      <td>2640</td>\n",
              "    </tr>\n",
              "    <tr>\n",
              "      <th>144</th>\n",
              "      <td>My journey through the tech world from India t...</td>\n",
              "      <td>https://www.youtube.com/watch?v=IXgQGoj0rSk</td>\n",
              "      <td>2205</td>\n",
              "      <td>2022-05-08</td>\n",
              "      <td>2280</td>\n",
              "    </tr>\n",
              "  </tbody>\n",
              "</table>\n",
              "</div>"
            ],
            "text/plain": [
              "                                                 title  \\\n",
              "149  DSA Self-Paced Course Preview | Sandeep Jain |...   \n",
              "4    Data Analysis Masterclass | Geek-A-Thon | Geek...   \n",
              "3    Unraveling the Geek-a-thon: The What, How, and...   \n",
              "134  Welcome Sandeep Jain at KIET Ghaziabad | Geeks...   \n",
              "144  My journey through the tech world from India t...   \n",
              "\n",
              "                                             url  views date_of_rec  durations  \n",
              "149  https://www.youtube.com/watch?v=Pt2vYaJgGy8  73875  2022-04-23       7980  \n",
              "4    https://www.youtube.com/watch?v=-7Emxpn8DXc    568  2023-07-26       5340  \n",
              "3    https://www.youtube.com/watch?v=6e0v_NhsFMQ    414  2023-07-27       2700  \n",
              "134  https://www.youtube.com/watch?v=UkW6L9uyKJQ   2121  2022-05-25       2640  \n",
              "144  https://www.youtube.com/watch?v=IXgQGoj0rSk   2205  2022-05-08       2280  "
            ]
          },
          "execution_count": 204,
          "metadata": {},
          "output_type": "execute_result"
        }
      ],
      "source": [
        "df.sort_values(by=\"durations\",ascending=False).iloc[:5]"
      ]
    },
    {
      "cell_type": "code",
      "execution_count": null,
      "id": "4a21a93d",
      "metadata": {
        "id": "4a21a93d",
        "outputId": "c8a5f0c8-63bf-4d82-f186-90baa4173547"
      },
      "outputs": [
        {
          "data": {
            "text/plain": [
              "149    DSA Self-Paced Course Preview | Sandeep Jain |...\n",
              "4      Data Analysis Masterclass | Geek-A-Thon | Geek...\n",
              "3      Unraveling the Geek-a-thon: The What, How, and...\n",
              "134    Welcome Sandeep Jain at KIET Ghaziabad | Geeks...\n",
              "144    My journey through the tech world from India t...\n",
              "Name: title, dtype: object"
            ]
          },
          "execution_count": 205,
          "metadata": {},
          "output_type": "execute_result"
        }
      ],
      "source": [
        "df.sort_values(by=\"durations\",ascending=False).iloc[:5]['title']"
      ]
    },
    {
      "cell_type": "markdown",
      "id": "503818d8",
      "metadata": {
        "id": "503818d8"
      },
      "source": [
        "####  top 5 highest video length\n",
        "\n",
        " DSA Self-Paced Course Preview | Sandeep Jain |... 7980 seconds\n",
        "\n",
        "Data Analysis Masterclass | Geek-A-Thon | Geek...  5340 seconds\n",
        "\n",
        " Unraveling the Geek-a-thon: The What, How, and...  2700 seconds\n",
        "\n",
        "Welcome Sandeep Jain at KIET Ghaziabad | Geeks...   2640 seconds\n",
        "\n",
        "My journey through the tech world from India t..    2280 seconds"
      ]
    },
    {
      "cell_type": "code",
      "execution_count": null,
      "id": "97ff82ed",
      "metadata": {
        "id": "97ff82ed"
      },
      "outputs": [],
      "source": []
    },
    {
      "cell_type": "markdown",
      "id": "f78b9c59",
      "metadata": {
        "id": "f78b9c59"
      },
      "source": [
        "#### 5. Make a comparison between the number of views and video length using a Graph."
      ]
    },
    {
      "cell_type": "code",
      "execution_count": null,
      "id": "6a62e4c7",
      "metadata": {
        "id": "6a62e4c7"
      },
      "outputs": [],
      "source": [
        "import seaborn as sns\n",
        "import matplotlib.pyplot as plt"
      ]
    },
    {
      "cell_type": "code",
      "execution_count": null,
      "id": "ffd44b76",
      "metadata": {
        "id": "ffd44b76",
        "outputId": "970b08d2-9773-4769-b9ea-5a8fae71bee3"
      },
      "outputs": [
        {
          "data": {
            "image/png": "[encoded data removed]",
            "text/plain": [
              "<Figure size 1080x432 with 1 Axes>"
            ]
          },
          "metadata": {
            "needs_background": "light"
          },
          "output_type": "display_data"
        }
      ],
      "source": [
        "plt.figure(figsize=(15, 6))\n",
        "sns.lineplot(x=df['durations'],y=df['views'])\n",
        "plt.show()"
      ]
    },
    {
      "cell_type": "code",
      "execution_count": null,
      "id": "69c3734f",
      "metadata": {
        "id": "69c3734f",
        "outputId": "957182b9-b7c7-40db-c080-940e1dda51a2"
      },
      "outputs": [
        {
          "data": {
            "image/png": "[encoded data removed]",
            "text/plain": [
              "<Figure size 720x432 with 1 Axes>"
            ]
          },
          "metadata": {
            "needs_background": "light"
          },
          "output_type": "display_data"
        }
      ],
      "source": [
        "plt.figure(figsize=(10, 6))\n",
        "sns.scatterplot(x=df['durations'],y=df['views'])\n",
        "plt.show()"
      ]
    },
    {
      "cell_type": "code",
      "execution_count": null,
      "id": "bd1127de",
      "metadata": {
        "id": "bd1127de",
        "outputId": "94058694-cf84-4adb-a176-89a007ff7484"
      },
      "outputs": [
        {
          "data": {
            "text/plain": [
              "<AxesSubplot:xlabel='durations', ylabel='Density'>"
            ]
          },
          "execution_count": 209,
          "metadata": {},
          "output_type": "execute_result"
        },
        {
          "data": {
            "image/png": "[encoded data removed]",
            "text/plain": [
              "<Figure size 432x288 with 1 Axes>"
            ]
          },
          "metadata": {
            "needs_background": "light"
          },
          "output_type": "display_data"
        }
      ],
      "source": [
        "sns.kdeplot(df['durations'])"
      ]
    },
    {
      "cell_type": "code",
      "execution_count": null,
      "id": "4863ae55",
      "metadata": {
        "id": "4863ae55",
        "outputId": "0e472d2d-ca1c-4fc1-89ae-35e8a386028f"
      },
      "outputs": [
        {
          "data": {
            "text/plain": [
              "542.02"
            ]
          },
          "execution_count": 210,
          "metadata": {},
          "output_type": "execute_result"
        }
      ],
      "source": [
        "df['durations'].mean()"
      ]
    },
    {
      "cell_type": "markdown",
      "id": "025acbb0",
      "metadata": {
        "id": "025acbb0"
      },
      "source": [
        "#### From above line plot we can say that usually short vedios have much views  ie less that 500 seconds\n",
        "#### less views for 2000 to 5000 seconds vedios\n",
        "#### and the vedios which have high duration above 5000 seconds have good amount of significat views\n",
        "Note : we have only 2 data points which is above 5000 seconds"
      ]
    },
    {
      "cell_type": "markdown",
      "id": "cf90dca8",
      "metadata": {
        "id": "cf90dca8"
      },
      "source": [
        "#### Most of the vedios are in range of  0 to 2000 seconds\n",
        "#### the mean vedio duration is 542 seconds\n"
      ]
    },
    {
      "cell_type": "code",
      "execution_count": null,
      "id": "b6a33762",
      "metadata": {
        "id": "b6a33762"
      },
      "outputs": [],
      "source": []
    },
    {
      "cell_type": "code",
      "execution_count": null,
      "id": "ab24d843",
      "metadata": {
        "id": "ab24d843"
      },
      "outputs": [],
      "source": []
    }
  ],
  "metadata": {
    "kernelspec": {
      "display_name": "Python 3",
      "language": "python",
      "name": "python3"
    },
    "language_info": {
      "codemirror_mode": {
        "name": "ipython",
        "version": 3
      },
      "file_extension": ".py",
      "mimetype": "text/x-python",
      "name": "python",
      "nbconvert_exporter": "python",
      "pygments_lexer": "ipython3",
      "version": "3.8.8"
    },
    "colab": {
      "provenance": [],
      "include_colab_link": true
    }
  },
  "nbformat": 4,
  "nbformat_minor": 5
}