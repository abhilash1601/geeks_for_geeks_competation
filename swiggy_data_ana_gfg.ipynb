{
 "cells": [
  {
   "cell_type": "code",
   "execution_count": 1,
   "id": "09266fa0",
   "metadata": {},
   "outputs": [],
   "source": [
    "import json\n",
    "\n",
    "# Open the JSON file in read mode\n",
    "with open(\"data.json\", \"r\") as file:\n",
    "    # Load the JSON data into a Python dictionary\n",
    "    data = json.load(file)"
   ]
  },
  {
   "cell_type": "code",
   "execution_count": 2,
   "id": "61758ad4",
   "metadata": {},
   "outputs": [
    {
     "data": {
      "text/plain": [
       "dict_keys(['Abohar', 'Adilabad', 'Adityapur', 'Adoni', 'Agartala', 'Agra', 'Ahmedabad', 'Ahmednagar', 'Aizawl', 'Ajmer', 'Akola', 'Alappuzha', 'Aligarh', 'Alipurduar', 'Allahabad', 'Almora', 'Alwar', 'Amalapuram', 'Ambala', 'Ambikapur', 'Ambur', 'Amravati', 'Amreli', 'Amritsar', 'Anand', 'Anantapur', 'Angul', 'Ankleshwar', 'Arakkonam', 'Arambagh', 'Arrah', 'Aruppukottai', 'Asansol', 'Aurangabad', 'Aurangabad_bihar', 'Azamgarh', 'Baddi', 'Bagalkot', 'Bagdogra', 'Bagula', 'Bahadurgarh', 'Bahraich', 'Balaghat', 'Balangir', 'Balasore', 'Ballari', 'Balrampur', 'Balurghat', 'Banda', 'Bangalore', 'Bankabihar', 'Bankura', 'Bantwal', 'Bapatlachirala', 'Baramati', 'Baran', 'Baraut', 'Bardhaman', 'Bardoli', 'Bareilly', 'Baripada', 'Barmer', 'Barnala', 'Barshi', 'Barwani', 'Basirhat', 'Basti', 'Batala', 'Bathinda', 'Beawar', 'Beed', 'Begusarai', 'Bela-pratapgarh', 'Belgaum', 'Berhampore', 'Berhampur', 'Bettiah', 'Betul', 'Bhadohi', 'Bhadrachalam', 'Bhadrak', 'Bhadravati', 'Bhagalpur', 'Bhandara', 'Bharabanki', 'Bharatpur', 'Bharuch', 'Bhatkal', 'Bhavnagar', 'Bhawanipatna', 'Bhilai', 'Bhilwara', 'Bhimavaram', 'Bhind', 'Bhiwadi', 'Bhiwani', 'Bhopal', 'Bhubaneswar', 'Bhuj', 'Bhusawal', 'Bidar', 'Biharsharif', 'Bijapur', 'Bijnor', 'Bikaner', 'Bilaspur', 'Bilaspur-hp', 'Bilimora', 'Biswanath-chariali', 'Bodhan-rural', 'Bodinayakanur', 'Boisar', 'Bokaro', 'Bolpur', 'Bongaigaon', 'Bongaon', 'Budaun', 'Budhwal', 'Bulandshahr', 'Buldana', 'Bundi', 'Burhanpur', 'Buxar', 'Central-goa', 'Chakdaha', 'Chalakkudy', 'Chalisgaon', 'Chandausi', 'Chandigarh', 'Chandrapur', 'Changanassery', 'Chengannur', 'Chennai', 'Cherthala', 'Chhapra', 'Chhatarpur', 'Chhindwara', 'Chidambaram', 'Chikhli', 'Chikkaballapur', 'Chikmagalur', 'Chiplun', 'Chitradurga', 'Chittoor', 'Chittorgarh', 'Chopda', 'Churu', 'Coimbatore', 'Cooch-behar', 'Cuddalore', 'Cuttack', 'Dahanu', 'Dahod', 'Daltonganj', 'Daman', 'Darbhanga', 'Darjeeling', 'Daund', 'Dausa', 'Davanagere', 'Dehradun', 'Dehri', 'Delhi', 'Deoghar', 'Dewas', 'Dhanbad', 'Dhar', 'Dharamshala', 'Dharapuram', 'Dharmapuri', 'Dharwad', 'Dhoraji', 'Dhule', 'Dibrugarh', 'Digboi', 'Dimapur', 'Dindigul', 'Diu', 'Doddaballapura', 'Duliajan', 'Dumka', 'Durgapur', 'Eluru', 'Erode', 'Etah', 'Etawah', 'Faizabad', 'Faridabad', 'Faridkot', 'Farrukhabad', 'Fatehabad', 'Fatehgarh-sahib', 'Fatehpur', 'Fazilka', 'Firozabad', 'Firozpur', 'Freelancer', 'Gadag-betigeri', 'Gadwal', 'Gandhidham', 'Gangapur-city', 'Gangarampur', 'Gangtok', 'Gauriganj', 'Gaya', 'Giridih', 'Godhra', 'Gokak', 'Golaghat', 'Gonda', 'Gondal', 'Gondia', 'Gopalganj', 'Gorakhpur', 'Gudivada', 'Guna', 'Guntakal', 'Guntur', 'Gurdaspur', 'Gurgaon', 'Guwahati', 'Gwalior', 'Habra', 'Hajipur', 'Haldia', 'Haldwani', 'Halol', 'Hampi', 'Hansi', 'Hanumangarh', 'Hapur', 'Hardoi', 'Haridwar', 'Hassan', 'Hathras', 'Himmatnagar', 'Hindaun', 'Hinganghat', 'Hisar', 'Hoshangabad', 'Hoshiarpur', 'Hospet', 'Hosur', 'Hubli', 'Hyderabad', 'Ichalkaranji', 'Idukki', 'Imphal', 'Indore', 'Irinjalakuda', 'Itanagar', 'Itarsi', 'Jabalpur', 'Jagdalpur', 'Jagraon', 'Jagtial', 'Jahanabad', 'Jaigaon', 'Jaipur', 'Jalandhar', 'Jalaun', 'Jalgaon', 'Jalpaiguri', 'Jammu', 'Jamnagar', 'Jamshedpur', 'Jaunpur', 'Jhalawar', 'Jhansi', 'Jhargram', 'Jhunjhunu', 'Jind', 'Jodhpur', 'Jorhat', 'Junagadh', 'Kadapa', 'Kadayanallur', 'Kadiri', 'Kaithal', 'Kakinada', 'Kalaburagi', 'Kalady', 'Kalna', 'Kamareddy', 'Kanchrapara', 'Kannauj', 'Kannur', 'Kanpur', 'Kanyakumari', 'Kapurthala', 'Karad', 'Karaikkudi', 'Karimnagar', 'Karnal', 'Karunagappaly', 'Karur', 'Karwar', 'Kasaragod', 'Kashipur', 'Katihar', 'Katni', 'Kavali', 'Kayamkulam', 'Kendrapada', 'Kendujhar', 'Khalilabad', 'Khamgaon', 'Khammam', 'Khandwa', 'Khanna', 'Kharagpur', 'Khopoli', 'Kishanganj', 'Kishangarh', 'Kochi', 'Kodaikanal', 'Kohima', 'Kolar', 'Kolhapur', 'Kolkata', 'Kollam', 'Kopargaon', 'Koppal', 'Korba', 'Kota', 'Kotdwar', 'Kothagudem', 'Kothamanagalam', 'Kottakkal', 'Kottarakkara', 'Kottayam', 'Kovilpatti', 'Kozhikode', 'Krishnagiri', 'Krishnanagar', 'Kumarakom', 'Kumbakonam', 'Kumta', 'Kundapura', 'Kunnamkullam', 'Kurnool', 'Kurukshetra', 'Lakhimpur', 'Lalitpur', 'Latur', 'Lonavala', 'Lonavla', 'Lucknow', 'Ludhiana', 'Machilipatnam', 'Madanapalle', 'Madhubani', 'Madikeri', 'Madurai', 'Mahabaleshwar', 'Mahbubnagar', 'Mahoba', 'Malappuram', 'Malda', 'Malegaon', 'Malout', 'Manali', 'Mancherial', 'Mandi-dabwali', 'Mandi-gobindgarh', 'Mandi-hp', 'Mandsaur', 'Mandya', 'Mangaluru', 'Manipal', 'Manjeri', 'Mannargudi', 'Mansa', 'Markapur', 'Mathura', 'Maunath-bhanjan', 'Mayiladuthurai', 'Medinipur', 'Meerut', 'Mehsana', 'Mettupalayam', 'Miryalaguda', 'Mirzapur', 'Modinagar', 'Moga', 'Moodbidri', 'Moradabad', 'Morbi', 'Morena', 'Motihari', 'Mount-abu', 'Mughalsarai', 'Mukerian', 'Muktsar', 'Mumbai', 'Munger', 'Murshidabad', 'Mussoorie', 'Muvattupuzha', 'Muzaffarnagar', 'Muzaffarpur', 'Mysore', 'Nabadwip', 'Nadiad', 'Nagaon', 'Nagapattinam', 'Nagda', 'Nagercoil', 'Nagpur', 'Nagur', 'Naharlagun', 'Nainital', 'Nalbari', 'Nalgonda', 'Namakkal', 'Nanded', 'Nandurbar', 'Nandyal', 'Nangal', 'Naraingarh', 'Narasaraopet', 'Narnaul', 'Narsinghpur', 'Narsipatnam', 'Nashik', 'Navsari', 'Neemuch', 'Nellore', 'Neyveli', 'Nipani', 'Nirmal', 'Nizamabad', 'Noida', 'Noida-1', 'North-goa', 'Ongole', 'Ooty', 'Orai', 'Osmanabad', 'Pala', 'Palakkad', 'Palakollu', 'Palampur', 'Palani', 'Palanpur', 'Pali', 'Palwal', 'Panchgani', 'Panipat', 'Paramakudi', 'Parbhani', 'Pathankot', 'Patiala', 'Patna', 'Pattukkottai', 'Payyannur', 'Perambalur', 'Perinthalmanna', 'Phagwara', 'Phusro', 'Pilani', 'Pilibhit', 'Pinjore-city', 'Pondicherry', 'Porbandar', 'Port-blair', 'Pratapgarh', 'Proddatur', 'Pudukkottai', 'Pune', 'Puri', 'Purnea', 'Purulia', 'Pusad', 'Puttur', 'Puttur-karnataka', 'Rae-bareli', 'Raghunathpur', 'Raichur', 'Raiganj', 'Raigarh', 'Raipur', 'Rajahmundry', 'Rajapalayam', 'Rajgarh', 'Rajkot', 'Rajnandgaon', 'Rajsamand', 'Ramagundam', 'Ramanagara', 'Ramanathapuram', 'Ramgarh', 'Rampur', 'Ranaghat', 'Ranaghat-wb', 'Ranchi', 'Rangpo', 'Ranibennur', 'Raniganj', 'Ratlam', 'Ratnagiri', 'Ravulapalem', 'Rayachoty', 'Rewa', 'Rewari', 'Rishikesh', 'Rohtak', 'Roorkee', 'Ropar', 'Rourkela', 'Rudrapur', 'Sagar', 'Saharanpur', 'Saharsa', 'Salem', 'Samastipur', 'Sambalpur', 'Sangamner', 'Sangli', 'Sangrur', 'Santipur', 'Sasaram', 'Satara', 'Satna', 'Sawai-madhopur', 'Sawantwadi', 'Sehore', 'Shahjahanpur', 'Shamli', 'Shikohabad', 'Shillong', 'Shimla', 'Shirdi-city', 'Shivamogga', 'Shivpuri', 'Shravasti', 'Shrirampur', 'Siddipet', 'Sikar', 'Silchar', 'Siliguri', 'Silvassa', 'Sindhanur', 'Singrauli', 'Sirkali', 'Sirsa', 'Sirsi', 'Sitamarhi', 'Sitapur', 'Sivakasi', 'Sivasagar', 'Siwan', 'Solan', 'Solapur', 'Sonipat', 'South-goa', 'Sri-ganganagar', 'Srikakulam', 'Srivilliputhur', 'Sultanpur', 'Surat', 'Suratgarh', 'Surendranagar-dudhrej', 'Suri', 'Suryapet', 'Tadepalligudem', 'Tadpatri', 'Tanuku', 'Tarn-taran-sahib', 'Tenkasi', 'Tezpur', 'Thalassery', 'Thanjavur', 'Theni', 'Thiruvalla', 'Thiruvallur', 'Thiruvananthapuram', 'Thiruvarur', 'Thodupuzha', 'Thoothukudi', 'Thoubal', 'Thrissur', 'Tindivanam', 'Tinsukia', 'Tiptur', 'Tirunelveli', 'Tirupati', 'Tirupur', 'Tiruttani', 'Tiruvannamalai', 'Tohana', 'Trichy', 'Tumakuru', 'Tuni', 'Udaipur', 'Udgir', 'Udhampur', 'Ujjain', 'Uluberia', 'Unnao', 'Uran-islampur', 'Vadodara', 'Valsad', 'Vapi', 'Varanasi', 'Varkala', 'Vellore', 'Veraval', 'Vidisha', 'Vijayawada', 'Viluppuram', 'Virudhunagar', 'Visnagar', 'Vizag', 'Vizianagaram', 'Vyara', 'Waidhan', 'Warangal', 'Wardha', 'Washim', 'Wayanad', 'Yamuna-nagar', 'Yavatmal'])"
      ]
     },
     "execution_count": 2,
     "metadata": {},
     "output_type": "execute_result"
    }
   ],
   "source": [
    "data.keys()"
   ]
  },
  {
   "cell_type": "markdown",
   "id": "a12b52f2",
   "metadata": {},
   "source": [
    "### 1. How many cities (including subregions) where Swiggy is having its restaurants listed?\n"
   ]
  },
  {
   "cell_type": "code",
   "execution_count": 3,
   "id": "194c3883",
   "metadata": {},
   "outputs": [],
   "source": [
    "list_of_cites_ind_sub=[]\n",
    "for i in data.keys():\n",
    "  if(\"restaurants\" in list(data[i].keys())):\n",
    "    list_of_cites_ind_sub.append(i)\n",
    "  else:\n",
    "    list_of_cites_ind_sub.append(i)\n",
    "    for j in data[i]:\n",
    "      if(j!='link'):\n",
    "        list_of_cites_ind_sub.append(j)\n",
    "\n"
   ]
  },
  {
   "cell_type": "code",
   "execution_count": 4,
   "id": "f629b1a0",
   "metadata": {},
   "outputs": [
    {
     "data": {
      "text/plain": [
       "998"
      ]
     },
     "execution_count": 4,
     "metadata": {},
     "output_type": "execute_result"
    }
   ],
   "source": [
    "len(list_of_cites_ind_sub)"
   ]
  },
  {
   "cell_type": "code",
   "execution_count": 5,
   "id": "a5d4a8ea",
   "metadata": {},
   "outputs": [
    {
     "data": {
      "text/plain": [
       "995"
      ]
     },
     "execution_count": 5,
     "metadata": {},
     "output_type": "execute_result"
    }
   ],
   "source": [
    "len(set(list_of_cites_ind_sub))"
   ]
  },
  {
   "cell_type": "markdown",
   "id": "e2d6c6d0",
   "metadata": {},
   "source": [
    "#### There are 995 cities including the subregions"
   ]
  },
  {
   "cell_type": "code",
   "execution_count": null,
   "id": "fe21ec39",
   "metadata": {},
   "outputs": [],
   "source": []
  },
  {
   "cell_type": "markdown",
   "id": "c9d5d86b",
   "metadata": {},
   "source": [
    "### 2 How many cities  (don't include subregions) where Swiggy is having their restaurants listed?"
   ]
  },
  {
   "cell_type": "code",
   "execution_count": 6,
   "id": "ad8fdd5b",
   "metadata": {},
   "outputs": [],
   "source": [
    "list_of_cities=list(data.keys())"
   ]
  },
  {
   "cell_type": "code",
   "execution_count": 7,
   "id": "c07caf28",
   "metadata": {},
   "outputs": [
    {
     "data": {
      "text/plain": [
       "623"
      ]
     },
     "execution_count": 7,
     "metadata": {},
     "output_type": "execute_result"
    }
   ],
   "source": [
    "len(list_of_cities)"
   ]
  },
  {
   "cell_type": "code",
   "execution_count": 8,
   "id": "66611b00",
   "metadata": {},
   "outputs": [
    {
     "data": {
      "text/plain": [
       "623"
      ]
     },
     "execution_count": 8,
     "metadata": {},
     "output_type": "execute_result"
    }
   ],
   "source": [
    "len(set(list_of_cities))"
   ]
  },
  {
   "cell_type": "markdown",
   "id": "2baba53d",
   "metadata": {},
   "source": [
    "#### There are 623 cities without subregions"
   ]
  },
  {
   "cell_type": "code",
   "execution_count": null,
   "id": "20949e5c",
   "metadata": {},
   "outputs": [],
   "source": [
    "\n"
   ]
  },
  {
   "cell_type": "markdown",
   "id": "15b0eeab",
   "metadata": {},
   "source": [
    "### 3 The Subregion of Delhi with the maximum number of restaurants listed on Swiggy?"
   ]
  },
  {
   "cell_type": "code",
   "execution_count": 9,
   "id": "2ae8df29",
   "metadata": {},
   "outputs": [],
   "source": [
    "Delhi_subregion_no_rest={}\n",
    "for i in data['Delhi'].keys():\n",
    "  Delhi_subregion_no_rest[i]=len(data['Delhi'][i]['restaurants'].keys())"
   ]
  },
  {
   "cell_type": "code",
   "execution_count": 10,
   "id": "f90edd6d",
   "metadata": {},
   "outputs": [
    {
     "data": {
      "text/plain": [
       "{'Tis Hazari': 0,\n",
       " 'GTB Nagar': 685,\n",
       " 'Jasola': 403,\n",
       " 'Greater Noida': 5,\n",
       " 'Mayur Vihar': 675,\n",
       " 'BBK_MayurVihar': 1,\n",
       " 'Laxmi Nagar': 933,\n",
       " 'Punjabi Bagh': 186,\n",
       " 'Old Delhi': 143,\n",
       " 'Khan Market': 107,\n",
       " 'Greater Kailash 2': 1038,\n",
       " 'Ashok Vihar': 531,\n",
       " 'Noida Expressway': 1,\n",
       " 'South Extension': 378,\n",
       " 'Kaushambi': 0,\n",
       " 'Greater Kailash New': 81,\n",
       " 'Vasant Kunj': 456,\n",
       " 'Uttam Nagar': 528,\n",
       " 'Dilshad Gardens': 677,\n",
       " 'Connaught Place': 258,\n",
       " 'South Campus': 329,\n",
       " 'Rohini': 1138,\n",
       " 'BBK_Chattarpur': 1,\n",
       " 'Chattarpur': 636,\n",
       " 'Lajpat Nagar': 449,\n",
       " 'Kirti Nagar': 380,\n",
       " 'Janakpuri': 0,\n",
       " 'Karol Bagh': 0,\n",
       " 'Golf Course': 0,\n",
       " 'Indirapuram': 1279,\n",
       " 'Dwarka': 722,\n",
       " 'Rajouri Garden': 710,\n",
       " 'NSP': 451,\n",
       " 'Malviya Nagar': 901,\n",
       " 'Sector 18': 3,\n",
       " 'link': 301}"
      ]
     },
     "execution_count": 10,
     "metadata": {},
     "output_type": "execute_result"
    }
   ],
   "source": [
    "Delhi_subregion_no_rest"
   ]
  },
  {
   "cell_type": "code",
   "execution_count": 11,
   "id": "2eae6ec7",
   "metadata": {},
   "outputs": [],
   "source": [
    "max_value = max(Delhi_subregion_no_rest.values())\n",
    "max_keys = [k for k, v in Delhi_subregion_no_rest.items() if v == max_value]"
   ]
  },
  {
   "cell_type": "code",
   "execution_count": 12,
   "id": "45359e98",
   "metadata": {},
   "outputs": [
    {
     "name": "stdout",
     "output_type": "stream",
     "text": [
      "['Indirapuram'] 1279\n"
     ]
    }
   ],
   "source": [
    "print(max_keys,max_value)"
   ]
  },
  {
   "cell_type": "markdown",
   "id": "1d091c7b",
   "metadata": {},
   "source": [
    "#### Indirapuram is the subregion which has max num of resturant listed in Delhi "
   ]
  },
  {
   "cell_type": "code",
   "execution_count": null,
   "id": "23b804e5",
   "metadata": {},
   "outputs": [],
   "source": []
  },
  {
   "cell_type": "markdown",
   "id": "fb39a053",
   "metadata": {},
   "source": [
    "### 4 Name the top 5 Most Expensive Cities in the Datasets."
   ]
  },
  {
   "cell_type": "code",
   "execution_count": 13,
   "id": "59a12058",
   "metadata": {},
   "outputs": [],
   "source": [
    "dict_values1={}\n",
    "for i in data.keys():\n",
    "   \n",
    "    if(\"restaurants\" in list(data[i].keys())):\n",
    "         \n",
    "        cost_of_each_rest=[]\n",
    "        for rest_id in data[i]['restaurants'].keys():\n",
    "            try:\n",
    "                cost_val=int(data[i]['restaurants'][rest_id]['cost'].split()[1])\n",
    "            except:\n",
    "                cost_val=0\n",
    "            cost_of_each_rest.append(cost_val)\n",
    "            try:\n",
    "                dict_values1[i]=sum(cost_of_each_rest)/len(cost_of_each_rest)\n",
    "            except:\n",
    "                dict_values1[i]=0\n",
    "\n",
    "    else:\n",
    "   \n",
    "        cost_of_each_sub_cities=[]\n",
    "        for sub_city in data[i].keys():\n",
    "            cost_of_each_rest=[]\n",
    "            for rest_id in data[i][sub_city]['restaurants'].keys():\n",
    "                try:\n",
    "                    cost_val=int(data[i][sub_city]['restaurants'][rest_id]['cost'].split()[1])\n",
    "                except:\n",
    "                    cost_val=0\n",
    "                    pass\n",
    "                cost_of_each_rest.append(cost_val)\n",
    "         \n",
    "                \n",
    "            try:\n",
    "                cost_of_each_sub_cities.append(sum(cost_of_each_rest)//len(cost_of_each_rest))\n",
    "            except:\n",
    "                \n",
    "                cost_of_each_sub_cities.append(0)\n",
    "       \n",
    "        try:\n",
    "            dict_values1[i]=sum(cost_of_each_sub_cities)/len(cost_of_each_sub_cities)\n",
    "        except:\n",
    "            dict_values1[i]=0\n",
    "\n",
    "                \n",
    "        "
   ]
  },
  {
   "cell_type": "code",
   "execution_count": null,
   "id": "c6d55dd9",
   "metadata": {},
   "outputs": [],
   "source": []
  },
  {
   "cell_type": "code",
   "execution_count": 14,
   "id": "348e8eed",
   "metadata": {},
   "outputs": [],
   "source": [
    "sorted_dict = sorted(dict_values1.items(), key=lambda item: -item[1])"
   ]
  },
  {
   "cell_type": "code",
   "execution_count": 15,
   "id": "f5ee7d41",
   "metadata": {},
   "outputs": [
    {
     "data": {
      "text/plain": [
       "[('Hinganghat', 18962.4375),\n",
       " ('South-goa', 469.401023890785),\n",
       " ('North-goa', 467.8957264957265),\n",
       " ('Gangtok', 466.6666666666667),\n",
       " ('Mussoorie', 460.0)]"
      ]
     },
     "execution_count": 15,
     "metadata": {},
     "output_type": "execute_result"
    }
   ],
   "source": [
    "sorted_dict[0:5]"
   ]
  },
  {
   "cell_type": "markdown",
   "id": "cae27430",
   "metadata": {},
   "source": [
    "#### Here are the top 5 Expensive cities based on average cost of restaurants"
   ]
  },
  {
   "cell_type": "code",
   "execution_count": null,
   "id": "88c27935",
   "metadata": {},
   "outputs": [],
   "source": []
  },
  {
   "cell_type": "markdown",
   "id": "3d80acf9",
   "metadata": {},
   "source": [
    "### 5 List out the top 5 Restaurants with Maximum & minimum ratings throughout the dataset."
   ]
  },
  {
   "cell_type": "code",
   "execution_count": 16,
   "id": "0ebe114f",
   "metadata": {},
   "outputs": [],
   "source": [
    "dict_values2={}\n",
    "for i in data.keys():\n",
    "    \n",
    "\n",
    "    if(\"restaurants\" in list(data[i].keys())):\n",
    "        for rest_id in data[i]['restaurants'].keys():\n",
    "\n",
    "            try:\n",
    "\n",
    "                dict_values2[rest_id]=data[i]['restaurants'][rest_id]['rating']\n",
    "            except:\n",
    "                pass\n",
    "\n",
    "    else:\n",
    "\n",
    "        for sub_city in data[i].keys():\n",
    "\n",
    "            for rest_id in data[i][sub_city]['restaurants'].keys():\n",
    "                try:\n",
    "\n",
    "\n",
    "                    dict_values2[rest_id]=data[i][sub_city]['restaurants'][rest_id]['rating']\n",
    "                except:\n",
    "                    pass\n",
    "\n",
    "\n",
    "\n",
    "\n",
    "\n",
    "\n",
    "\n",
    "\n"
   ]
  },
  {
   "cell_type": "code",
   "execution_count": 17,
   "id": "626378c1",
   "metadata": {},
   "outputs": [],
   "source": [
    "MAP_ID_NAME={}\n",
    "for i in data.keys():\n",
    "    \n",
    "\n",
    "    if(\"restaurants\" in list(data[i].keys())):\n",
    "        for rest_id in data[i]['restaurants'].keys():\n",
    "\n",
    "            try:\n",
    "\n",
    "                MAP_ID_NAME[rest_id]=data[i]['restaurants'][rest_id]['name']\n",
    "            except:\n",
    "                pass\n",
    "\n",
    "    else:\n",
    "\n",
    "        for sub_city in data[i].keys():\n",
    "\n",
    "            for rest_id in data[i][sub_city]['restaurants'].keys():\n",
    "                try:\n",
    "\n",
    "\n",
    "                    MAP_ID_NAME[rest_id]=data[i][sub_city]['restaurants'][rest_id]['name']\n",
    "                except:\n",
    "                    pass"
   ]
  },
  {
   "cell_type": "code",
   "execution_count": 18,
   "id": "28496f00",
   "metadata": {},
   "outputs": [],
   "source": [
    "# filtering and converting strings to floting numbers\n",
    "filtered_dict={}\n",
    "for i in dict_values2:\n",
    "    if(dict_values2[i] != '--'):\n",
    "        try:\n",
    "            filtered_dict[i]=float(dict_values2[i])\n",
    "        except:\n",
    "            pass"
   ]
  },
  {
   "cell_type": "code",
   "execution_count": 19,
   "id": "f1766a86",
   "metadata": {},
   "outputs": [],
   "source": [
    "sorted_dict_acc = sorted(filtered_dict.items(), key=lambda item: item[1])"
   ]
  },
  {
   "cell_type": "code",
   "execution_count": 20,
   "id": "a0895b9d",
   "metadata": {},
   "outputs": [
    {
     "data": {
      "text/plain": [
       "[('392000', 1.0),\n",
       " ('359391', 1.1),\n",
       " ('471181', 1.2),\n",
       " ('500567', 1.2),\n",
       " ('494551', 1.2)]"
      ]
     },
     "execution_count": 20,
     "metadata": {},
     "output_type": "execute_result"
    }
   ],
   "source": [
    "#Top 5 minimum rating\n",
    "sorted_dict_acc[0:5]"
   ]
  },
  {
   "cell_type": "code",
   "execution_count": 21,
   "id": "2b959124",
   "metadata": {},
   "outputs": [
    {
     "name": "stdout",
     "output_type": "stream",
     "text": [
      "Ice Cream and Shakes Co 1.0\n",
      "Persian Delight 1.1\n",
      "SHAWARMA WRAP - ROLL YOUR SECRETS 1.2\n",
      "THE TARI STORY 1.2\n",
      "The Hyderabadi Biryani House 1.2\n"
     ]
    }
   ],
   "source": [
    "for i in sorted_dict_acc[0:5]:\n",
    "    print(MAP_ID_NAME[i[0]],i[1])"
   ]
  },
  {
   "cell_type": "code",
   "execution_count": 22,
   "id": "fa3046e8",
   "metadata": {},
   "outputs": [
    {
     "data": {
      "text/plain": [
       "[('498111', 5.0),\n",
       " ('498117', 5.0),\n",
       " ('498116', 5.0),\n",
       " ('563412', 5.0),\n",
       " ('563357', 5.0)]"
      ]
     },
     "execution_count": 22,
     "metadata": {},
     "output_type": "execute_result"
    }
   ],
   "source": [
    "#Top 5 max rating\n",
    "sorted_dict_acc[::-1][0:5]"
   ]
  },
  {
   "cell_type": "code",
   "execution_count": 23,
   "id": "3e4c239a",
   "metadata": {},
   "outputs": [
    {
     "name": "stdout",
     "output_type": "stream",
     "text": [
      "DELHI GALLI 5.0\n",
      "KEBAB NATION 5.0\n",
      "HINDUSTANI BURGER 5.0\n",
      "Cream House 5.0\n",
      "Maa Ki Rasoi 5.0\n"
     ]
    }
   ],
   "source": [
    "for i in sorted_dict_acc[::-1][0:5]:\n",
    "    print(MAP_ID_NAME[i[0]],i[1])"
   ]
  },
  {
   "cell_type": "markdown",
   "id": "4971537a",
   "metadata": {},
   "source": [
    "#### Above are the top 5 min and max rated restaurant id"
   ]
  },
  {
   "cell_type": "code",
   "execution_count": null,
   "id": "0e3098ed",
   "metadata": {},
   "outputs": [],
   "source": []
  },
  {
   "cell_type": "markdown",
   "id": "cb58d825",
   "metadata": {},
   "source": [
    "### 6 Name of top 5 cities with the highest number of restaurants listed."
   ]
  },
  {
   "cell_type": "code",
   "execution_count": null,
   "id": "d6f14754",
   "metadata": {},
   "outputs": [],
   "source": []
  },
  {
   "cell_type": "code",
   "execution_count": 24,
   "id": "defef165",
   "metadata": {},
   "outputs": [],
   "source": [
    "dict_values3={}\n",
    "for i in data.keys():\n",
    "\n",
    "    if(\"restaurants\" in list(data[i].keys())):\n",
    "\n",
    "        dict_values3[i]=len(data[i]['restaurants'].keys())\n",
    "\n",
    "\n",
    "    else:\n",
    "        sub_city1=[]\n",
    "        for sub_city in data[i].keys():\n",
    "  \n",
    "\n",
    "            sub_city1.append(len(data[i][sub_city]['restaurants'].keys()))\n",
    "    \n",
    "\n",
    "\n",
    "        dict_values3[i]=sum(sub_city1)"
   ]
  },
  {
   "cell_type": "code",
   "execution_count": null,
   "id": "0150ad46",
   "metadata": {},
   "outputs": [],
   "source": []
  },
  {
   "cell_type": "code",
   "execution_count": 26,
   "id": "195077e9",
   "metadata": {},
   "outputs": [],
   "source": [
    "sorted_dict_dec = sorted(dict_values3.items(), key=lambda item: -item[1])"
   ]
  },
  {
   "cell_type": "code",
   "execution_count": 27,
   "id": "36b54118",
   "metadata": {},
   "outputs": [
    {
     "data": {
      "text/plain": [
       "[('Bangalore', 16701),\n",
       " ('Delhi', 14386),\n",
       " ('Pune', 13145),\n",
       " ('Hyderabad', 12439),\n",
       " ('Chennai', 10987)]"
      ]
     },
     "execution_count": 27,
     "metadata": {},
     "output_type": "execute_result"
    }
   ],
   "source": [
    "sorted_dict_dec[0:5]"
   ]
  },
  {
   "cell_type": "markdown",
   "id": "d8229c46",
   "metadata": {},
   "source": [
    "#### Top 5 cities having highest num of restaurants listed"
   ]
  },
  {
   "cell_type": "code",
   "execution_count": null,
   "id": "f9d44ebc",
   "metadata": {},
   "outputs": [],
   "source": []
  },
  {
   "cell_type": "markdown",
   "id": "f8c4f074",
   "metadata": {},
   "source": [
    "### 7 Top 10 cities as per the number of restaurants listed?"
   ]
  },
  {
   "cell_type": "code",
   "execution_count": 28,
   "id": "ef7d5d2b",
   "metadata": {},
   "outputs": [],
   "source": [
    "# This is the same question as above but with top 10 "
   ]
  },
  {
   "cell_type": "code",
   "execution_count": 29,
   "id": "76375e8f",
   "metadata": {},
   "outputs": [
    {
     "data": {
      "text/plain": [
       "[('Bangalore', 16701),\n",
       " ('Delhi', 14386),\n",
       " ('Pune', 13145),\n",
       " ('Hyderabad', 12439),\n",
       " ('Chennai', 10987),\n",
       " ('Kolkata', 9651),\n",
       " ('Mumbai', 7221),\n",
       " ('Jaipur', 6250),\n",
       " ('Ahmedabad', 4736),\n",
       " ('Gurgaon', 4106)]"
      ]
     },
     "execution_count": 29,
     "metadata": {},
     "output_type": "execute_result"
    }
   ],
   "source": [
    "# Top 10 cites which has high count restaurants listed\n",
    "sorted_dict_dec[0:10]"
   ]
  },
  {
   "cell_type": "code",
   "execution_count": 30,
   "id": "c7c4effa",
   "metadata": {},
   "outputs": [
    {
     "data": {
      "text/plain": [
       "[('Wayanad', 0),\n",
       " ('Viluppuram', 0),\n",
       " ('Unnao', 0),\n",
       " ('Udhampur', 0),\n",
       " ('Tiruttani', 0),\n",
       " ('Tindivanam', 0),\n",
       " ('Thoubal', 0),\n",
       " ('Suri', 0),\n",
       " ('Sitamarhi', 0),\n",
       " ('Sirkali', 0)]"
      ]
     },
     "execution_count": 30,
     "metadata": {},
     "output_type": "execute_result"
    }
   ],
   "source": [
    "# Top 10 cites which has low count restaurants listed\n",
    "sorted_dict_dec[::-1][0:10]"
   ]
  },
  {
   "cell_type": "code",
   "execution_count": null,
   "id": "ca98ec61",
   "metadata": {},
   "outputs": [],
   "source": []
  },
  {
   "cell_type": "markdown",
   "id": "b80fcd90",
   "metadata": {},
   "source": [
    "### 8 Name the top 5 Most Popular Restaurants in Pune."
   ]
  },
  {
   "cell_type": "markdown",
   "id": "4ebce455",
   "metadata": {},
   "source": [
    "popularity of a resturant is based on ratings"
   ]
  },
  {
   "cell_type": "code",
   "execution_count": 31,
   "id": "9179f20f",
   "metadata": {},
   "outputs": [],
   "source": [
    "dict_values2={}\n",
    "for i in data.keys():\n",
    "    if(i==\"Pune\"):\n",
    "    \n",
    "\n",
    "        if(\"restaurants\" in list(data[i].keys())):\n",
    "            for rest_id in data[i]['restaurants'].keys():\n",
    "\n",
    "                try:\n",
    "\n",
    "                    dict_values2[rest_id]=data[i]['restaurants'][rest_id]['rating']\n",
    "                except:\n",
    "                    pass\n",
    "\n",
    "        else:\n",
    "\n",
    "            for sub_city in data[i].keys():\n",
    "\n",
    "                for rest_id in data[i][sub_city]['restaurants'].keys():\n",
    "                    try:\n",
    "\n",
    "\n",
    "                        dict_values2[rest_id]=data[i][sub_city]['restaurants'][rest_id]['rating']\n",
    "                    except:\n",
    "                        pass"
   ]
  },
  {
   "cell_type": "code",
   "execution_count": 32,
   "id": "704de18d",
   "metadata": {},
   "outputs": [],
   "source": [
    "helper_dict={}\n",
    "popular_rest={}\n",
    "\n",
    "for i in dict_values2.keys():\n",
    "    helper_dict[i]=MAP_ID_NAME[i]\n",
    "\n",
    "list_helper=list(helper_dict.values())\n",
    "\n",
    "\n",
    "for item in list_helper:\n",
    "    popular_rest[item] = popular_rest.get(item, 0) + 1\n"
   ]
  },
  {
   "cell_type": "code",
   "execution_count": 33,
   "id": "bcd47679",
   "metadata": {},
   "outputs": [],
   "source": [
    "sorted_dict_dec = sorted(popular_rest.items(), key=lambda item: -item[1])"
   ]
  },
  {
   "cell_type": "code",
   "execution_count": 34,
   "id": "c68e6217",
   "metadata": {},
   "outputs": [
    {
     "data": {
      "text/plain": [
       "[(\"Domino's Pizza\", 26),\n",
       " ('Rolls Mania', 25),\n",
       " ('BOX8 - Desi Meals', 23),\n",
       " ('Kwality Walls Frozen Dessert and Ice Cream Shop', 22),\n",
       " ('ZAZA 22 Spice Biryani', 22)]"
      ]
     },
     "execution_count": 34,
     "metadata": {},
     "output_type": "execute_result"
    }
   ],
   "source": [
    "sorted_dict_dec[:5]"
   ]
  },
  {
   "cell_type": "code",
   "execution_count": null,
   "id": "f35027e2",
   "metadata": {},
   "outputs": [],
   "source": []
  },
  {
   "cell_type": "code",
   "execution_count": null,
   "id": "a5cc37c2",
   "metadata": {},
   "outputs": [],
   "source": []
  },
  {
   "cell_type": "code",
   "execution_count": null,
   "id": "7a9725d6",
   "metadata": {},
   "outputs": [],
   "source": []
  },
  {
   "cell_type": "markdown",
   "id": "47d975be",
   "metadata": {},
   "source": [
    "#### Here are the top popular resturant in Pune"
   ]
  },
  {
   "cell_type": "code",
   "execution_count": null,
   "id": "c4e06615",
   "metadata": {},
   "outputs": [],
   "source": []
  },
  {
   "cell_type": "markdown",
   "id": "9b46d5c8",
   "metadata": {},
   "source": [
    "### 9 Which SubRegion in Delhi is having the least expensive restaurant in terms of cost?"
   ]
  },
  {
   "cell_type": "code",
   "execution_count": 35,
   "id": "f3da830f",
   "metadata": {},
   "outputs": [],
   "source": [
    "d={}\n",
    "for sub_city in data['Delhi'].keys():\n",
    "    cost_of_each_rest=[]\n",
    "    for rest_id in data['Delhi'][sub_city]['restaurants'].keys():\n",
    "\n",
    "\n",
    "\n",
    "        try:\n",
    "            cost_val=int(data['Delhi'][sub_city]['restaurants'][rest_id]['cost'].split()[1])\n",
    " \n",
    "        except:\n",
    "            cost_val=0\n",
    "            pass\n",
    "        cost_of_each_rest.append(cost_val)\n",
    "    try:\n",
    "        d[sub_city]=sum(cost_of_each_rest)/len(cost_of_each_rest)\n",
    "    except:\n",
    "        pass\n"
   ]
  },
  {
   "cell_type": "code",
   "execution_count": 36,
   "id": "037656ef",
   "metadata": {},
   "outputs": [],
   "source": [
    "sorted_dict_dec = sorted(d.items(), key=lambda item: item[1])"
   ]
  },
  {
   "cell_type": "code",
   "execution_count": 37,
   "id": "5b4a21de",
   "metadata": {},
   "outputs": [
    {
     "data": {
      "text/plain": [
       "[('Sector 18', 236.66666666666666),\n",
       " ('Uttam Nagar', 253.3219696969697),\n",
       " ('Laxmi Nagar', 270.1950696677385),\n",
       " ('Mayur Vihar', 275.05925925925925),\n",
       " ('Rohini', 277.6695957820738)]"
      ]
     },
     "execution_count": 37,
     "metadata": {},
     "output_type": "execute_result"
    }
   ],
   "source": [
    "sorted_dict_dec[1:6]"
   ]
  },
  {
   "cell_type": "markdown",
   "id": "4234a044",
   "metadata": {},
   "source": [
    "#### These are the sub cities which is least expensive restaurant and their avg price of cost "
   ]
  },
  {
   "cell_type": "code",
   "execution_count": null,
   "id": "e0d0dc3f",
   "metadata": {},
   "outputs": [],
   "source": []
  },
  {
   "cell_type": "markdown",
   "id": "dd22b699",
   "metadata": {},
   "source": [
    "### 10 Top 5 most popular restaurant chains in India?"
   ]
  },
  {
   "cell_type": "code",
   "execution_count": 38,
   "id": "4ecda4f7",
   "metadata": {},
   "outputs": [],
   "source": [
    "# Popularity of restaurant is based on how many different brances are there in across india"
   ]
  },
  {
   "cell_type": "code",
   "execution_count": 39,
   "id": "ae9d97bf",
   "metadata": {},
   "outputs": [],
   "source": [
    "#We have a list of all restaurant names and ids\n",
    "popular_rest={}\n",
    "list_helper=list(MAP_ID_NAME.values())\n",
    "\n",
    "\n",
    "for item in list_helper:\n",
    "    popular_rest[item] = popular_rest.get(item, 0) + 1\n",
    "\n",
    "\n",
    "\n"
   ]
  },
  {
   "cell_type": "code",
   "execution_count": 40,
   "id": "62d931f6",
   "metadata": {},
   "outputs": [],
   "source": [
    "sorted_dict_dec = sorted(popular_rest.items(), key=lambda item: -item[1])"
   ]
  },
  {
   "cell_type": "code",
   "execution_count": 41,
   "id": "a7751626",
   "metadata": {},
   "outputs": [
    {
     "data": {
      "text/plain": [
       "[(\"Domino's Pizza\", 468),\n",
       " ('Pizza Hut', 338),\n",
       " ('KFC', 325),\n",
       " ('Kwality Walls Frozen Dessert and Ice Cream Shop', 319),\n",
       " ('Baskin Robbins', 296)]"
      ]
     },
     "execution_count": 41,
     "metadata": {},
     "output_type": "execute_result"
    }
   ],
   "source": [
    "sorted_dict_dec[:5]"
   ]
  },
  {
   "cell_type": "markdown",
   "id": "bd0c0d33",
   "metadata": {},
   "source": [
    "#### These are the top popular restaurant chains in India"
   ]
  },
  {
   "cell_type": "code",
   "execution_count": null,
   "id": "28835bab",
   "metadata": {},
   "outputs": [],
   "source": []
  },
  {
   "cell_type": "markdown",
   "id": "ab50c993",
   "metadata": {},
   "source": [
    "### 11 Which restaurant in Pune has the most number of people visiting?"
   ]
  },
  {
   "cell_type": "markdown",
   "id": "4f5f3aa2",
   "metadata": {},
   "source": [
    "##### If the resturant has good num of ratings then we can consider as people has vitied more , \n",
    "##### this might not be true since we do not have people level info we are considring this."
   ]
  },
  {
   "cell_type": "code",
   "execution_count": 42,
   "id": "920bf9fa",
   "metadata": {},
   "outputs": [],
   "source": [
    "dict_values2={}\n",
    "for i in data.keys():\n",
    "    if(i==\"Pune\"):\n",
    "    \n",
    "\n",
    "        if(\"restaurants\" in list(data[i].keys())):\n",
    "            for rest_id in data[i]['restaurants'].keys():\n",
    "\n",
    "                try:\n",
    "\n",
    "                    dict_values2[rest_id]=data[i]['restaurants'][rest_id]['rating']\n",
    "                except:\n",
    "                    pass\n",
    "\n",
    "        else:\n",
    "\n",
    "            for sub_city in data[i].keys():\n",
    "\n",
    "                for rest_id in data[i][sub_city]['restaurants'].keys():\n",
    "                    try:\n",
    "\n",
    "\n",
    "                        dict_values2[rest_id]=data[i][sub_city]['restaurants'][rest_id]['rating']\n",
    "                    except:\n",
    "                        pass"
   ]
  },
  {
   "cell_type": "code",
   "execution_count": 43,
   "id": "a0719ce2",
   "metadata": {},
   "outputs": [],
   "source": [
    "filtered_dict={}\n",
    "for i in dict_values2:\n",
    "    if(dict_values2[i] != '--'):\n",
    "        try:\n",
    "            filtered_dict[i]=float(dict_values2[i])\n",
    "        except:\n",
    "            pass"
   ]
  },
  {
   "cell_type": "code",
   "execution_count": 44,
   "id": "22fa307d",
   "metadata": {},
   "outputs": [],
   "source": [
    "sorted_dict_acc = sorted(filtered_dict.items(), key=lambda item: -item[1])"
   ]
  },
  {
   "cell_type": "code",
   "execution_count": 45,
   "id": "3780adae",
   "metadata": {},
   "outputs": [
    {
     "data": {
      "text/plain": [
       "[('533842', 5.0),\n",
       " ('558835', 5.0),\n",
       " ('572017', 5.0),\n",
       " ('534521', 5.0),\n",
       " ('558827', 5.0)]"
      ]
     },
     "execution_count": 45,
     "metadata": {},
     "output_type": "execute_result"
    }
   ],
   "source": [
    "sorted_dict_acc[0:5]"
   ]
  },
  {
   "cell_type": "code",
   "execution_count": 46,
   "id": "0460ed56",
   "metadata": {},
   "outputs": [
    {
     "name": "stdout",
     "output_type": "stream",
     "text": [
      "The Samosa Man 5.0\n",
      "HRX by Eatfit 5.0\n",
      "CIRCLE OF CRUST 5.0\n",
      "Smoodies & Juices: Your Fruitfully 5.0\n",
      "HRX by Eatfit 5.0\n"
     ]
    }
   ],
   "source": [
    "for i in sorted_dict_acc[0:5]:\n",
    "    print(MAP_ID_NAME[i[0]],i[1])"
   ]
  },
  {
   "cell_type": "code",
   "execution_count": null,
   "id": "763e1ee0",
   "metadata": {},
   "outputs": [],
   "source": []
  },
  {
   "cell_type": "markdown",
   "id": "aad630ee",
   "metadata": {},
   "source": [
    "### 12 Top 10 Restaurants with Maximum Ratings in Banglore"
   ]
  },
  {
   "cell_type": "code",
   "execution_count": null,
   "id": "d285b6df",
   "metadata": {},
   "outputs": [],
   "source": []
  },
  {
   "cell_type": "code",
   "execution_count": 47,
   "id": "077be488",
   "metadata": {},
   "outputs": [],
   "source": [
    "dict_values2={}\n",
    "for i in data.keys():\n",
    "    if(i==\"Bangalore\"):\n",
    "    \n",
    "\n",
    "        if(\"restaurants\" in list(data[i].keys())):\n",
    "            for rest_id in data[i]['restaurants'].keys():\n",
    "\n",
    "                try:\n",
    "\n",
    "                    dict_values2[rest_id]=data[i]['restaurants'][rest_id]['rating']\n",
    "                except:\n",
    "                    pass\n",
    "\n",
    "        else:\n",
    "\n",
    "            for sub_city in data[i].keys():\n",
    "\n",
    "                for rest_id in data[i][sub_city]['restaurants'].keys():\n",
    "                    try:\n",
    "\n",
    "\n",
    "                        dict_values2[rest_id]=data[i][sub_city]['restaurants'][rest_id]['rating']\n",
    "                    except:\n",
    "                        pass"
   ]
  },
  {
   "cell_type": "code",
   "execution_count": 48,
   "id": "4811e2f2",
   "metadata": {},
   "outputs": [],
   "source": [
    "filtered_dict={}\n",
    "for i in dict_values2:\n",
    "    if(dict_values2[i] != '--'):\n",
    "        try:\n",
    "            filtered_dict[i]=float(dict_values2[i])\n",
    "        except:\n",
    "            pass"
   ]
  },
  {
   "cell_type": "code",
   "execution_count": 49,
   "id": "89503d5f",
   "metadata": {},
   "outputs": [],
   "source": [
    "sorted_dict_acc = sorted(filtered_dict.items(), key=lambda item: -item[1])"
   ]
  },
  {
   "cell_type": "code",
   "execution_count": 50,
   "id": "953b02dd",
   "metadata": {},
   "outputs": [
    {
     "data": {
      "text/plain": [
       "[('528286', 5.0),\n",
       " ('530981', 5.0),\n",
       " ('530240', 5.0),\n",
       " ('557976', 5.0),\n",
       " ('447104', 5.0),\n",
       " ('570480', 5.0),\n",
       " ('558761', 5.0),\n",
       " ('560433', 5.0),\n",
       " ('536573', 5.0),\n",
       " ('561875', 5.0)]"
      ]
     },
     "execution_count": 50,
     "metadata": {},
     "output_type": "execute_result"
    }
   ],
   "source": [
    "sorted_dict_acc[0:10]"
   ]
  },
  {
   "cell_type": "code",
   "execution_count": 51,
   "id": "73c02a85",
   "metadata": {},
   "outputs": [
    {
     "name": "stdout",
     "output_type": "stream",
     "text": [
      "Creams and Bites 5.0\n",
      "Bansal's Thali & Combo Meals 5.0\n",
      "GOWHEY- HEALTHY DESSERT COMPANY 5.0\n",
      "JUST CREAMERY - Artisanal Healthy Ice Cream 5.0\n",
      "The Chinese Connection 5.0\n",
      "SHAWARMA INDIAH 5.0\n",
      "HRX by Eatfit 5.0\n",
      "HUNGER TREATS 5.0\n",
      "Snack Ride 5.0\n",
      "JUST CREAMERY - Artisanal Healthy Ice Cream 5.0\n"
     ]
    }
   ],
   "source": [
    "for i in sorted_dict_acc[0:10]:\n",
    "    print(MAP_ID_NAME[i[0]],i[1])"
   ]
  },
  {
   "cell_type": "markdown",
   "id": "2492592c",
   "metadata": {},
   "source": [
    "#### These are the top 10 rated restaurants in banglore"
   ]
  },
  {
   "cell_type": "code",
   "execution_count": null,
   "id": "415f3c97",
   "metadata": {},
   "outputs": [],
   "source": []
  },
  {
   "cell_type": "markdown",
   "id": "e6687483",
   "metadata": {},
   "source": [
    "### 13 Top 10 Restaurant in Patna w.r.t rating "
   ]
  },
  {
   "cell_type": "code",
   "execution_count": 52,
   "id": "72cc2bae",
   "metadata": {},
   "outputs": [],
   "source": [
    "dict_values2={}\n",
    "for i in data.keys():\n",
    "    if(i==\"Patna\"):\n",
    "    \n",
    "\n",
    "        if(\"restaurants\" in list(data[i].keys())):\n",
    "            for rest_id in data[i]['restaurants'].keys():\n",
    "\n",
    "                try:\n",
    "\n",
    "                    dict_values2[rest_id]=data[i]['restaurants'][rest_id]['rating']\n",
    "                except:\n",
    "                    pass\n",
    "\n",
    "        else:\n",
    "\n",
    "            for sub_city in data[i].keys():\n",
    "\n",
    "                for rest_id in data[i][sub_city]['restaurants'].keys():\n",
    "                    try:\n",
    "\n",
    "\n",
    "                        dict_values2[rest_id]=data[i][sub_city]['restaurants'][rest_id]['rating']\n",
    "                    except:\n",
    "                        pass"
   ]
  },
  {
   "cell_type": "code",
   "execution_count": 53,
   "id": "34630b23",
   "metadata": {},
   "outputs": [],
   "source": [
    "filtered_dict={}\n",
    "for i in dict_values2:\n",
    "    if(dict_values2[i] != '--'):\n",
    "        try:\n",
    "            filtered_dict[i]=float(dict_values2[i])\n",
    "        except:\n",
    "            pass"
   ]
  },
  {
   "cell_type": "code",
   "execution_count": 54,
   "id": "f55f47c9",
   "metadata": {},
   "outputs": [],
   "source": [
    "sorted_dict_acc = sorted(filtered_dict.items(), key=lambda item: -item[1])"
   ]
  },
  {
   "cell_type": "code",
   "execution_count": 55,
   "id": "2f337af6",
   "metadata": {},
   "outputs": [
    {
     "data": {
      "text/plain": [
       "[('290590', 4.6),\n",
       " ('550814', 4.6),\n",
       " ('561789', 4.5),\n",
       " ('550713', 4.5),\n",
       " ('553020', 4.5),\n",
       " ('560369', 4.5),\n",
       " ('561782', 4.4),\n",
       " ('550907', 4.4),\n",
       " ('492420', 4.4),\n",
       " ('469839', 4.4)]"
      ]
     },
     "execution_count": 55,
     "metadata": {},
     "output_type": "execute_result"
    }
   ],
   "source": [
    "sorted_dict_acc[0:10]"
   ]
  },
  {
   "cell_type": "code",
   "execution_count": 56,
   "id": "2306a1f8",
   "metadata": {},
   "outputs": [
    {
     "name": "stdout",
     "output_type": "stream",
     "text": [
      "Kwality Walls Frozen Dessert and Ice Cream Shop 4.6\n",
      "Slurpy Shakes 4.6\n",
      "Kouzina Kafe The Food Court 4.5\n",
      "Cupcake Bliss Cake & Desserts 4.5\n",
      "Burger It Up 4.5\n",
      "GARAGE KITCHEN 4.5\n",
      "Indiana Burgers 4.4\n",
      "The Dessert Zone 4.4\n",
      "Pure Veg Meals by Lunchbox 4.4\n",
      "KINGDOM OF MOMOS 4.4\n"
     ]
    }
   ],
   "source": [
    "for i in sorted_dict_acc[0:10]:\n",
    "    print(MAP_ID_NAME[i[0]],i[1])"
   ]
  },
  {
   "cell_type": "markdown",
   "id": "a6138eda",
   "metadata": {},
   "source": [
    "#### These are the top 10 rated restaurants in Patna"
   ]
  }
 ],
 "metadata": {
  "kernelspec": {
   "display_name": "Python 3",
   "language": "python",
   "name": "python3"
  },
  "language_info": {
   "codemirror_mode": {
    "name": "ipython",
    "version": 3
   },
   "file_extension": ".py",
   "mimetype": "text/x-python",
   "name": "python",
   "nbconvert_exporter": "python",
   "pygments_lexer": "ipython3",
   "version": "3.8.8"
  }
 },
 "nbformat": 4,
 "nbformat_minor": 5
}
